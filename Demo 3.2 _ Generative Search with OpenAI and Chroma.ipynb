{
 "cells": [
  {
   "cell_type": "markdown",
   "metadata": {
    "id": "ghrNO9TjM_mS"
   },
   "source": [
    "## 1. <font color = red> Install and Import the Required Libraries"
   ]
  },
  {
   "cell_type": "code",
   "execution_count": 87,
   "metadata": {
    "colab": {
     "base_uri": "https://localhost:8080/"
    },
    "executionInfo": {
     "elapsed": 151680,
     "status": "ok",
     "timestamp": 1755489466297,
     "user": {
      "displayName": "rajiv gaba",
      "userId": "13118308539763094196"
     },
     "user_tz": -330
    },
    "id": "8PsPVtxoSY_V",
    "outputId": "203a1305-d515-42af-9fc6-5680116e6c79"
   },
   "outputs": [
    {
     "name": "stderr",
     "output_type": "stream",
     "text": [
      "huggingface/tokenizers: The current process just got forked, after parallelism has already been used. Disabling parallelism to avoid deadlocks...\n",
      "To disable this warning, you can either:\n",
      "\t- Avoid using `tokenizers` before the fork if possible\n",
      "\t- Explicitly set the environment variable TOKENIZERS_PARALLELISM=(true | false)\n"
     ]
    }
   ],
   "source": [
    "# Install all the required libraries\n",
    "!pip install -U -q pdfplumber tiktoken openai chromadb sentence-transformers"
   ]
  },
  {
   "cell_type": "code",
   "execution_count": 88,
   "metadata": {
    "id": "R7uDlZS0M99u"
   },
   "outputs": [],
   "source": [
    "# Import all the required Libraries\n",
    "\n",
    "import pdfplumber\n",
    "from pathlib import Path\n",
    "import pandas as pd\n",
    "from operator import itemgetter\n",
    "import json\n",
    "import tiktoken\n",
    "import openai\n",
    "import chromadb"
   ]
  },
  {
   "cell_type": "code",
   "execution_count": 89,
   "metadata": {
    "colab": {
     "base_uri": "https://localhost:8080/"
    },
    "executionInfo": {
     "elapsed": 25524,
     "status": "ok",
     "timestamp": 1712732690954,
     "user": {
      "displayName": "Henry Isaac",
      "userId": "09127918064436985573"
     },
     "user_tz": -330
    },
    "id": "xl87i2pdQUIq",
    "outputId": "3cee1a0b-0dea-4912-a810-57693b249344"
   },
   "outputs": [],
   "source": [
    "try:\n",
    "    # Mount Google Drive\n",
    "    from google.colab import drive\n",
    "    drive.mount('/content/drive', force_remount=True)\n",
    "except:\n",
    "    import dotenv, os\n",
    "    dotenv.load_dotenv()\n",
    "    OPENAI_API_KEY = os.getenv(\"OPENAI_API_KEY\")\n",
    "    PPLX_API_KEY = os.getenv(\"PPLX_API_KEY\")"
   ]
  },
  {
   "cell_type": "markdown",
   "metadata": {
    "id": "l-CoovqcqgkM"
   },
   "source": [
    "## 2. <font color = red> Read, Process, and Chunk the PDF Files\n",
    "\n",
    "We will be using [pdfplumber](https://https://pypi.org/project/pdfplumber/) to read and process the PDF files.\n",
    "\n",
    "`pdfplumber` allows for better parsing of the PDF file as it can read various elements of the PDF apart from the plain text, such as, tables, images, etc. It also offers wide functionaties and visual debugging features to help with advanced preprocessing as well."
   ]
  },
  {
   "cell_type": "code",
   "execution_count": 90,
   "metadata": {
    "id": "D-5PTZeh2l-C"
   },
   "outputs": [],
   "source": [
    "# Define the path of the PDF\n",
    "# single_pdf_path = '/content/drive/MyDrive/HelpMate/Policy Documents/HDFC-Life-Easy-Health-101N110V03-Policy-Bond-Single-Pay.pdf'\n",
    "# single_pdf_path = \"/content/drive/My Drive/HelpMate/Policy Documents/HDFC-Life-Group-Poorna-Suraksha-101N137V02-Policy-Document.pdf\"\n",
    "single_pdf_path = \"Policy Documents/HDFC-Life-Group-Poorna-Suraksha-101N137V02-Policy-Document.pdf\""
   ]
  },
  {
   "cell_type": "markdown",
   "metadata": {
    "id": "YDMaFpe4p6Dx"
   },
   "source": [
    "#### <font color = red>  2.1 Reading a single PDF file and exploring it through pdfplumber"
   ]
  },
  {
   "cell_type": "code",
   "execution_count": 91,
   "metadata": {
    "colab": {
     "base_uri": "https://localhost:8080/"
    },
    "executionInfo": {
     "elapsed": 1917,
     "status": "ok",
     "timestamp": 1712732784356,
     "user": {
      "displayName": "Henry Isaac",
      "userId": "09127918064436985573"
     },
     "user_tz": -330
    },
    "id": "FHFLn9wn2Xea",
    "outputId": "69762ec1-dc49-4f7b-a6c9-9395c69731c6"
   },
   "outputs": [
    {
     "name": "stdout",
     "output_type": "stream",
     "text": [
      "Part C\n",
      "1. Benefits:\n",
      "(1) Benefits on Death or diagnosis of contingency covered –\n",
      "Plan Option Events Benefit\n",
      "Life Death In the event of the death of the Scheme Member, the\n",
      "benefit payable shall be the Sum Assured.\n",
      "Extra Life Option Death In the event of the death of the Scheme Member, the\n",
      "benefit payable shall be the Sum Assured.\n",
      "Accidental Death In event of the Scheme Member’s death due to\n",
      "Accident, an additional death benefit equal to the Sum\n",
      "Assured will be payable.\n",
      "This is in addition to the death benefit mentioned\n",
      "above\n",
      "Accelerated Critical Illness Death In the event of the death of the Scheme Member, the\n",
      "Option benefit payable shall be the Sum Assured.\n",
      "Diagnosis of a In the event of Scheme Member being diagnosed with\n",
      "Critical Illness any of the covered Critical Illnesses during the Policy\n",
      "Term, the benefit payable shall be the Sum Assured\n",
      "and the policy will terminate.\n",
      "a. The Policy Term, Sum Assured, Cover option, and Mode of Premium Payment will be chosen by Scheme\n",
      "Member and these may vary from one Scheme Member to another.\n",
      "b. The Certificate of Insurance issued to a Scheme Member will set out the benefit payable in respect of that\n",
      "Scheme Member during the Coverage Term.\n",
      "c. The benefits specified in the Certificate of Insurance are payable provided the Scheme Member’s death or\n",
      "Accidental Death has occurred during the Coverage Term of the Scheme Member or in case of diagnosis of any\n",
      "one of the Critical Illnesses or undergoing any of the covered surgeries during the coverage term, subject to\n",
      "Master Policy being in force and all due Premiums, Taxes and any Other Levies been paid and subject to any\n",
      "restrictions or qualifications referred to in these Clauses.\n",
      "d. If Accelerated Critical Illness Option is chosen, in the event of the Scheme Member being diagnosed on first\n",
      "occurrence of any of the Critical Illness or undergoing any of the covered surgeries listed below during the\n",
      "coverage term, the Accelerated Critical Illness Benefit shall be payable under the Master Policy. After payment\n",
      "of the Accelerated Critical Illness Benefit, the coverage of the Scheme Member shall cease and all benefits shall\n",
      "expire.\n",
      "e. The covered Critical Illnesses under the Accelerated Critical Illness option are listed herein below and defined\n",
      "under Annexure IV of this Master Policy:\n",
      "List of covered Critical Illnesses and surgeries\n",
      "2. Open Heart\n",
      "1. Myocardial Infarction 3. Cancer of\n",
      "Replacement or 4. Kidney failure requiring\n",
      "(First Heart Attack of Specified\n",
      "Repair of Heart regular dialysis\n",
      "specific severity) Severity\n",
      "Valves\n",
      "5. Stroke resulting in 6. Alzheimer's 7. Apallic\n",
      "8. Coma of specified severity\n",
      "permanent symptoms Disease Syndrome\n",
      "11. Loss of\n",
      "9. End Stage Liver 10. End Stage Lung\n",
      "Independent 12. Blindness\n",
      "Failure Failure\n",
      "Existence\n",
      "14. Major Head 15. Parkinson's\n",
      "13. Third Degree Burns 16. Permanent paralysis of limbs\n",
      "Trauma Disease\n",
      "18. Motor Neuron\n",
      "17. Multiple Sclerosis\n",
      "Disease with 19. Benign Brain 20. Major Organ Transplant (as\n",
      "with persisting\n",
      "permanent Tumour recipient)\n",
      "symptoms\n",
      "symptoms\n",
      "Page 7 of 31\n"
     ]
    }
   ],
   "source": [
    "# Open the PDF file\n",
    "with pdfplumber.open(single_pdf_path) as pdf:\n",
    "\n",
    "    # Get one of the pages from the PDF and examine it\n",
    "    single_page = pdf.pages[6]\n",
    "\n",
    "    # Extract text from the first page\n",
    "    text = single_page.extract_text()\n",
    "\n",
    "    # Extract tables from the first page\n",
    "    tables = single_page.extract_tables()\n",
    "\n",
    "    # Print the extracted text\n",
    "    print(text)"
   ]
  },
  {
   "cell_type": "code",
   "execution_count": 92,
   "metadata": {
    "colab": {
     "base_uri": "https://localhost:8080/"
    },
    "executionInfo": {
     "elapsed": 2,
     "status": "ok",
     "timestamp": 1712732787434,
     "user": {
      "displayName": "Henry Isaac",
      "userId": "09127918064436985573"
     },
     "user_tz": -330
    },
    "id": "L_1gYHV13vmG",
    "outputId": "2115c8d0-5971-4248-ad3d-6769abf93b0a"
   },
   "outputs": [
    {
     "data": {
      "text/plain": [
       "[['Plan Option', 'Events', 'Benefit'],\n",
       " ['Life',\n",
       "  'Death',\n",
       "  'In the event of the death of the Scheme Member, the\\nbenefit payable shall be the Sum Assured.'],\n",
       " ['Extra Life Option',\n",
       "  'Death',\n",
       "  'In the event of the death of the Scheme Member, the\\nbenefit payable shall be the Sum Assured.'],\n",
       " [None,\n",
       "  'Accidental Death',\n",
       "  'In event of the Scheme Member’s death due to\\nAccident, an additional death benefit equal to the Sum\\nAssured will be payable.\\nThis is in addition to the death benefit mentioned\\nabove'],\n",
       " ['Accelerated Critical Illness\\nOption',\n",
       "  'Death',\n",
       "  'In the event of the death of the Scheme Member, the\\nbenefit payable shall be the Sum Assured.'],\n",
       " [None,\n",
       "  'Diagnosis of a\\nCritical Illness',\n",
       "  'In the event of Scheme Member being diagnosed with\\nany of the covered Critical Illnesses during the Policy\\nTerm, the benefit payable shall be the Sum Assured\\nand the policy will terminate.']]"
      ]
     },
     "execution_count": 92,
     "metadata": {},
     "output_type": "execute_result"
    }
   ],
   "source": [
    "# View the table in the page, if any\n",
    "\n",
    "tables[0]"
   ]
  },
  {
   "cell_type": "markdown",
   "metadata": {
    "id": "BQorWwRMcOhy"
   },
   "source": [
    "#### <font color = red> 2.2 Extracting text from multiple PDFs\n",
    "\n",
    "Let's now try and read multiple documents, extract text from them using appropriate preprocessing, and store them in a dataframe\n"
   ]
  },
  {
   "cell_type": "code",
   "execution_count": 93,
   "metadata": {
    "id": "iw_75A_zQiU_"
   },
   "outputs": [],
   "source": [
    "# Define the path where all pdf documents are present\n",
    "\n",
    "pdf_path = \"Policy Documents/\""
   ]
  },
  {
   "cell_type": "code",
   "execution_count": 94,
   "metadata": {
    "id": "yaRqBDikEi-e"
   },
   "outputs": [],
   "source": [
    "# Function to check whether a word is present in a table or not for segregation of regular text and tables\n",
    "\n",
    "def check_bboxes(word, table_bbox):\n",
    "    # Check whether word is inside a table bbox.\n",
    "    l = word['x0'], word['top'], word['x1'], word['bottom']\n",
    "    r = table_bbox\n",
    "    return l[0] > r[0] and l[1] > r[1] and l[2] < r[2] and l[3] < r[3]"
   ]
  },
  {
   "cell_type": "code",
   "execution_count": 95,
   "metadata": {
    "id": "5vl3fNNvDyBG"
   },
   "outputs": [],
   "source": [
    "# Function to extract text from a PDF file.\n",
    "# 1. Declare a variable p to store the iteration of the loop that will help us store page numbers alongside the text\n",
    "# 2. Declare an empty list 'full_text' to store all the text files\n",
    "# 3. Use pdfplumber to open the pdf pages one by one\n",
    "# 4. Find the tables and their locations in the page\n",
    "# 5. Extract the text from the tables in the variable 'tables'\n",
    "# 6. Extract the regular words by calling the function check_bboxes() and checking whether words are present in the table or not\n",
    "# 7. Use the cluster_objects utility to cluster non-table and table words together so that they retain the same chronology as in the original PDF\n",
    "# 8. Declare an empty list 'lines' to store the page text\n",
    "# 9. If a text element in present in the cluster, append it to 'lines', else if a table element is present, append the table\n",
    "# 10. Append the page number and all lines to full_text, and increment 'p'\n",
    "# 11. When the function has iterated over all pages, return the 'full_text' list\n",
    "\n",
    "def extract_text_from_pdf(pdf_path):\n",
    "    p = 0\n",
    "    full_text = []\n",
    "\n",
    "\n",
    "    with pdfplumber.open(pdf_path) as pdf:\n",
    "        for page in pdf.pages:\n",
    "            page_no = f\"Page {p+1}\"\n",
    "            text = page.extract_text()\n",
    "\n",
    "            tables = page.find_tables()\n",
    "            table_bboxes = [i.bbox for i in tables]\n",
    "            tables = [{'table': i.extract(), 'top': i.bbox[1]} for i in tables]\n",
    "            non_table_words = [word for word in page.extract_words() if not any(\n",
    "                [check_bboxes(word, table_bbox) for table_bbox in table_bboxes])]\n",
    "            lines = []\n",
    "\n",
    "            for cluster in pdfplumber.utils.cluster_objects(non_table_words + tables, itemgetter('top'), tolerance=5):\n",
    "\n",
    "                if 'text' in cluster[0]:\n",
    "                    try:\n",
    "                        lines.append(' '.join([i['text'] for i in cluster]))\n",
    "                    except KeyError:\n",
    "                        pass\n",
    "\n",
    "                elif 'table' in cluster[0]:\n",
    "                    lines.append(json.dumps(cluster[0]['table']))\n",
    "\n",
    "\n",
    "            full_text.append([page_no, \" \".join(lines)])\n",
    "            p +=1\n",
    "\n",
    "    return full_text"
   ]
  },
  {
   "cell_type": "markdown",
   "metadata": {
    "id": "JIBPOBOxefd0"
   },
   "source": [
    "*Now that we have defined the function for extracting the text and tables from a PDF, let's iterate and call this function for all the PDFs in our drive and store them in a list.*"
   ]
  },
  {
   "cell_type": "code",
   "execution_count": 96,
   "metadata": {
    "colab": {
     "base_uri": "https://localhost:8080/"
    },
    "executionInfo": {
     "elapsed": 63177,
     "status": "ok",
     "timestamp": 1712732884996,
     "user": {
      "displayName": "Henry Isaac",
      "userId": "09127918064436985573"
     },
     "user_tz": -330
    },
    "id": "gi8dV-BN6U7A",
    "outputId": "be67acd1-0bd2-4fff-8793-cc15745fea3f"
   },
   "outputs": [
    {
     "name": "stdout",
     "output_type": "stream",
     "text": [
      "...Processing HDFC-Life-Smart-Pension-Plan-Policy-Document-Online.pdf\n",
      "Finished processing HDFC-Life-Smart-Pension-Plan-Policy-Document-Online.pdf\n",
      "...Processing HDFC-Surgicare-Plan-101N043V01.pdf\n",
      "Finished processing HDFC-Surgicare-Plan-101N043V01.pdf\n",
      "...Processing HDFC-Life-Group-Poorna-Suraksha-101N137V02-Policy-Document.pdf\n",
      "Finished processing HDFC-Life-Group-Poorna-Suraksha-101N137V02-Policy-Document.pdf\n",
      "...Processing HDFC-Life-Easy-Health-101N110V03-Policy-Bond-Single-Pay.pdf\n",
      "Finished processing HDFC-Life-Easy-Health-101N110V03-Policy-Bond-Single-Pay.pdf\n",
      "...Processing HDFC-Life-Sampoorna-Jeevan-101N158V04-Policy-Document (1).pdf\n",
      "Finished processing HDFC-Life-Sampoorna-Jeevan-101N158V04-Policy-Document (1).pdf\n",
      "...Processing HDFC-Life-Group-Term-Life-Policy.pdf\n",
      "Finished processing HDFC-Life-Group-Term-Life-Policy.pdf\n",
      "...Processing HDFC-Life-Sanchay-Plus-Life-Long-Income-Option-101N134V19-Policy-Document.pdf\n",
      "Finished processing HDFC-Life-Sanchay-Plus-Life-Long-Income-Option-101N134V19-Policy-Document.pdf\n",
      "All PDFs have been processed.\n"
     ]
    }
   ],
   "source": [
    "# Define the directory containing the PDF files\n",
    "pdf_directory = Path(pdf_path)\n",
    "\n",
    "# Initialize an empty list to store the extracted texts and document names\n",
    "data = []\n",
    "\n",
    "# Loop through all files in the directory\n",
    "for pdf_path in pdf_directory.glob(\"*.pdf\"):\n",
    "\n",
    "    # Process the PDF file\n",
    "    print(f\"...Processing {pdf_path.name}\")\n",
    "\n",
    "    # Call the function to extract the text from the PDF\n",
    "    extracted_text = extract_text_from_pdf(pdf_path)\n",
    "\n",
    "    # Convert the extracted list to a PDF, and add a column to store document names\n",
    "    extracted_text_df = pd.DataFrame(extracted_text, columns=['Page No.', 'Page_Text'])\n",
    "    extracted_text_df['Document Name'] = pdf_path.name\n",
    "\n",
    "    # Append the extracted text and document name to the list\n",
    "    data.append(extracted_text_df)\n",
    "\n",
    "    # Print a message to indicate progress\n",
    "    print(f\"Finished processing {pdf_path.name}\")\n",
    "\n",
    "# Print a message to indicate all PDFs have been processed\n",
    "print(\"All PDFs have been processed.\")"
   ]
  },
  {
   "cell_type": "code",
   "execution_count": 97,
   "metadata": {
    "id": "xDlL7PADDrrk"
   },
   "outputs": [],
   "source": [
    "# Concatenate all the DFs in the list 'data' together\n",
    "\n",
    "insurance_pdfs_data = pd.concat(data, ignore_index=True)"
   ]
  },
  {
   "cell_type": "code",
   "execution_count": 98,
   "metadata": {
    "colab": {
     "base_uri": "https://localhost:8080/",
     "height": 424
    },
    "executionInfo": {
     "elapsed": 6,
     "status": "ok",
     "timestamp": 1712736603936,
     "user": {
      "displayName": "Henry Isaac",
      "userId": "09127918064436985573"
     },
     "user_tz": -330
    },
    "id": "U9aKtiUhCdjl",
    "outputId": "d61d4bf0-9386-418c-88ef-f1e1cf3d49ba"
   },
   "outputs": [
    {
     "data": {
      "text/html": [
       "<div>\n",
       "<style scoped>\n",
       "    .dataframe tbody tr th:only-of-type {\n",
       "        vertical-align: middle;\n",
       "    }\n",
       "\n",
       "    .dataframe tbody tr th {\n",
       "        vertical-align: top;\n",
       "    }\n",
       "\n",
       "    .dataframe thead th {\n",
       "        text-align: right;\n",
       "    }\n",
       "</style>\n",
       "<table border=\"1\" class=\"dataframe\">\n",
       "  <thead>\n",
       "    <tr style=\"text-align: right;\">\n",
       "      <th></th>\n",
       "      <th>Page No.</th>\n",
       "      <th>Page_Text</th>\n",
       "      <th>Document Name</th>\n",
       "    </tr>\n",
       "  </thead>\n",
       "  <tbody>\n",
       "    <tr>\n",
       "      <th>0</th>\n",
       "      <td>Page 1</td>\n",
       "      <td>HDFC Life Smart Pension Plan 101L164V02 – Term...</td>\n",
       "      <td>HDFC-Life-Smart-Pension-Plan-Policy-Document-O...</td>\n",
       "    </tr>\n",
       "    <tr>\n",
       "      <th>1</th>\n",
       "      <td>Page 2</td>\n",
       "      <td>HDFC Life Smart Pension Plan 101L164V02 – Term...</td>\n",
       "      <td>HDFC-Life-Smart-Pension-Plan-Policy-Document-O...</td>\n",
       "    </tr>\n",
       "    <tr>\n",
       "      <th>2</th>\n",
       "      <td>Page 3</td>\n",
       "      <td>HDFC Life Smart Pension Plan 101L164V02 – Term...</td>\n",
       "      <td>HDFC-Life-Smart-Pension-Plan-Policy-Document-O...</td>\n",
       "    </tr>\n",
       "    <tr>\n",
       "      <th>3</th>\n",
       "      <td>Page 4</td>\n",
       "      <td>HDFC Life Smart Pension Plan 101L164V02 – Term...</td>\n",
       "      <td>HDFC-Life-Smart-Pension-Plan-Policy-Document-O...</td>\n",
       "    </tr>\n",
       "    <tr>\n",
       "      <th>4</th>\n",
       "      <td>Page 5</td>\n",
       "      <td>HDFC Life Smart Pension Plan 101L164V02 – Term...</td>\n",
       "      <td>HDFC-Life-Smart-Pension-Plan-Policy-Document-O...</td>\n",
       "    </tr>\n",
       "    <tr>\n",
       "      <th>...</th>\n",
       "      <td>...</td>\n",
       "      <td>...</td>\n",
       "      <td>...</td>\n",
       "    </tr>\n",
       "    <tr>\n",
       "      <th>212</th>\n",
       "      <td>Page 23</td>\n",
       "      <td>HDFC Life Sanchay Plus (UIN – 101N134V19) – Ap...</td>\n",
       "      <td>HDFC-Life-Sanchay-Plus-Life-Long-Income-Option...</td>\n",
       "    </tr>\n",
       "    <tr>\n",
       "      <th>213</th>\n",
       "      <td>Page 24</td>\n",
       "      <td>HDFC Life Sanchay Plus (UIN – 101N134V19) – Ap...</td>\n",
       "      <td>HDFC-Life-Sanchay-Plus-Life-Long-Income-Option...</td>\n",
       "    </tr>\n",
       "    <tr>\n",
       "      <th>214</th>\n",
       "      <td>Page 25</td>\n",
       "      <td>HDFC Life Sanchay Plus (UIN – 101N134V19) – Ap...</td>\n",
       "      <td>HDFC-Life-Sanchay-Plus-Life-Long-Income-Option...</td>\n",
       "    </tr>\n",
       "    <tr>\n",
       "      <th>215</th>\n",
       "      <td>Page 26</td>\n",
       "      <td>HDFC Life Sanchay Plus (UIN – 101N134V19) – Ap...</td>\n",
       "      <td>HDFC-Life-Sanchay-Plus-Life-Long-Income-Option...</td>\n",
       "    </tr>\n",
       "    <tr>\n",
       "      <th>216</th>\n",
       "      <td>Page 27</td>\n",
       "      <td>HDFC Life Sanchay Plus (UIN – 101N134V19) – Ap...</td>\n",
       "      <td>HDFC-Life-Sanchay-Plus-Life-Long-Income-Option...</td>\n",
       "    </tr>\n",
       "  </tbody>\n",
       "</table>\n",
       "<p>217 rows × 3 columns</p>\n",
       "</div>"
      ],
      "text/plain": [
       "    Page No.                                          Page_Text  \\\n",
       "0     Page 1  HDFC Life Smart Pension Plan 101L164V02 – Term...   \n",
       "1     Page 2  HDFC Life Smart Pension Plan 101L164V02 – Term...   \n",
       "2     Page 3  HDFC Life Smart Pension Plan 101L164V02 – Term...   \n",
       "3     Page 4  HDFC Life Smart Pension Plan 101L164V02 – Term...   \n",
       "4     Page 5  HDFC Life Smart Pension Plan 101L164V02 – Term...   \n",
       "..       ...                                                ...   \n",
       "212  Page 23  HDFC Life Sanchay Plus (UIN – 101N134V19) – Ap...   \n",
       "213  Page 24  HDFC Life Sanchay Plus (UIN – 101N134V19) – Ap...   \n",
       "214  Page 25  HDFC Life Sanchay Plus (UIN – 101N134V19) – Ap...   \n",
       "215  Page 26  HDFC Life Sanchay Plus (UIN – 101N134V19) – Ap...   \n",
       "216  Page 27  HDFC Life Sanchay Plus (UIN – 101N134V19) – Ap...   \n",
       "\n",
       "                                         Document Name  \n",
       "0    HDFC-Life-Smart-Pension-Plan-Policy-Document-O...  \n",
       "1    HDFC-Life-Smart-Pension-Plan-Policy-Document-O...  \n",
       "2    HDFC-Life-Smart-Pension-Plan-Policy-Document-O...  \n",
       "3    HDFC-Life-Smart-Pension-Plan-Policy-Document-O...  \n",
       "4    HDFC-Life-Smart-Pension-Plan-Policy-Document-O...  \n",
       "..                                                 ...  \n",
       "212  HDFC-Life-Sanchay-Plus-Life-Long-Income-Option...  \n",
       "213  HDFC-Life-Sanchay-Plus-Life-Long-Income-Option...  \n",
       "214  HDFC-Life-Sanchay-Plus-Life-Long-Income-Option...  \n",
       "215  HDFC-Life-Sanchay-Plus-Life-Long-Income-Option...  \n",
       "216  HDFC-Life-Sanchay-Plus-Life-Long-Income-Option...  \n",
       "\n",
       "[217 rows x 3 columns]"
      ]
     },
     "execution_count": 98,
     "metadata": {},
     "output_type": "execute_result"
    }
   ],
   "source": [
    "insurance_pdfs_data"
   ]
  },
  {
   "cell_type": "code",
   "execution_count": 99,
   "metadata": {
    "colab": {
     "base_uri": "https://localhost:8080/",
     "height": 123
    },
    "executionInfo": {
     "elapsed": 690,
     "status": "ok",
     "timestamp": 1712736675293,
     "user": {
      "displayName": "Henry Isaac",
      "userId": "09127918064436985573"
     },
     "user_tz": -330
    },
    "id": "QXHBpFzg3s9_",
    "outputId": "699d48a8-359f-4623-d972-b8af9e3de3a5"
   },
   "outputs": [
    {
     "data": {
      "text/plain": [
       "'HDFC Life Smart Pension Plan 101L164V02 – Terms and Conditions (Direct & Online Sales) A Unit Linked Non-Participating Individual Pension Plan [[\"Name of Appointee, if Nominee is\\\\nminor\", \"\"], [\"Special Conditions\", \"\\\\u00abZENDFLD_001\\\\u00bb\\\\n\\\\u00abZENDFLD_002\\\\u00bb\\\\n\\\\u00abZENDFLD_003\\\\u00bb\\\\n\\\\u00abZENDFLD_004\\\\u00bb\\\\n\\\\u00abZENDFLD_005\\\\u00bb\"]] Stamp Duty of Rs. /- is paid as provided under Article 47D(iii) of Indian Stamp Act, 1899 and included in Consolidated Stamp Duty Paid to the Government of Maharashtra Treasury vide Order of Addl. Controller Of Stamps, Mumbai at General Stamp Office, Fort, Mumbai - 400001., vide this Order No.(LOA/CSD/150/2021/Validity Period Dt.07/10/2021 To Dt.31/03/2022 (O/w.No.4088)/Date : 07/10/2021). «Legend_schedule»«ADDAMT» Page 3 of 37'"
      ]
     },
     "execution_count": 99,
     "metadata": {},
     "output_type": "execute_result"
    }
   ],
   "source": [
    "# Check one of the extracted page texts to ensure that the text has been correctly read\n",
    "\n",
    "insurance_pdfs_data.Page_Text[2]"
   ]
  },
  {
   "cell_type": "code",
   "execution_count": 100,
   "metadata": {
    "id": "a_8T6p99SPdW"
   },
   "outputs": [],
   "source": [
    "# Let's also check the length of all the texts as there might be some empty pages or pages with very few words that we can drop\n",
    "\n",
    "insurance_pdfs_data['Text_Length'] = insurance_pdfs_data['Page_Text'].apply(lambda x: len(x.split(' ')))"
   ]
  },
  {
   "cell_type": "code",
   "execution_count": 101,
   "metadata": {
    "colab": {
     "base_uri": "https://localhost:8080/"
    },
    "executionInfo": {
     "elapsed": 451,
     "status": "ok",
     "timestamp": 1712737411618,
     "user": {
      "displayName": "Henry Isaac",
      "userId": "09127918064436985573"
     },
     "user_tz": -330
    },
    "id": "uR12GmpRQAKd",
    "outputId": "9d09c171-f9e8-4556-f812-6689db194cf6"
   },
   "outputs": [
    {
     "data": {
      "text/plain": [
       "0      365\n",
       "1      266\n",
       "2       93\n",
       "3      526\n",
       "4      588\n",
       "      ... \n",
       "212    793\n",
       "213    789\n",
       "214     65\n",
       "215    670\n",
       "216     65\n",
       "Name: Text_Length, Length: 217, dtype: int64"
      ]
     },
     "execution_count": 101,
     "metadata": {},
     "output_type": "execute_result"
    }
   ],
   "source": [
    "insurance_pdfs_data['Text_Length']"
   ]
  },
  {
   "cell_type": "code",
   "execution_count": 102,
   "metadata": {
    "colab": {
     "base_uri": "https://localhost:8080/",
     "height": 424
    },
    "executionInfo": {
     "elapsed": 728,
     "status": "ok",
     "timestamp": 1712737413551,
     "user": {
      "displayName": "Henry Isaac",
      "userId": "09127918064436985573"
     },
     "user_tz": -330
    },
    "id": "DVRklQV5QC6o",
    "outputId": "6f13e4af-0881-4d78-d4d7-3112fb3f32de"
   },
   "outputs": [
    {
     "data": {
      "text/html": [
       "<div>\n",
       "<style scoped>\n",
       "    .dataframe tbody tr th:only-of-type {\n",
       "        vertical-align: middle;\n",
       "    }\n",
       "\n",
       "    .dataframe tbody tr th {\n",
       "        vertical-align: top;\n",
       "    }\n",
       "\n",
       "    .dataframe thead th {\n",
       "        text-align: right;\n",
       "    }\n",
       "</style>\n",
       "<table border=\"1\" class=\"dataframe\">\n",
       "  <thead>\n",
       "    <tr style=\"text-align: right;\">\n",
       "      <th></th>\n",
       "      <th>Page No.</th>\n",
       "      <th>Page_Text</th>\n",
       "      <th>Document Name</th>\n",
       "      <th>Text_Length</th>\n",
       "    </tr>\n",
       "  </thead>\n",
       "  <tbody>\n",
       "    <tr>\n",
       "      <th>0</th>\n",
       "      <td>Page 1</td>\n",
       "      <td>HDFC Life Smart Pension Plan 101L164V02 – Term...</td>\n",
       "      <td>HDFC-Life-Smart-Pension-Plan-Policy-Document-O...</td>\n",
       "      <td>365</td>\n",
       "    </tr>\n",
       "    <tr>\n",
       "      <th>1</th>\n",
       "      <td>Page 2</td>\n",
       "      <td>HDFC Life Smart Pension Plan 101L164V02 – Term...</td>\n",
       "      <td>HDFC-Life-Smart-Pension-Plan-Policy-Document-O...</td>\n",
       "      <td>266</td>\n",
       "    </tr>\n",
       "    <tr>\n",
       "      <th>2</th>\n",
       "      <td>Page 3</td>\n",
       "      <td>HDFC Life Smart Pension Plan 101L164V02 – Term...</td>\n",
       "      <td>HDFC-Life-Smart-Pension-Plan-Policy-Document-O...</td>\n",
       "      <td>93</td>\n",
       "    </tr>\n",
       "    <tr>\n",
       "      <th>3</th>\n",
       "      <td>Page 4</td>\n",
       "      <td>HDFC Life Smart Pension Plan 101L164V02 – Term...</td>\n",
       "      <td>HDFC-Life-Smart-Pension-Plan-Policy-Document-O...</td>\n",
       "      <td>526</td>\n",
       "    </tr>\n",
       "    <tr>\n",
       "      <th>4</th>\n",
       "      <td>Page 5</td>\n",
       "      <td>HDFC Life Smart Pension Plan 101L164V02 – Term...</td>\n",
       "      <td>HDFC-Life-Smart-Pension-Plan-Policy-Document-O...</td>\n",
       "      <td>588</td>\n",
       "    </tr>\n",
       "    <tr>\n",
       "      <th>...</th>\n",
       "      <td>...</td>\n",
       "      <td>...</td>\n",
       "      <td>...</td>\n",
       "      <td>...</td>\n",
       "    </tr>\n",
       "    <tr>\n",
       "      <th>212</th>\n",
       "      <td>Page 23</td>\n",
       "      <td>HDFC Life Sanchay Plus (UIN – 101N134V19) – Ap...</td>\n",
       "      <td>HDFC-Life-Sanchay-Plus-Life-Long-Income-Option...</td>\n",
       "      <td>793</td>\n",
       "    </tr>\n",
       "    <tr>\n",
       "      <th>213</th>\n",
       "      <td>Page 24</td>\n",
       "      <td>HDFC Life Sanchay Plus (UIN – 101N134V19) – Ap...</td>\n",
       "      <td>HDFC-Life-Sanchay-Plus-Life-Long-Income-Option...</td>\n",
       "      <td>789</td>\n",
       "    </tr>\n",
       "    <tr>\n",
       "      <th>214</th>\n",
       "      <td>Page 25</td>\n",
       "      <td>HDFC Life Sanchay Plus (UIN – 101N134V19) – Ap...</td>\n",
       "      <td>HDFC-Life-Sanchay-Plus-Life-Long-Income-Option...</td>\n",
       "      <td>65</td>\n",
       "    </tr>\n",
       "    <tr>\n",
       "      <th>215</th>\n",
       "      <td>Page 26</td>\n",
       "      <td>HDFC Life Sanchay Plus (UIN – 101N134V19) – Ap...</td>\n",
       "      <td>HDFC-Life-Sanchay-Plus-Life-Long-Income-Option...</td>\n",
       "      <td>670</td>\n",
       "    </tr>\n",
       "    <tr>\n",
       "      <th>216</th>\n",
       "      <td>Page 27</td>\n",
       "      <td>HDFC Life Sanchay Plus (UIN – 101N134V19) – Ap...</td>\n",
       "      <td>HDFC-Life-Sanchay-Plus-Life-Long-Income-Option...</td>\n",
       "      <td>65</td>\n",
       "    </tr>\n",
       "  </tbody>\n",
       "</table>\n",
       "<p>210 rows × 4 columns</p>\n",
       "</div>"
      ],
      "text/plain": [
       "    Page No.                                          Page_Text  \\\n",
       "0     Page 1  HDFC Life Smart Pension Plan 101L164V02 – Term...   \n",
       "1     Page 2  HDFC Life Smart Pension Plan 101L164V02 – Term...   \n",
       "2     Page 3  HDFC Life Smart Pension Plan 101L164V02 – Term...   \n",
       "3     Page 4  HDFC Life Smart Pension Plan 101L164V02 – Term...   \n",
       "4     Page 5  HDFC Life Smart Pension Plan 101L164V02 – Term...   \n",
       "..       ...                                                ...   \n",
       "212  Page 23  HDFC Life Sanchay Plus (UIN – 101N134V19) – Ap...   \n",
       "213  Page 24  HDFC Life Sanchay Plus (UIN – 101N134V19) – Ap...   \n",
       "214  Page 25  HDFC Life Sanchay Plus (UIN – 101N134V19) – Ap...   \n",
       "215  Page 26  HDFC Life Sanchay Plus (UIN – 101N134V19) – Ap...   \n",
       "216  Page 27  HDFC Life Sanchay Plus (UIN – 101N134V19) – Ap...   \n",
       "\n",
       "                                         Document Name  Text_Length  \n",
       "0    HDFC-Life-Smart-Pension-Plan-Policy-Document-O...          365  \n",
       "1    HDFC-Life-Smart-Pension-Plan-Policy-Document-O...          266  \n",
       "2    HDFC-Life-Smart-Pension-Plan-Policy-Document-O...           93  \n",
       "3    HDFC-Life-Smart-Pension-Plan-Policy-Document-O...          526  \n",
       "4    HDFC-Life-Smart-Pension-Plan-Policy-Document-O...          588  \n",
       "..                                                 ...          ...  \n",
       "212  HDFC-Life-Sanchay-Plus-Life-Long-Income-Option...          793  \n",
       "213  HDFC-Life-Sanchay-Plus-Life-Long-Income-Option...          789  \n",
       "214  HDFC-Life-Sanchay-Plus-Life-Long-Income-Option...           65  \n",
       "215  HDFC-Life-Sanchay-Plus-Life-Long-Income-Option...          670  \n",
       "216  HDFC-Life-Sanchay-Plus-Life-Long-Income-Option...           65  \n",
       "\n",
       "[210 rows x 4 columns]"
      ]
     },
     "execution_count": 102,
     "metadata": {},
     "output_type": "execute_result"
    }
   ],
   "source": [
    "# Retain only the rows with a text length of at least 10\n",
    "\n",
    "insurance_pdfs_data = insurance_pdfs_data.loc[insurance_pdfs_data['Text_Length'] >= 10]\n",
    "insurance_pdfs_data"
   ]
  },
  {
   "cell_type": "code",
   "execution_count": 103,
   "metadata": {
    "colab": {
     "base_uri": "https://localhost:8080/"
    },
    "executionInfo": {
     "elapsed": 437,
     "status": "ok",
     "timestamp": 1712737416461,
     "user": {
      "displayName": "Henry Isaac",
      "userId": "09127918064436985573"
     },
     "user_tz": -330
    },
    "id": "9yuq3eOOxfkK",
    "outputId": "dc464538-6a02-4a4a-c9a0-7d1670261694"
   },
   "outputs": [
    {
     "name": "stderr",
     "output_type": "stream",
     "text": [
      "/tmp/ipykernel_23094/1081778557.py:3: SettingWithCopyWarning: \n",
      "A value is trying to be set on a copy of a slice from a DataFrame.\n",
      "Try using .loc[row_indexer,col_indexer] = value instead\n",
      "\n",
      "See the caveats in the documentation: https://pandas.pydata.org/pandas-docs/stable/user_guide/indexing.html#returning-a-view-versus-a-copy\n",
      "  insurance_pdfs_data['Metadata'] = insurance_pdfs_data.apply(lambda x: {'Policy_Name': x['Document Name'][:-4], 'Page_No.': x['Page No.']}, axis=1)\n"
     ]
    }
   ],
   "source": [
    "# Store the metadata for each page in a separate column\n",
    "\n",
    "insurance_pdfs_data['Metadata'] = insurance_pdfs_data.apply(lambda x: {'Policy_Name': x['Document Name'][:-4], 'Page_No.': x['Page No.']}, axis=1)"
   ]
  },
  {
   "cell_type": "code",
   "execution_count": 104,
   "metadata": {
    "colab": {
     "base_uri": "https://localhost:8080/",
     "height": 424
    },
    "executionInfo": {
     "elapsed": 469,
     "status": "ok",
     "timestamp": 1712737441356,
     "user": {
      "displayName": "Henry Isaac",
      "userId": "09127918064436985573"
     },
     "user_tz": -330
    },
    "id": "2UTsH2QuQmpW",
    "outputId": "cea33d56-ea07-4045-d2d8-af0c29b4f884"
   },
   "outputs": [
    {
     "data": {
      "text/html": [
       "<div>\n",
       "<style scoped>\n",
       "    .dataframe tbody tr th:only-of-type {\n",
       "        vertical-align: middle;\n",
       "    }\n",
       "\n",
       "    .dataframe tbody tr th {\n",
       "        vertical-align: top;\n",
       "    }\n",
       "\n",
       "    .dataframe thead th {\n",
       "        text-align: right;\n",
       "    }\n",
       "</style>\n",
       "<table border=\"1\" class=\"dataframe\">\n",
       "  <thead>\n",
       "    <tr style=\"text-align: right;\">\n",
       "      <th></th>\n",
       "      <th>Page No.</th>\n",
       "      <th>Page_Text</th>\n",
       "      <th>Document Name</th>\n",
       "      <th>Text_Length</th>\n",
       "      <th>Metadata</th>\n",
       "    </tr>\n",
       "  </thead>\n",
       "  <tbody>\n",
       "    <tr>\n",
       "      <th>0</th>\n",
       "      <td>Page 1</td>\n",
       "      <td>HDFC Life Smart Pension Plan 101L164V02 – Term...</td>\n",
       "      <td>HDFC-Life-Smart-Pension-Plan-Policy-Document-O...</td>\n",
       "      <td>365</td>\n",
       "      <td>{'Policy_Name': 'HDFC-Life-Smart-Pension-Plan-...</td>\n",
       "    </tr>\n",
       "    <tr>\n",
       "      <th>1</th>\n",
       "      <td>Page 2</td>\n",
       "      <td>HDFC Life Smart Pension Plan 101L164V02 – Term...</td>\n",
       "      <td>HDFC-Life-Smart-Pension-Plan-Policy-Document-O...</td>\n",
       "      <td>266</td>\n",
       "      <td>{'Policy_Name': 'HDFC-Life-Smart-Pension-Plan-...</td>\n",
       "    </tr>\n",
       "    <tr>\n",
       "      <th>2</th>\n",
       "      <td>Page 3</td>\n",
       "      <td>HDFC Life Smart Pension Plan 101L164V02 – Term...</td>\n",
       "      <td>HDFC-Life-Smart-Pension-Plan-Policy-Document-O...</td>\n",
       "      <td>93</td>\n",
       "      <td>{'Policy_Name': 'HDFC-Life-Smart-Pension-Plan-...</td>\n",
       "    </tr>\n",
       "    <tr>\n",
       "      <th>3</th>\n",
       "      <td>Page 4</td>\n",
       "      <td>HDFC Life Smart Pension Plan 101L164V02 – Term...</td>\n",
       "      <td>HDFC-Life-Smart-Pension-Plan-Policy-Document-O...</td>\n",
       "      <td>526</td>\n",
       "      <td>{'Policy_Name': 'HDFC-Life-Smart-Pension-Plan-...</td>\n",
       "    </tr>\n",
       "    <tr>\n",
       "      <th>4</th>\n",
       "      <td>Page 5</td>\n",
       "      <td>HDFC Life Smart Pension Plan 101L164V02 – Term...</td>\n",
       "      <td>HDFC-Life-Smart-Pension-Plan-Policy-Document-O...</td>\n",
       "      <td>588</td>\n",
       "      <td>{'Policy_Name': 'HDFC-Life-Smart-Pension-Plan-...</td>\n",
       "    </tr>\n",
       "    <tr>\n",
       "      <th>...</th>\n",
       "      <td>...</td>\n",
       "      <td>...</td>\n",
       "      <td>...</td>\n",
       "      <td>...</td>\n",
       "      <td>...</td>\n",
       "    </tr>\n",
       "    <tr>\n",
       "      <th>212</th>\n",
       "      <td>Page 23</td>\n",
       "      <td>HDFC Life Sanchay Plus (UIN – 101N134V19) – Ap...</td>\n",
       "      <td>HDFC-Life-Sanchay-Plus-Life-Long-Income-Option...</td>\n",
       "      <td>793</td>\n",
       "      <td>{'Policy_Name': 'HDFC-Life-Sanchay-Plus-Life-L...</td>\n",
       "    </tr>\n",
       "    <tr>\n",
       "      <th>213</th>\n",
       "      <td>Page 24</td>\n",
       "      <td>HDFC Life Sanchay Plus (UIN – 101N134V19) – Ap...</td>\n",
       "      <td>HDFC-Life-Sanchay-Plus-Life-Long-Income-Option...</td>\n",
       "      <td>789</td>\n",
       "      <td>{'Policy_Name': 'HDFC-Life-Sanchay-Plus-Life-L...</td>\n",
       "    </tr>\n",
       "    <tr>\n",
       "      <th>214</th>\n",
       "      <td>Page 25</td>\n",
       "      <td>HDFC Life Sanchay Plus (UIN – 101N134V19) – Ap...</td>\n",
       "      <td>HDFC-Life-Sanchay-Plus-Life-Long-Income-Option...</td>\n",
       "      <td>65</td>\n",
       "      <td>{'Policy_Name': 'HDFC-Life-Sanchay-Plus-Life-L...</td>\n",
       "    </tr>\n",
       "    <tr>\n",
       "      <th>215</th>\n",
       "      <td>Page 26</td>\n",
       "      <td>HDFC Life Sanchay Plus (UIN – 101N134V19) – Ap...</td>\n",
       "      <td>HDFC-Life-Sanchay-Plus-Life-Long-Income-Option...</td>\n",
       "      <td>670</td>\n",
       "      <td>{'Policy_Name': 'HDFC-Life-Sanchay-Plus-Life-L...</td>\n",
       "    </tr>\n",
       "    <tr>\n",
       "      <th>216</th>\n",
       "      <td>Page 27</td>\n",
       "      <td>HDFC Life Sanchay Plus (UIN – 101N134V19) – Ap...</td>\n",
       "      <td>HDFC-Life-Sanchay-Plus-Life-Long-Income-Option...</td>\n",
       "      <td>65</td>\n",
       "      <td>{'Policy_Name': 'HDFC-Life-Sanchay-Plus-Life-L...</td>\n",
       "    </tr>\n",
       "  </tbody>\n",
       "</table>\n",
       "<p>210 rows × 5 columns</p>\n",
       "</div>"
      ],
      "text/plain": [
       "    Page No.                                          Page_Text  \\\n",
       "0     Page 1  HDFC Life Smart Pension Plan 101L164V02 – Term...   \n",
       "1     Page 2  HDFC Life Smart Pension Plan 101L164V02 – Term...   \n",
       "2     Page 3  HDFC Life Smart Pension Plan 101L164V02 – Term...   \n",
       "3     Page 4  HDFC Life Smart Pension Plan 101L164V02 – Term...   \n",
       "4     Page 5  HDFC Life Smart Pension Plan 101L164V02 – Term...   \n",
       "..       ...                                                ...   \n",
       "212  Page 23  HDFC Life Sanchay Plus (UIN – 101N134V19) – Ap...   \n",
       "213  Page 24  HDFC Life Sanchay Plus (UIN – 101N134V19) – Ap...   \n",
       "214  Page 25  HDFC Life Sanchay Plus (UIN – 101N134V19) – Ap...   \n",
       "215  Page 26  HDFC Life Sanchay Plus (UIN – 101N134V19) – Ap...   \n",
       "216  Page 27  HDFC Life Sanchay Plus (UIN – 101N134V19) – Ap...   \n",
       "\n",
       "                                         Document Name  Text_Length  \\\n",
       "0    HDFC-Life-Smart-Pension-Plan-Policy-Document-O...          365   \n",
       "1    HDFC-Life-Smart-Pension-Plan-Policy-Document-O...          266   \n",
       "2    HDFC-Life-Smart-Pension-Plan-Policy-Document-O...           93   \n",
       "3    HDFC-Life-Smart-Pension-Plan-Policy-Document-O...          526   \n",
       "4    HDFC-Life-Smart-Pension-Plan-Policy-Document-O...          588   \n",
       "..                                                 ...          ...   \n",
       "212  HDFC-Life-Sanchay-Plus-Life-Long-Income-Option...          793   \n",
       "213  HDFC-Life-Sanchay-Plus-Life-Long-Income-Option...          789   \n",
       "214  HDFC-Life-Sanchay-Plus-Life-Long-Income-Option...           65   \n",
       "215  HDFC-Life-Sanchay-Plus-Life-Long-Income-Option...          670   \n",
       "216  HDFC-Life-Sanchay-Plus-Life-Long-Income-Option...           65   \n",
       "\n",
       "                                              Metadata  \n",
       "0    {'Policy_Name': 'HDFC-Life-Smart-Pension-Plan-...  \n",
       "1    {'Policy_Name': 'HDFC-Life-Smart-Pension-Plan-...  \n",
       "2    {'Policy_Name': 'HDFC-Life-Smart-Pension-Plan-...  \n",
       "3    {'Policy_Name': 'HDFC-Life-Smart-Pension-Plan-...  \n",
       "4    {'Policy_Name': 'HDFC-Life-Smart-Pension-Plan-...  \n",
       "..                                                 ...  \n",
       "212  {'Policy_Name': 'HDFC-Life-Sanchay-Plus-Life-L...  \n",
       "213  {'Policy_Name': 'HDFC-Life-Sanchay-Plus-Life-L...  \n",
       "214  {'Policy_Name': 'HDFC-Life-Sanchay-Plus-Life-L...  \n",
       "215  {'Policy_Name': 'HDFC-Life-Sanchay-Plus-Life-L...  \n",
       "216  {'Policy_Name': 'HDFC-Life-Sanchay-Plus-Life-L...  \n",
       "\n",
       "[210 rows x 5 columns]"
      ]
     },
     "execution_count": 104,
     "metadata": {},
     "output_type": "execute_result"
    }
   ],
   "source": [
    "insurance_pdfs_data"
   ]
  },
  {
   "cell_type": "markdown",
   "metadata": {
    "id": "fBXNi-coqppd"
   },
   "source": [
    "This concludes the chunking aspect also, as we can see that mostly the pages contain few hundred words, maximum going upto 1000. So, we don't need to chunk the documents further; we can perform the embeddings on individual pages. This strategy makes sense for 2 reasons:\n",
    "1. The way insurance documents are generally structured, you will not have a lot of extraneous information in a page, and all the text pieces in that page will likely be interrelated.\n",
    "2. We want to have larger chunk sizes to be able to pass appropriate context to the LLM during the generation layer."
   ]
  },
  {
   "cell_type": "markdown",
   "metadata": {
    "id": "oygx9b2VzqIX"
   },
   "source": [
    "## 3. <font color = red> Generate and Store Embeddings using OpenAI and ChromaDB\n",
    "\n",
    "In this section, we will embed the pages in the dataframe through OpenAI's `text-embedding-ada-002` model, and store them in a ChromaDB collection."
   ]
  },
  {
   "cell_type": "code",
   "execution_count": 105,
   "metadata": {
    "id": "g71qkKV9yUps"
   },
   "outputs": [
    {
     "data": {
      "text/plain": [
       "'\\n# Set the API key\\nfilepath = \"/content/drive/MyDrive/HelpMate/\"\\n\\nwith open(filepath + \"OpenAI_API_Key.txt\", \"r\") as f:\\n  openai.api_key = \\' \\'.join(f.readlines())\\n'"
      ]
     },
     "execution_count": 105,
     "metadata": {},
     "output_type": "execute_result"
    }
   ],
   "source": [
    "'''\n",
    "# Set the API key\n",
    "filepath = \"/content/drive/MyDrive/HelpMate/\"\n",
    "\n",
    "with open(filepath + \"OpenAI_API_Key.txt\", \"r\") as f:\n",
    "  openai.api_key = ' '.join(f.readlines())\n",
    "'''"
   ]
  },
  {
   "cell_type": "code",
   "execution_count": 106,
   "metadata": {
    "id": "77AYVNHyW1-d"
   },
   "outputs": [],
   "source": [
    "# Import the OpenAI Embedding Function into chroma\n",
    "\n",
    "from chromadb.utils.embedding_functions import OpenAIEmbeddingFunction"
   ]
  },
  {
   "cell_type": "code",
   "execution_count": 107,
   "metadata": {
    "id": "Pt8q5-CsHEod"
   },
   "outputs": [],
   "source": [
    "# Define the path where chroma collections will be stored\n",
    "\n",
    "chroma_data_path = '/content/drive/MyDrive/HelpMate/ChromaDB_Data'"
   ]
  },
  {
   "cell_type": "code",
   "execution_count": 108,
   "metadata": {
    "id": "F1UhnaZBKHn1"
   },
   "outputs": [],
   "source": [
    "import chromadb"
   ]
  },
  {
   "cell_type": "code",
   "execution_count": 109,
   "metadata": {
    "id": "Yly1EUXgyiOK"
   },
   "outputs": [],
   "source": [
    "# Call PersistentClient()\n",
    "\n",
    "client = chromadb.PersistentClient()"
   ]
  },
  {
   "cell_type": "code",
   "execution_count": 110,
   "metadata": {
    "id": "_1Kyb47vyzzA"
   },
   "outputs": [],
   "source": [
    "# Set up the embedding function using the OpenAI embedding model\n",
    "\n",
    "model = \"text-embedding-ada-002\"\n",
    "embedding_function = OpenAIEmbeddingFunction(api_key=OPENAI_API_KEY, model_name=model)"
   ]
  },
  {
   "cell_type": "code",
   "execution_count": 111,
   "metadata": {
    "id": "MLyU_G-myrPe"
   },
   "outputs": [],
   "source": [
    "# Initialise a collection in chroma and pass the embedding_function to it so that it used OpenAI embeddings to embed the documents\n",
    "\n",
    "insurance_collection = client.get_or_create_collection(name='RAG_on_Insurance', embedding_function=embedding_function)"
   ]
  },
  {
   "cell_type": "code",
   "execution_count": 112,
   "metadata": {
    "id": "_d_jop5hcaQI"
   },
   "outputs": [],
   "source": [
    "# Convert the page text and metadata from your dataframe to lists to be able to pass it to chroma\n",
    "\n",
    "documents_list = insurance_pdfs_data[\"Page_Text\"].tolist()\n",
    "metadata_list = insurance_pdfs_data['Metadata'].tolist()"
   ]
  },
  {
   "cell_type": "code",
   "execution_count": 113,
   "metadata": {
    "id": "QBdLLmyxhFKN"
   },
   "outputs": [],
   "source": [
    "# Add the documents and metadata to the collection alongwith generic integer IDs. You can also feed the metadata information as IDs by combining the policy name and page no.\n",
    "\n",
    "insurance_collection.add(\n",
    "    documents= documents_list,\n",
    "    ids = [str(i) for i in range(0, len(documents_list))],\n",
    "    metadatas = metadata_list\n",
    ")"
   ]
  },
  {
   "cell_type": "code",
   "execution_count": 114,
   "metadata": {
    "colab": {
     "base_uri": "https://localhost:8080/"
    },
    "executionInfo": {
     "elapsed": 686,
     "status": "ok",
     "timestamp": 1712737689835,
     "user": {
      "displayName": "Henry Isaac",
      "userId": "09127918064436985573"
     },
     "user_tz": -330
    },
    "id": "92Nr0XTVykX-",
    "outputId": "a973f243-a8be-4ec5-e17f-f1b4be9baf71"
   },
   "outputs": [
    {
     "data": {
      "text/plain": [
       "{'ids': ['0', '1', '2'],\n",
       " 'embeddings': array([[-0.00454407,  0.00542792,  0.01487027, ..., -0.01147656,\n",
       "         -0.0112809 , -0.023223  ],\n",
       "        [-0.0028945 ,  0.01137608,  0.01119433, ..., -0.01376573,\n",
       "         -0.02452924, -0.02972589],\n",
       "        [-0.00656162,  0.00761065,  0.00063336, ..., -0.01332893,\n",
       "         -0.0068633 , -0.03307549]], shape=(3, 1536)),\n",
       " 'documents': ['HDFC Life Smart Pension Plan 101L164V02 – Terms and Conditions (Direct & Online Sales) A Unit Linked Non-Participating Individual Pension Plan PART A: Covering Letter with Policy Schedule __________________ <dd-mm-yyyy> __________________ __________________ __________________ __________________ Policy Number: __________________ Your <Policy Name UIN> with Policy No. <Policy no.> Dear Mr./Ms.___________________________, Thank you for choosing HDFC Life Insurance as your preferred life insurance solution provider. We are pleased to enclose your Policy Bond, which carries the following details of your recently purchased HDFC Life Insurance Policy: \\uf0fc Policy Schedule : Summary of key features of your HDFC Life Insurance Policy \\uf0fc Premium Receipt : Acknowledgement of the first Premium paid by you \\uf0fc Terms & Conditions : Detailed terms of your Policy contract with HDFC Life Insurance \\uf0fc Service Options : Wide range of Policy servicing options that you can benefit from We request you to carefully go through the information given in the Policy Bond. You are also advised to keep the Policy Bond with utmost care and safety because this document will be required at the time of availing Policy Benefits. You shall have a period of ___ days from the date of receipt of the Policy document to review the terms and conditions of this Policy and in case of disagreements with the said terms and conditions, an option to return the Policy to the Company for cancellation can be exercised, stating the reasons for objections. Upon such Free-Look cancellation, the Company shall return the Premium paid subject to deduction of a proportionate risk Premium for the period of insurance cover in addition to the stamp duty charges. All Benefits and rights under this Policy shall immediately stand terminated on the cancellation of the Policy. For any assistance, please feel free to contact our customer service team at onlinequery@hdfclife.com or call our toll free number 1800 266 9777. You can also get in touch with us via social media: https://plus.google.com/+hdfclife/ https://www.youtube.com/user/hdfclife10 http://www.linkedin.com/company/19117 https://twitter.com/HDFClife https://www.facebook.com/HDFClife Thank you for giving us the opportunity to help you prepare for a long and happy life. Yours sincerely << Designation of the Authorised Signatory >> Authorized Signatory Your Financial Advisor Contact Details Branch Address: <<Branch Address>> Page 1 of 37',\n",
       "  'HDFC Life Smart Pension Plan 101L164V02 – Terms and Conditions (Direct & Online Sales) A Unit Linked Non-Participating Individual Pension Plan Agency/Intermediary Code: <<Agency/Intermediary Code>> Agency/Intermediary Name: <<Agency/Intermediary Name>> Agency/Intermediary Telephone Number: <<Agency/Intermediary mobile & landline number>> Agency/Intermediary Contact Details: <<Agency address>> A.1. Policy Preamble: HDFC Life Smart Pension Plan is a non-participating and unit-linked individual pension Policy. The Terms and Conditions and the Policy Schedule are issued based on the proposal form and other documents as submitted by the Life Assured/Policyholder. A.2. Policy Schedule [[\"Name of the Product\", \"HDFC Life Smart Pension Plan\", null, null, null], [\"UIN of the Product\", \"101L164V02\", null, null, null], [\"Policy Number\", \"\", null, null, null], [\"Date of the Proposal\", \"\", null, null, null], [\"Policy Commencement Date\", \"\", null, null, null], [\"Risk Commencement Date\", \"\", null, null, null], [\"Sum Assured on Death (at\\\\ninception)\", \"\", null, null, null], [\"Premium Amount (Rs.)\", \"\", null, null, null], [\"Premium Payment Frequency\", \"\", null, null, null], [\"Premium Payment Term\", \"\", null, null, null], [\"Vesting Date\", \"\", null, null, null], [\"Policy Term\", \"\", null, null, null], [\"Date of Last Installment Premium\", \"\", null, null, null], [\"Name and Address of the\\\\nPolicyholder\", \"\\\\u00absownername\\\\u00bb\\\\n\\\\u00abaddress1\\\\u00bb\\\\n\\\\u00abaddress2\\\\u00bb\\\\n\\\\u00abaddress3\\\\u00bb\\\\n\\\\u00abaddress4\\\\u00bb\", null, null, null], [\"Date of Birth of the Policyholder\", \"\", null, null, null], [\"Name and Address of the Life\\\\nAssured\", \"\\\\u00abname\\\\u00bb\\\\n\\\\u00abaddress1\\\\u00bb\\\\n\\\\u00abaddress2\\\\u00bb\\\\n\\\\u00abaddress3\\\\u00bb\\\\n\\\\u00abaddress4\\\\u00bb\", null, null, null], [\"Date of Birth of Life Assured\\\\nAge of Life Assured at entry\\\\nWhether Age admitted?\", \"\", null, null, null], [\"Name of Nominee(s) and\\\\nrelationship to Life Assured.\", \"Name of\\\\nNominee\", \"Relationship to\\\\nLife Assured\", \"Proportion (%)\", \"Age of Nominee\"], [null, \"\", \"\", \"\", \"\"], [null, \"\", \"\", \"\", \"\"], [null, \"\", \"\", \"\", \"\"]] Page 2 of 37',\n",
       "  'HDFC Life Smart Pension Plan 101L164V02 – Terms and Conditions (Direct & Online Sales) A Unit Linked Non-Participating Individual Pension Plan [[\"Name of Appointee, if Nominee is\\\\nminor\", \"\"], [\"Special Conditions\", \"\\\\u00abZENDFLD_001\\\\u00bb\\\\n\\\\u00abZENDFLD_002\\\\u00bb\\\\n\\\\u00abZENDFLD_003\\\\u00bb\\\\n\\\\u00abZENDFLD_004\\\\u00bb\\\\n\\\\u00abZENDFLD_005\\\\u00bb\"]] Stamp Duty of Rs. /- is paid as provided under Article 47D(iii) of Indian Stamp Act, 1899 and included in Consolidated Stamp Duty Paid to the Government of Maharashtra Treasury vide Order of Addl. Controller Of Stamps, Mumbai at General Stamp Office, Fort, Mumbai - 400001., vide this Order No.(LOA/CSD/150/2021/Validity Period Dt.07/10/2021 To Dt.31/03/2022 (O/w.No.4088)/Date : 07/10/2021). «Legend_schedule»«ADDAMT» Page 3 of 37'],\n",
       " 'uris': None,\n",
       " 'included': ['embeddings', 'documents', 'metadatas'],\n",
       " 'data': None,\n",
       " 'metadatas': [{'Page_No.': 'Page 1',\n",
       "   'Policy_Name': 'HDFC-Life-Smart-Pension-Plan-Policy-Document-Online'},\n",
       "  {'Policy_Name': 'HDFC-Life-Smart-Pension-Plan-Policy-Document-Online',\n",
       "   'Page_No.': 'Page 2'},\n",
       "  {'Page_No.': 'Page 3',\n",
       "   'Policy_Name': 'HDFC-Life-Smart-Pension-Plan-Policy-Document-Online'}]}"
      ]
     },
     "execution_count": 114,
     "metadata": {},
     "output_type": "execute_result"
    }
   ],
   "source": [
    "# Let's take a look at the first few entries in the collection\n",
    "\n",
    "insurance_collection.get(\n",
    "    ids = ['0','1','2'],\n",
    "    include = ['embeddings', 'documents', 'metadatas']\n",
    ")"
   ]
  },
  {
   "cell_type": "code",
   "execution_count": 115,
   "metadata": {
    "id": "-AzsxvBsdkIg"
   },
   "outputs": [],
   "source": [
    "cache_collection = client.get_or_create_collection(name='Insurance_Cache', embedding_function=embedding_function)"
   ]
  },
  {
   "cell_type": "code",
   "execution_count": 116,
   "metadata": {
    "colab": {
     "base_uri": "https://localhost:8080/"
    },
    "executionInfo": {
     "elapsed": 3,
     "status": "ok",
     "timestamp": 1712737691819,
     "user": {
      "displayName": "Henry Isaac",
      "userId": "09127918064436985573"
     },
     "user_tz": -330
    },
    "id": "ayqqoZWlAGXY",
    "outputId": "375c600f-cb10-4d8c-9f64-f7f2583834a2"
   },
   "outputs": [
    {
     "data": {
      "text/plain": [
       "{'ids': ['what are the benefits in case of death'],\n",
       " 'embeddings': array([[ 0.01432632, -0.00687885,  0.00397684, ...,  0.0007151 ,\n",
       "         -0.00106789, -0.01474238]], shape=(1, 1536)),\n",
       " 'documents': ['what are the benefits in case of death'],\n",
       " 'uris': None,\n",
       " 'included': ['metadatas', 'documents', 'embeddings'],\n",
       " 'data': None,\n",
       " 'metadatas': [{'ids2': '133',\n",
       "   'documents6': 'HDFC Life Smart Pension Plan 101L164V02 – Terms and Conditions (Direct & Online Sales) (A Unit Linked Non-Participating Individual Pension Plan) F.12 Suicide Exclusion: In case of death due to suicide within 12 months from the Date of Commencement of the Policy or from the date of Revival of the Policy, as applicable, the Eligible Person shall be entitled to the Fund Value, as available on the date of intimation of death. Further any charges other than Fund Management charges (FMC) recovered subsequent to the date of death shall be added back to the Fund Value as available on the date of intimation of death. F.13 Requirements for death claims: In the event of a claim for Vesting Benefit or Death Benefit arising under this Policy, the Eligible Person shall provide the following documents to the Company within the time stipulated to enable the Company to process the claim: F.13.1 Except death claims arising out of accidents or unnatural deaths: (i) Death Certificate, in original, issued by the competent authority; (ii) Policy document, in original; (iii) Identification proof (bearing photo) of person receiving the Benefit and the Life Assured; (iv) Medical treatment records (discharge summary / death summary, investigation reports, etc.) if Life Assured has taken treatment for illness leading to his/her death; (v) Bank account details of the claimant along with IFSC code (payment would be made vide NEFT only). F.13.2 In case of death claims arising out of accidents or unnatural deaths: (i) Death Certificate, in original, issued by the competent authority; (ii) Policy document, in original; (iii) Identification proof (bearing photo) of person receiving the Benefit and the Life Assured; (iv) First Information Report, Inquest and the Final Investigation Report thereof, duly attested by concerned jurisdictional Police Official; (v) Post Mortem Report duly attested by the concerned officials; (vi) Bank account details of the claimant along with IFSC code (payment would be made vide NEFT only). Notwithstanding anything contained in Clause F.13.1 and F.13.2 above, depending upon the cause or nature of the claim, the Company reserves the right to call for any other and/or additional documents or information, including documents/information concerning the title of the person claiming the Death Benefit under this Policy, to the satisfaction of the Company, for processing of the claim. The claim is required to be intimated to Us within a period of 90 days from the date of death of the Life Assured, to treat the same as a valid claim. Delay in intimation of claim or submission of documents for the reasons beyond the control of the insured/claimant may be condoned by the Company. F.13.3 Requirements for vesting claims: In case of vesting claims, (i) Original Policy Document; and (ii) Discharge Form (iii) Self-attested ID Proof, and (iv) Bank account details along with IFSC code (payment would be made vide NEFT only) in case there is a change in the bank details already provided. F.14 Issuance of Duplicate Policy In the event if the Policyholder loses/misplaces /destroys the original Policy bond, the Policyholder shall immediately inform the Company. The Company after obtaining satisfactory evidence shall issue duplicate Policy by collecting necessary charges not exceeding INR 250. Page 23 of 37',\n",
       "   'included5': 'a',\n",
       "   'ids4': '163',\n",
       "   'ids5': '7',\n",
       "   'included8': 's',\n",
       "   'included1': 'e',\n",
       "   'metadatas7': \"{'Policy_Name': 'HDFC-Life-Sanchay-Plus-Life-Long-Income-Option-101N134V19-Policy-Document', 'Page_No.': 'Page 13'}\",\n",
       "   'included6': 't',\n",
       "   'included4': 'd',\n",
       "   'metadatas0': \"{'Policy_Name': 'HDFC-Life-Sampoorna-Jeevan-101N158V04-Policy-Document (1)', 'Page_No.': 'Page 6'}\",\n",
       "   'metadatas5': \"{'Page_No.': 'Page 8', 'Policy_Name': 'HDFC-Life-Smart-Pension-Plan-Policy-Document-Online'}\",\n",
       "   'distances8': '0.37220728397369385',\n",
       "   'included3': 'a',\n",
       "   'included0': 'm',\n",
       "   'documents0': 'PART C Product Core Benefits BENEFITS PAYABLE UNDER THIS POLICY C.1. Death Benefit: Subject to terms and conditions of this Policy and the Policy remaining In Force and effect, in the event of an unfortunate demise of the Life Assured after Risk Commencement Date but before Policy Maturity Date, the Company shall pay Sum Assured on Death plus vested Simple Reversionary Bonus, if declared, vested Simple Reversionary Income Bonus, if declared, vested Cash Bonus, if declared, Paid-up Additions on death, if any, plus Terminal Bonus, if declared as the case may be, which is unpaid as on date of death. The Death Benefit is payable to the Eligible Person after deduction of Indebtednesswhich is unpaid by Policyholder as on date of death. Upon payment of such Death Benefit, the Policy shall stand terminated and no other Benefits including Survival Benefits are payable. C.1.1. Sum Assured on Death: Sum Assured on Death is calculated as highest of the following: a) ‗X‘ times the Annualized Premium; or b) Minimum Guaranteed Sum Assured on Maturity; or c) Absolute amount assured to be paid on Death; or d) 105% of theTotalPremiums Paidtill the date of death The multiple of ‗X‖ times is defined as follows: [[\"For entry Age of Life Assured being less than 45 years\", \"For entry Age of Life Assured being 45 years and above\"], [\"10 times\", \"7 or 10 times\\\\n(shall be chosen on Date of Inception of Policy)\"]] C.1.1.1. Annualized Premium shall be the Premium amount payable in a year chosen by the Policyholder, excluding the taxes, rider Premiums, underwriting extra Premiums and loadings for modal Premiums, if any. C.1.1.2. Minimum Guaranteed Sum Assured on Maturity is defined as per the Guaranteed Benefit Option chosen by the Policyholder on Date of Inception of the Policy and is tabulated as following: [[\"Guaranteed Benefit Option\", \"Minimum Guaranteed Sum Assured on Maturity\"], [\"Option A : Lump sum Option\", \"100% of Basic Sum Assured\"], [\"Option B : Income Option\", \"Last Guaranteed Income Benefit payable on Policy Maturity Date, which\\\\nis equal to 5% of Basic Sum Assured\"], [\"Option C : Lump sum with Income Option\", \"Last Guaranteed Income Benefit payable on Policy Maturity Date which\\\\nis equal to\\\\n\\\\uf0b7 10% of Basic Sum Assured for Sampoorna Jeevan 75\\\\n\\\\uf0b7 5% of Basic Sum Assured for Sampoorna Jeevan 100\"], [\"Option D : Income with Lump sum Option\", \"100% of Basic Sum Assured.\"]] C.1.1.3 Absolute amount to be paid on Death shall be equal to the Basic Sum Assured under this Policy. C.2. Maturity Benefit: Subject to the terms and conditions of this Policy and the Policy remaining In Force on the Policy Maturity Date and survival of the Life Assured on Policy Maturity Date, the Company shall pay to the Policyholder the following Benefits on the Policy Maturity Date, based on the Guaranteed Benefit Option chosen by Policyholder and as specified in Policy Schedule. [[\"Guaranteed Benefit Option\", \"Maturity Benefit\"]]',\n",
       "   'metadatas8': \"{'Page_No.': 'Page 7', 'Policy_Name': 'HDFC-Life-Group-Poorna-Suraksha-101N137V02-Policy-Document'}\",\n",
       "   'ids7': '195',\n",
       "   'documents3': 'Note: For the purpose of waiting period, Date of commencement or inception of coverage for a benefit option shall mean the date from which the member is covered under that benefit option. iv. Accidental Death Benefit Exclusions: 1. No Accidental Death Benefit will be payable if the death of the Scheme Members occurs after 180 days from the date of Accident. Specific Exclusions for this benefit are listed below We will not pay Accidental Death Benefit, if Accidental Death is caused from or due to any of the following: \\uf0b7 Intentionally self-inflicted injury or suicide while sane or insane \\uf0b7 Alcohol or Solvent abuse or taking of Drugs, narcotics or psychotropic substances unless taken in accordance with the lawful directions and prescription of a registered medical practitioner. \\uf0b7 Engaging in or taking part in professional sport(s) or any hazardous pursuits, power boat racing, sky diving, para gliding, parachuting, scuba diving, skydo riding, winter sports, sky jumping, ice hockey, ice speedway, ballooning, hand gliding, river rafting / bugging, black water rafting, yachting / boating outside coastal waters, motor rallying, power lifting, quad biking, rodeo and roller hockey. \\uf0b7 War, invasion, hostilities (whether war is declared or not), civil war, rebellion, revolution or taking part in a riot or civil commotion. \\uf0b7 Taking part in any flying activity, other than as a passenger in a commercially licensed aircraft. \\uf0b7 Participation by the life assured in a criminal or unlawful act. 2. Claims Procedure: (1) The Master Policyholder shall inform the Insurer within 30 days of the death/ illness of a Scheme Member and shall file a claim with the Insurer on behalf of the Nominee of the deceased Scheme Member in the form prescribed by the Insurer and accompanied by all relevant documents as may be required by the Insurer, within 90 days from the date of death/ /illness. However, the Insurer will condone the delay caused in intimation of claim where the claim is genuine and the delay is proved to be for reasons beyond the control of the claimant. (2) Subject to Part C Clause 1 sub-clause (1)(n), the Insurer shall pay the Claim amount in relation to the Death Benefit to the Nominee of the deceased Scheme Member in Single Life cases and to the surviving life in the Joint Life cases, who shall give a valid discharge/receipt for the same. If the benefit is in the form of an acceleration of the death benefit and the Scheme Member is alive, then the benefit shall be payable to the Scheme Member. (3) The documents required for processing a claim are: Basic documentation if death is due to Natural Cause: a. Completed claim form, (including NEFT details and bank account proof as specified in the claim form); b. Original Policy; c. Original or copy Death Certificate issued by Municipal Authority/ Gram Panchayat / Tehsildar (attested by issuing authority); d. Claimant’s identity and residence proof. e. Certificate of Insurance as issued to the Scheme Member Basic Documentation if death is due to un-natural causes: a. Completed claim form, (including NEFT details and bank account proof as specified in the claim form); a. Original Policy; b. Original or copy Death Certificate issued by Municipal Authority/ Gram Panchayat / Tehsildar (attested by issuing authority); c. Claimant’s identity and residence proof. d. Certificate of Insurance as issued to the Scheme Member e. Original or copy of First Information Report, Police Panchnama report attested by Police authorities; and f. Original or copy of Post mortem report attested by Hospital authority. Note: Depending on the circumstances of the death, further documents may be called for as we deem fit. . Critical Illness Benefit Claim: Page 15 of 31',\n",
       "   'ids6': '22',\n",
       "   'metadatas6': \"{'Page_No.': 'Page 23', 'Policy_Name': 'HDFC-Life-Smart-Pension-Plan-Policy-Document-Online'}\",\n",
       "   'distances2': '0.35701069235801697',\n",
       "   'distances1': '0.35692423582077026',\n",
       "   'distances6': '0.3698332905769348',\n",
       "   'distances3': '0.3648167848587036',\n",
       "   'metadatas2': \"{'Page_No.': 'Page 19', 'Policy_Name': 'HDFC-Life-Sampoorna-Jeevan-101N158V04-Policy-Document (1)'}\",\n",
       "   'distances0': '0.344705194234848',\n",
       "   'documents4': 'PART C PRODUCT CORE BENEFITS BENEFITS PAYABLE UNDER THIS POLICY: C.1.Subject to the terms and conditions of this Policy, in the event of death of the Insured Member during the term of the Insurance Cover, the Sum Assured shall become payable as defined hereunder: C.1.1 In case a Policy is issued under an Employer Employee group insurance If an Insured Member dies during the Policy Year the amount specified in the Coverage Schedule as Sum Assured for such Insured Member shall become payable to the Beneficiary of the Insured Member. C.1.2 In the case of Affinity Group where there is a lender-borrower relationship, and as per the authorization provided by the Insured Members to the Company, the claim proceeds to the extent of the outstanding loan would be paid to the Master Policyholder in consideration of the loan availed by the Insured Member from the Master Policy Holder. Any amount remaining after the claim settlement to the Master Policy Holder shall be paid by the Company to the nominee of the Insured Member. C.1.4. If Accidental Death of an Insured Member occurs during the Policy Year the amount specified in the Coverage Schedule as the Additional Sum Assured (if opted by the Policyholder), for such Insured Member shall become payable to the Beneficiary of the Insured Member. However, the maximum Benefit payable by the Company on Accidental Death of an Insured Member under all policies put together issued by the Company, shall, at all times, be limited to a total of Rs.10,000,000/- (Rupees 1 crore only). C.2 Beneficiaries C.2.1 Each Insured Member shall, using the forms provided by the Policy Holder, designate a nominee or nominees to whom the Benefits under this Policy shall be payable in the event of death and such designation shall be filed with the Policyholder. C.2.2 If at the death of the Insured Member there be no designated nominee or nominees filed with the Policyholder, or if such nominee or nominees predecease such Insured Member, the Benefits shall be payable to the legal heir of the Insured Member. C.2.3 During the Insured Member’s lifetime, he shall be entitled to change the nominee by written notice to the Policyholder. Such change shall take effect on receipt of such notice by the Policyholder. C.2.4 In the case of Affinity group where there is a lender-borrower relationship, and as per the authorization provided by the Insured Members to the Company, the beneficiary would be the Master Policyholder to the extent of the outstanding loan amount of the Insured Member. Any amount remaining after the claim settlement to the Master Policy Holder shall be paid by the Company to the nominee of the Insured Member. C.3. Mode of payment of Benefits C.3.1. All Benefits and other sums under this Policy shall be payable in the manner and currency allowed/permitted under the Regulations and shall be payable by permissible modes. C.3.2. Apart from the Benefits mentioned hereinabove in part C, the Company shall not be liable to pay any other Benefits. F&U dated 15th October 2022 UIN-101N169V02 P a ge | 10',\n",
       "   'ids0': '120',\n",
       "   'documents5': 'HDFC Life Smart Pension Plan 101L164V02 – Terms and Conditions (Direct & Online Sales) (A Unit Linked Non-Participating Individual Pension Plan) PART C Product Core Benefits Subject to the provisions and fulfilment of the conditions of this Policy, the Company agrees to pay to the Eligible Person the Benefits under this Policy on the happening of the event/s subject to furnishing proof of happening of the event/s to the satisfaction of the Company. C.1 Death Benefit: Death Benefit is the amount payable on death of Life Assured to the Nominee after Risk Commencement Date and before the Policy Vesting Date and is subject to the terms of this Policy and the Policy remaining In Force and is higher of the following: i. Fund Value; or ii. Sum Assured on Death. C.1.1 Utilization of Death Benefit: On death of the Policyholder prior to the Vesting Date, the nominee will have the following options: i. Withdraw the entire Death Benefit of the Policy; or ii. To utilize the entire Death Benefit of the Policy or part thereof for purchasing an immediate annuity (subject to minimum Annuity as allowed by Regulations as amended from time to time) or deferred annuity at the then prevailing annuity rate from the Company. However, the nominee will have the option to purchase annuity from any other insurer at the then Prevailing Annuity Rate to the extent of 50%, of the entire Death Benefit of the Policy net of Commutation or such percentage, as may be prescribed by the IRDAI from time to time. C.2 Vesting Benefit: On survival of the Life Assured till the Vesting Date, Vesting Benefit is the Fund Value as on the Vesting Date. C.2.1 Utilization of Vesting Benefit: The Policyholder will have the following options: i. To utilize the entire Vesting Benefit to purchase immediate annuity or deferred annuity from the Company at the then Prevailing Annuity Rate or to Commute up to 60% and utilize the balance amount to purchase immediate annuity or deferred annuity from the Company at the then prevailing annuity rate. ii. The Policyholder will have an option to purchase immediate annuity or deferred annuity from another insurer at the then Prevailing Annuity Rate to the extent of 50%, of the entire Vesting Benefit of the Policy net of Commutation or such percentage, as may be prescribed by the IRDAI from time to time. In case the amount applied to purchase immediate Annuity is insufficient to purchase minimum Annuity as allowed by Regulations amended from time to time, such amount will be paid to the Eligible Person in lumpsum. C.2.2 Postponement of Vesting Date: On the date of vesting, in addition to the above, the Policyholder shall have an option to extend the accumulation period or deferment period within the same Policy with the same terms and conditions as the original Policy provided the Policyholder is below an age of 60 years at the time of exercising this option. C.2.3 Loyalty Additions: Loyalty Additions will be allocated as extra units at the end of every Policy Year, starting from the end of 10th Policy Year. Each Loyalty Addition will be a percentage of average of Fund Value including top ups, if any, on the last Business Day of last and current Policy Anniversary. The percentage applicable is 0.25% in Page 8 of 37',\n",
       "   'metadatas3': \"{'Policy_Name': 'HDFC-Life-Group-Poorna-Suraksha-101N137V02-Policy-Document', 'Page_No.': 'Page 15'}\",\n",
       "   'metadatas1': \"{'Policy_Name': 'HDFC-Life-Group-Poorna-Suraksha-101N137V02-Policy-Document', 'Page_No.': 'Page 8'}\",\n",
       "   'ids1': '59',\n",
       "   'metadatas4': \"{'Policy_Name': 'HDFC-Life-Group-Term-Life-Policy', 'Page_No.': 'Page 11'}\",\n",
       "   'ids3': '66',\n",
       "   'included7': 'a',\n",
       "   'documents8': 'Part C 1. Benefits: (1) Benefits on Death or diagnosis of contingency covered – [[\"Plan Option\", \"Events\", \"Benefit\"], [\"Life\", \"Death\", \"In the event of the death of the Scheme Member, the\\\\nbenefit payable shall be the Sum Assured.\"], [\"Extra Life Option\", \"Death\", \"In the event of the death of the Scheme Member, the\\\\nbenefit payable shall be the Sum Assured.\"], [null, \"Accidental Death\", \"In event of the Scheme Member\\\\u2019s death due to\\\\nAccident, an additional death benefit equal to the Sum\\\\nAssured will be payable.\\\\nThis is in addition to the death benefit mentioned\\\\nabove\"], [\"Accelerated Critical Illness\\\\nOption\", \"Death\", \"In the event of the death of the Scheme Member, the\\\\nbenefit payable shall be the Sum Assured.\"], [null, \"Diagnosis of a\\\\nCritical Illness\", \"In the event of Scheme Member being diagnosed with\\\\nany of the covered Critical Illnesses during the Policy\\\\nTerm, the benefit payable shall be the Sum Assured\\\\nand the policy will terminate.\"]] a. The Policy Term, Sum Assured, Cover option, and Mode of Premium Payment will be chosen by Scheme Member and these may vary from one Scheme Member to another. b. The Certificate of Insurance issued to a Scheme Member will set out the benefit payable in respect of that Scheme Member during the Coverage Term. c. The benefits specified in the Certificate of Insurance are payable provided the Scheme Member’s death or Accidental Death has occurred during the Coverage Term of the Scheme Member or in case of diagnosis of any one of the Critical Illnesses or undergoing any of the covered surgeries during the coverage term, subject to Master Policy being in force and all due Premiums, Taxes and any Other Levies been paid and subject to any restrictions or qualifications referred to in these Clauses. d. If Accelerated Critical Illness Option is chosen, in the event of the Scheme Member being diagnosed on first occurrence of any of the Critical Illness or undergoing any of the covered surgeries listed below during the coverage term, the Accelerated Critical Illness Benefit shall be payable under the Master Policy. After payment of the Accelerated Critical Illness Benefit, the coverage of the Scheme Member shall cease and all benefits shall expire. e. The covered Critical Illnesses under the Accelerated Critical Illness option are listed herein below and defined under Annexure IV of this Master Policy: [[\"\", \"List of covered Critical Illnesses and surgeries\", null, null, null, \"\"], [\"1. Myocardial Infarction\\\\n(First Heart Attack of\\\\nspecific severity)\", null, \"2. Open Heart\\\\nReplacement or\\\\nRepair of Heart\\\\nValves\", \"3. Cancer of\\\\nSpecified\\\\nSeverity\", \"4. Kidney failure requiring\\\\nregular dialysis\", null], [\"5. Stroke resulting in\\\\npermanent symptoms\", null, \"6. Alzheimer\\'s\\\\nDisease\", \"7. Apallic\\\\nSyndrome\", \"8. Coma of specified severity\", null], [\"9. End Stage Liver\\\\nFailure\", null, \"10. End Stage Lung\\\\nFailure\", \"11. Loss of\\\\nIndependent\\\\nExistence\", \"12. Blindness\", null], [\"13. Third Degree Burns\", null, \"14. Major Head\\\\nTrauma\", \"15. Parkinson\\'s\\\\nDisease\", \"16. Permanent paralysis of limbs\", null], [\"17. Multiple Sclerosis\\\\nwith persisting\\\\nsymptoms\", null, \"18. Motor Neuron\\\\nDisease with\\\\npermanent\\\\nsymptoms\", \"19. Benign Brain\\\\nTumour\", \"20. Major Organ Transplant (as\\\\nrecipient)\", null]] Page 7 of 31',\n",
       "   'distances7': '0.3714788556098938',\n",
       "   'distances5': '0.3689667582511902',\n",
       "   'included2': 't',\n",
       "   'documents2': '(i) Death Certificate, in original, issued by the competent authority; (ii) Policy Document, in original; (iii) Identification proof (bearing photo) of person receiving the Benefit and the Life Assured. (iv) Medical treatment records (discharge summary / death summary, investigation reports, etc.) if Life Assured has taken treatment for illness leading to his/her death. (v) Bank account details of the claimant along with IFSC code (payment would be made vide NEFT only) F.15.3.In case of death claims arising out of accidents or unnatural deaths (i) Death Certificate, in original, issued by the competent authority; (ii) Policy Document, in original; (iii) Identification proof (bearing photo) of person receiving the Benefit and the Life Assured. (iv) First Information Report, Inquest and the Final Investigation Report thereof, duly attested by concerned jurisdictional Police Official. (v) Post Mortem Report duly attested by the concerned officials. (vi) Bank account details of the claimant along with IFSC code (payment would be made vide NEFT only) Notwithstanding anything contained in Clause F.15.2 and F.15.3 above, depending upon the cause or nature of the claim, the Company reserves the right to call for any other and/or additional documents or information, including documents/information concerning the title of the person claiming the Death Benefit under this Policy, to the satisfaction of the Company, for processing of the claim. The claim is required to be intimated to the Company within a period of 90 days from the date of death, to treat the same as a valid claim. However, delay in intimation of claim or submission of documents for the reasons beyond the control of the insured/claimant may be condoned by the Company. F.16 Issuance of Duplicate Policy: In the event if the Policyholder loses/misplaces /destroys the original Policy bond, the Policyholder shall immediately inform the Company, the Company after obtaining satisfactory evidence shall issue duplicate Policy by collecting necessary charges not exceeding INR 250 and on such conditions as decided by the Company and after completing procedural compliances. F.17. Force Majeure: During Force Majeure Event, the performance of the Policy may be wholly or partially suspended under an intimation and prior approval of the IRDAI. We will resume Our obligations under the Policy after the Force Majeure Event ceases to exist. F.18. Policy on the Life of the Minor: F.18.1.Vesting of the Policy: If the Policy is issued on the life of a minor, the Policy will vest on him/her, as specified in the Policy Schedule and on his/her attainment of Age of majority and on such vesting; the Company will recognize him/her to be the holder of the Policy.',\n",
       "   'ids8': '58',\n",
       "   'documents7': 'HDFC Life Sanchay Plus (UIN – 101N134V19) – Appendix 9 (c) – Policy Bond A non-participating, non-linked savings insurance plan Part F (General Terms & Conditions) 1. Suicide Exclusions In case of death due to suicide within 12 months from the date of commencement of risk under the policy or from the date of revival of the policy, as applicable, the nominee or beneficiary of the policyholder shall be entitled to at least 80% of the total premiums paid till the date of death or the surrender value available as on the date of death whichever is higher, provided the policy is in force. 2. Age Admitted The Company has calculated the Premiums under the Policy on the basis of the age of the Life Assured as declared in the Proposal. In case you have not provided proof of age of the Life Assured with the Proposal, you will be required to furnish such proof of age of the Life Assured as is acceptable to us and have the age admitted. In the event the age so admitted (“Correct Age”) during the Policy Term is found to be different from the age declared in the Proposal, without prejudice to our rights and remedies including those under the Insurance Act, 1938 as amended from time to time, we shall take one of the following actions: i) If eligible, and if the Correct Age is found to be higher, the benefit payable under this Policy, Rider, if any, shall be after deduction of such difference of Premium (i.e. difference in Premium paid based on age declared in the Proposal and Premium based on the Correct Age) along with interest thereon. In such cases, before calculating the amount of benefit payable, the Policy shall be subject to re-underwriting and the Sum Assured shall be subject to eligibility as per underwriting norms and the Premium to be deducted shall be calculated proportionately on such Sum Assured payable. If the Correct Age is found to be lower, excess Premiums without any interest shall be refunded. ii) If ineligible for the Policy basis the Correct Age, the Policy shall be void-ab-initio and the total Premiums paid shall be refunded without interest after deducting all applicable charges like medical (if any), Stamp Duty (if any), risk etc. 3. Claim Procedure (1) Maturity Benefit - The Maturity Benefit will be paid if (i) The Policy has matured and the Life Assured is alive on the Maturity Date, (ii) No claim has been made on the Policy, except any survival benefit, if any, (iii) The Policy has not been discontinued or surrendered or cancelled or terminated; and (iv) All relevant documents including the original Policy document in support of your claim have been provided to the Company. (2) Death Benefit - The Death Benefit will be paid if (i) The death of the Life Assured has occurred before the Maturity Date, (ii) The standard Policy provisions specified in Part F Clause 1 (Exclusions) and Clause 7 (Incorrect Information and Non Disclosure) are not attracted, (iii) The Policy has not been discontinued or surrendered or cancelled or terminated; and (iv) All relevant documents in support of the claim have been provided to the Company. Basic documentation if death is due to Natural Cause: a. Completed claim form, (including NEFT details and bank account proof as specified in the claim form); b. Original Policy; c. Original or copy Death Certificate issued by Municipal Authority/ Gram Panchayat / Tehsildar (attested by issuing authority); d. Claimant’s identity and residence proof. Basic documentation if death is due to Un-Natural Cause: a. Completed claim form, (including NEFT details and bank account proof as specified in the claim form); b. Original Policy; Page 13 of 27',\n",
       "   'documents1': '[[\"21. Progressive\\\\nScleroderma\", \"22. Muscular\\\\nDystrophy\", \"23. Poliomyelitis\", \"24. Loss of Limbs\"], [\"25. Deafness\", \"26. Loss of Speech\", \"27. Medullary\\\\nCystic\\\\nDisease\", \"28. Systematic lupus\\\\nErythematosus with Renal\\\\nInvolvement\"], [\"29. Aplastic Anaemia\", null, null, null]] f. If a claim is made for Open Heart Replacement or Repair of Heart Valves, in addition to satisfying the definitions and exclusion criteria, the procedure or surgery must be determined to be Medically Necessary by a Consultant Cardiologist / Surgeon and must be supported by relevant imaging findings & evidenced by established diagnostic reports. g. Upon the payment of the benefits as mentioned above with respect to the plan option availed, the cover for that Scheme Member shall cease. h. Subject to Clause (n) below, the benefit as set out in the Scheme Member’s Certificate of Insurance shall be paid to the Nominee of the deceased Scheme Member for Single Life cases and for Joint Life cases, to the surviving life. If the benefit is in the form of an acceleration of the death benefit and the Scheme Member is alive, then the benefit shall be payable to the Scheme Member. i. The Death Benefit/Accelerated Critical Illness Benefit is subject to exclusions provided under Part F of the Master Policy. j. The Insurer shall be responsible to honour any valid claims brought under this policy in instances wherein the Master Policyholder has collected/ deducted the Premium but has failed to pay the same to the Insurer within the Grace Period due to administrative reasons. k. The payment of Death Benefit to the Master Policyholder may be made by the Insurer subject to the below mentioned conditions and in compliance with guidelines set forth by IRDAI in this regard: i. The Master Policyholder is a Regulated Entity as defined in Part B. ii. Scheme Members have specifically authorised the Insurer in a format provided by the Insurer to make payment of outstanding loan balance amount to the Master Policyholder from the total Death Benefit claim amount otherwise payable to the Nominee of the Scheme Member; iii. The Master Policyholder has collected written authorization from the Scheme Member and submitted the same to the Insurer; iv. Credit Account Statement has been provided by the Master Policyholder with details of Scheme Member as required by the Insurer and in formats provided by the Insurer; v. The Death Benefit claimed by the Master Policyholder is only to the extent of the outstanding loan balance; and vi. Where the Death Benefit is greater than the outstanding loan balance of the Scheme Member, the excess of the Death Benefit over such outstanding loan balance is paid to the Nominee of the Scheme Member. l. In case of Other Entities, the Death Benefit shall be payable to the Nominee, in the event of the Scheme Member’s demise. m. Option to extend the insurance cover to the spouse: The Master Policyholder has an option to extend the insurance cover to the spouse of the Scheme Members. The terms of cover for spouse will be consistent with the terms applicable for Scheme Members of the Scheme. n. For Joint Life cases, the benefits will be payable on a first-claim basis and upon the payment of benefit in respect of the first claimant, the cover for the other life will cease and Certificate of Insurance shall terminate . For the avoidance of doubt, it is clarified that in respect of Accelerated Critical Illness option, if the Accelerated Critical Illness claim has been made in respect of one of the lives, both the Accelerated Critical Illness cover and Death Benefit cover will cease for both the lives and Certificate of Insurance shall terminate. (2) Maturity Benefit – No maturity benefit is payable under this Policy. (3) Benefits on Surrender- A Scheme Member may surrender the Certificate of Insurance anytime during the Coverage Term and obtain the Surrender Value, which shall be calculated in the following manner: \\uf0b7 Single Pay The single premium used in the above formula will be excluding any statutory levies and any underwriting extra premium. \\uf0b7 Limited Pay Page 8 of 31',\n",
       "   'distances4': '0.36598679423332214'}]}"
      ]
     },
     "execution_count": 116,
     "metadata": {},
     "output_type": "execute_result"
    }
   ],
   "source": [
    "cache_collection.peek()"
   ]
  },
  {
   "cell_type": "markdown",
   "metadata": {
    "id": "VSPM3aJ7lZd2"
   },
   "source": [
    "## 4. <font color = red> Semantic Search with Cache\n",
    "\n",
    "In this section, we will perform a semantic search of a query in the collections embeddings to get several top semantically similar results."
   ]
  },
  {
   "cell_type": "code",
   "execution_count": 117,
   "metadata": {
    "colab": {
     "base_uri": "https://localhost:8080/"
    },
    "executionInfo": {
     "elapsed": 14797,
     "status": "ok",
     "timestamp": 1712737708336,
     "user": {
      "displayName": "Henry Isaac",
      "userId": "09127918064436985573"
     },
     "user_tz": -330
    },
    "id": "7w_JdePjjNoA",
    "outputId": "22fe33d1-cdd0-4a24-8ce3-3071a82d96a3"
   },
   "outputs": [],
   "source": [
    "# Read the user query\n",
    "\n",
    "query = input()"
   ]
  },
  {
   "cell_type": "code",
   "execution_count": 118,
   "metadata": {
    "id": "tPg2D6wXd3Le"
   },
   "outputs": [],
   "source": [
    "# Searh the Cache collection first\n",
    "# Query the collection against the user query and return the top 20 results\n",
    "\n",
    "cache_results = cache_collection.query(\n",
    "    query_texts=query,\n",
    "    n_results=1\n",
    ")"
   ]
  },
  {
   "cell_type": "code",
   "execution_count": 119,
   "metadata": {
    "colab": {
     "base_uri": "https://localhost:8080/"
    },
    "executionInfo": {
     "elapsed": 5,
     "status": "ok",
     "timestamp": 1712737711734,
     "user": {
      "displayName": "Henry Isaac",
      "userId": "09127918064436985573"
     },
     "user_tz": -330
    },
    "id": "GbJxAHuLKj6-",
    "outputId": "0d4fd614-d45c-42af-c3e6-296ad715422e"
   },
   "outputs": [
    {
     "data": {
      "text/plain": [
       "{'ids': [['what are the benefits in case of death']],\n",
       " 'embeddings': None,\n",
       " 'documents': [['what are the benefits in case of death']],\n",
       " 'uris': None,\n",
       " 'included': ['metadatas', 'documents', 'distances'],\n",
       " 'data': None,\n",
       " 'metadatas': [[{'documents7': 'HDFC Life Sanchay Plus (UIN – 101N134V19) – Appendix 9 (c) – Policy Bond A non-participating, non-linked savings insurance plan Part F (General Terms & Conditions) 1. Suicide Exclusions In case of death due to suicide within 12 months from the date of commencement of risk under the policy or from the date of revival of the policy, as applicable, the nominee or beneficiary of the policyholder shall be entitled to at least 80% of the total premiums paid till the date of death or the surrender value available as on the date of death whichever is higher, provided the policy is in force. 2. Age Admitted The Company has calculated the Premiums under the Policy on the basis of the age of the Life Assured as declared in the Proposal. In case you have not provided proof of age of the Life Assured with the Proposal, you will be required to furnish such proof of age of the Life Assured as is acceptable to us and have the age admitted. In the event the age so admitted (“Correct Age”) during the Policy Term is found to be different from the age declared in the Proposal, without prejudice to our rights and remedies including those under the Insurance Act, 1938 as amended from time to time, we shall take one of the following actions: i) If eligible, and if the Correct Age is found to be higher, the benefit payable under this Policy, Rider, if any, shall be after deduction of such difference of Premium (i.e. difference in Premium paid based on age declared in the Proposal and Premium based on the Correct Age) along with interest thereon. In such cases, before calculating the amount of benefit payable, the Policy shall be subject to re-underwriting and the Sum Assured shall be subject to eligibility as per underwriting norms and the Premium to be deducted shall be calculated proportionately on such Sum Assured payable. If the Correct Age is found to be lower, excess Premiums without any interest shall be refunded. ii) If ineligible for the Policy basis the Correct Age, the Policy shall be void-ab-initio and the total Premiums paid shall be refunded without interest after deducting all applicable charges like medical (if any), Stamp Duty (if any), risk etc. 3. Claim Procedure (1) Maturity Benefit - The Maturity Benefit will be paid if (i) The Policy has matured and the Life Assured is alive on the Maturity Date, (ii) No claim has been made on the Policy, except any survival benefit, if any, (iii) The Policy has not been discontinued or surrendered or cancelled or terminated; and (iv) All relevant documents including the original Policy document in support of your claim have been provided to the Company. (2) Death Benefit - The Death Benefit will be paid if (i) The death of the Life Assured has occurred before the Maturity Date, (ii) The standard Policy provisions specified in Part F Clause 1 (Exclusions) and Clause 7 (Incorrect Information and Non Disclosure) are not attracted, (iii) The Policy has not been discontinued or surrendered or cancelled or terminated; and (iv) All relevant documents in support of the claim have been provided to the Company. Basic documentation if death is due to Natural Cause: a. Completed claim form, (including NEFT details and bank account proof as specified in the claim form); b. Original Policy; c. Original or copy Death Certificate issued by Municipal Authority/ Gram Panchayat / Tehsildar (attested by issuing authority); d. Claimant’s identity and residence proof. Basic documentation if death is due to Un-Natural Cause: a. Completed claim form, (including NEFT details and bank account proof as specified in the claim form); b. Original Policy; Page 13 of 27',\n",
       "    'distances7': '0.3714788556098938',\n",
       "    'included1': 'e',\n",
       "    'ids0': '120',\n",
       "    'metadatas4': \"{'Policy_Name': 'HDFC-Life-Group-Term-Life-Policy', 'Page_No.': 'Page 11'}\",\n",
       "    'included2': 't',\n",
       "    'documents1': '[[\"21. Progressive\\\\nScleroderma\", \"22. Muscular\\\\nDystrophy\", \"23. Poliomyelitis\", \"24. Loss of Limbs\"], [\"25. Deafness\", \"26. Loss of Speech\", \"27. Medullary\\\\nCystic\\\\nDisease\", \"28. Systematic lupus\\\\nErythematosus with Renal\\\\nInvolvement\"], [\"29. Aplastic Anaemia\", null, null, null]] f. If a claim is made for Open Heart Replacement or Repair of Heart Valves, in addition to satisfying the definitions and exclusion criteria, the procedure or surgery must be determined to be Medically Necessary by a Consultant Cardiologist / Surgeon and must be supported by relevant imaging findings & evidenced by established diagnostic reports. g. Upon the payment of the benefits as mentioned above with respect to the plan option availed, the cover for that Scheme Member shall cease. h. Subject to Clause (n) below, the benefit as set out in the Scheme Member’s Certificate of Insurance shall be paid to the Nominee of the deceased Scheme Member for Single Life cases and for Joint Life cases, to the surviving life. If the benefit is in the form of an acceleration of the death benefit and the Scheme Member is alive, then the benefit shall be payable to the Scheme Member. i. The Death Benefit/Accelerated Critical Illness Benefit is subject to exclusions provided under Part F of the Master Policy. j. The Insurer shall be responsible to honour any valid claims brought under this policy in instances wherein the Master Policyholder has collected/ deducted the Premium but has failed to pay the same to the Insurer within the Grace Period due to administrative reasons. k. The payment of Death Benefit to the Master Policyholder may be made by the Insurer subject to the below mentioned conditions and in compliance with guidelines set forth by IRDAI in this regard: i. The Master Policyholder is a Regulated Entity as defined in Part B. ii. Scheme Members have specifically authorised the Insurer in a format provided by the Insurer to make payment of outstanding loan balance amount to the Master Policyholder from the total Death Benefit claim amount otherwise payable to the Nominee of the Scheme Member; iii. The Master Policyholder has collected written authorization from the Scheme Member and submitted the same to the Insurer; iv. Credit Account Statement has been provided by the Master Policyholder with details of Scheme Member as required by the Insurer and in formats provided by the Insurer; v. The Death Benefit claimed by the Master Policyholder is only to the extent of the outstanding loan balance; and vi. Where the Death Benefit is greater than the outstanding loan balance of the Scheme Member, the excess of the Death Benefit over such outstanding loan balance is paid to the Nominee of the Scheme Member. l. In case of Other Entities, the Death Benefit shall be payable to the Nominee, in the event of the Scheme Member’s demise. m. Option to extend the insurance cover to the spouse: The Master Policyholder has an option to extend the insurance cover to the spouse of the Scheme Members. The terms of cover for spouse will be consistent with the terms applicable for Scheme Members of the Scheme. n. For Joint Life cases, the benefits will be payable on a first-claim basis and upon the payment of benefit in respect of the first claimant, the cover for the other life will cease and Certificate of Insurance shall terminate . For the avoidance of doubt, it is clarified that in respect of Accelerated Critical Illness option, if the Accelerated Critical Illness claim has been made in respect of one of the lives, both the Accelerated Critical Illness cover and Death Benefit cover will cease for both the lives and Certificate of Insurance shall terminate. (2) Maturity Benefit – No maturity benefit is payable under this Policy. (3) Benefits on Surrender- A Scheme Member may surrender the Certificate of Insurance anytime during the Coverage Term and obtain the Surrender Value, which shall be calculated in the following manner: \\uf0b7 Single Pay The single premium used in the above formula will be excluding any statutory levies and any underwriting extra premium. \\uf0b7 Limited Pay Page 8 of 31',\n",
       "    'distances0': '0.344705194234848',\n",
       "    'metadatas2': \"{'Page_No.': 'Page 19', 'Policy_Name': 'HDFC-Life-Sampoorna-Jeevan-101N158V04-Policy-Document (1)'}\",\n",
       "    'metadatas7': \"{'Policy_Name': 'HDFC-Life-Sanchay-Plus-Life-Long-Income-Option-101N134V19-Policy-Document', 'Page_No.': 'Page 13'}\",\n",
       "    'included0': 'm',\n",
       "    'ids2': '133',\n",
       "    'documents0': 'PART C Product Core Benefits BENEFITS PAYABLE UNDER THIS POLICY C.1. Death Benefit: Subject to terms and conditions of this Policy and the Policy remaining In Force and effect, in the event of an unfortunate demise of the Life Assured after Risk Commencement Date but before Policy Maturity Date, the Company shall pay Sum Assured on Death plus vested Simple Reversionary Bonus, if declared, vested Simple Reversionary Income Bonus, if declared, vested Cash Bonus, if declared, Paid-up Additions on death, if any, plus Terminal Bonus, if declared as the case may be, which is unpaid as on date of death. The Death Benefit is payable to the Eligible Person after deduction of Indebtednesswhich is unpaid by Policyholder as on date of death. Upon payment of such Death Benefit, the Policy shall stand terminated and no other Benefits including Survival Benefits are payable. C.1.1. Sum Assured on Death: Sum Assured on Death is calculated as highest of the following: a) ‗X‘ times the Annualized Premium; or b) Minimum Guaranteed Sum Assured on Maturity; or c) Absolute amount assured to be paid on Death; or d) 105% of theTotalPremiums Paidtill the date of death The multiple of ‗X‖ times is defined as follows: [[\"For entry Age of Life Assured being less than 45 years\", \"For entry Age of Life Assured being 45 years and above\"], [\"10 times\", \"7 or 10 times\\\\n(shall be chosen on Date of Inception of Policy)\"]] C.1.1.1. Annualized Premium shall be the Premium amount payable in a year chosen by the Policyholder, excluding the taxes, rider Premiums, underwriting extra Premiums and loadings for modal Premiums, if any. C.1.1.2. Minimum Guaranteed Sum Assured on Maturity is defined as per the Guaranteed Benefit Option chosen by the Policyholder on Date of Inception of the Policy and is tabulated as following: [[\"Guaranteed Benefit Option\", \"Minimum Guaranteed Sum Assured on Maturity\"], [\"Option A : Lump sum Option\", \"100% of Basic Sum Assured\"], [\"Option B : Income Option\", \"Last Guaranteed Income Benefit payable on Policy Maturity Date, which\\\\nis equal to 5% of Basic Sum Assured\"], [\"Option C : Lump sum with Income Option\", \"Last Guaranteed Income Benefit payable on Policy Maturity Date which\\\\nis equal to\\\\n\\\\uf0b7 10% of Basic Sum Assured for Sampoorna Jeevan 75\\\\n\\\\uf0b7 5% of Basic Sum Assured for Sampoorna Jeevan 100\"], [\"Option D : Income with Lump sum Option\", \"100% of Basic Sum Assured.\"]] C.1.1.3 Absolute amount to be paid on Death shall be equal to the Basic Sum Assured under this Policy. C.2. Maturity Benefit: Subject to the terms and conditions of this Policy and the Policy remaining In Force on the Policy Maturity Date and survival of the Life Assured on Policy Maturity Date, the Company shall pay to the Policyholder the following Benefits on the Policy Maturity Date, based on the Guaranteed Benefit Option chosen by Policyholder and as specified in Policy Schedule. [[\"Guaranteed Benefit Option\", \"Maturity Benefit\"]]',\n",
       "    'metadatas3': \"{'Policy_Name': 'HDFC-Life-Group-Poorna-Suraksha-101N137V02-Policy-Document', 'Page_No.': 'Page 15'}\",\n",
       "    'included3': 'a',\n",
       "    'distances6': '0.3698332905769348',\n",
       "    'distances5': '0.3689667582511902',\n",
       "    'documents3': 'Note: For the purpose of waiting period, Date of commencement or inception of coverage for a benefit option shall mean the date from which the member is covered under that benefit option. iv. Accidental Death Benefit Exclusions: 1. No Accidental Death Benefit will be payable if the death of the Scheme Members occurs after 180 days from the date of Accident. Specific Exclusions for this benefit are listed below We will not pay Accidental Death Benefit, if Accidental Death is caused from or due to any of the following: \\uf0b7 Intentionally self-inflicted injury or suicide while sane or insane \\uf0b7 Alcohol or Solvent abuse or taking of Drugs, narcotics or psychotropic substances unless taken in accordance with the lawful directions and prescription of a registered medical practitioner. \\uf0b7 Engaging in or taking part in professional sport(s) or any hazardous pursuits, power boat racing, sky diving, para gliding, parachuting, scuba diving, skydo riding, winter sports, sky jumping, ice hockey, ice speedway, ballooning, hand gliding, river rafting / bugging, black water rafting, yachting / boating outside coastal waters, motor rallying, power lifting, quad biking, rodeo and roller hockey. \\uf0b7 War, invasion, hostilities (whether war is declared or not), civil war, rebellion, revolution or taking part in a riot or civil commotion. \\uf0b7 Taking part in any flying activity, other than as a passenger in a commercially licensed aircraft. \\uf0b7 Participation by the life assured in a criminal or unlawful act. 2. Claims Procedure: (1) The Master Policyholder shall inform the Insurer within 30 days of the death/ illness of a Scheme Member and shall file a claim with the Insurer on behalf of the Nominee of the deceased Scheme Member in the form prescribed by the Insurer and accompanied by all relevant documents as may be required by the Insurer, within 90 days from the date of death/ /illness. However, the Insurer will condone the delay caused in intimation of claim where the claim is genuine and the delay is proved to be for reasons beyond the control of the claimant. (2) Subject to Part C Clause 1 sub-clause (1)(n), the Insurer shall pay the Claim amount in relation to the Death Benefit to the Nominee of the deceased Scheme Member in Single Life cases and to the surviving life in the Joint Life cases, who shall give a valid discharge/receipt for the same. If the benefit is in the form of an acceleration of the death benefit and the Scheme Member is alive, then the benefit shall be payable to the Scheme Member. (3) The documents required for processing a claim are: Basic documentation if death is due to Natural Cause: a. Completed claim form, (including NEFT details and bank account proof as specified in the claim form); b. Original Policy; c. Original or copy Death Certificate issued by Municipal Authority/ Gram Panchayat / Tehsildar (attested by issuing authority); d. Claimant’s identity and residence proof. e. Certificate of Insurance as issued to the Scheme Member Basic Documentation if death is due to un-natural causes: a. Completed claim form, (including NEFT details and bank account proof as specified in the claim form); a. Original Policy; b. Original or copy Death Certificate issued by Municipal Authority/ Gram Panchayat / Tehsildar (attested by issuing authority); c. Claimant’s identity and residence proof. d. Certificate of Insurance as issued to the Scheme Member e. Original or copy of First Information Report, Police Panchnama report attested by Police authorities; and f. Original or copy of Post mortem report attested by Hospital authority. Note: Depending on the circumstances of the death, further documents may be called for as we deem fit. . Critical Illness Benefit Claim: Page 15 of 31',\n",
       "    'documents4': 'PART C PRODUCT CORE BENEFITS BENEFITS PAYABLE UNDER THIS POLICY: C.1.Subject to the terms and conditions of this Policy, in the event of death of the Insured Member during the term of the Insurance Cover, the Sum Assured shall become payable as defined hereunder: C.1.1 In case a Policy is issued under an Employer Employee group insurance If an Insured Member dies during the Policy Year the amount specified in the Coverage Schedule as Sum Assured for such Insured Member shall become payable to the Beneficiary of the Insured Member. C.1.2 In the case of Affinity Group where there is a lender-borrower relationship, and as per the authorization provided by the Insured Members to the Company, the claim proceeds to the extent of the outstanding loan would be paid to the Master Policyholder in consideration of the loan availed by the Insured Member from the Master Policy Holder. Any amount remaining after the claim settlement to the Master Policy Holder shall be paid by the Company to the nominee of the Insured Member. C.1.4. If Accidental Death of an Insured Member occurs during the Policy Year the amount specified in the Coverage Schedule as the Additional Sum Assured (if opted by the Policyholder), for such Insured Member shall become payable to the Beneficiary of the Insured Member. However, the maximum Benefit payable by the Company on Accidental Death of an Insured Member under all policies put together issued by the Company, shall, at all times, be limited to a total of Rs.10,000,000/- (Rupees 1 crore only). C.2 Beneficiaries C.2.1 Each Insured Member shall, using the forms provided by the Policy Holder, designate a nominee or nominees to whom the Benefits under this Policy shall be payable in the event of death and such designation shall be filed with the Policyholder. C.2.2 If at the death of the Insured Member there be no designated nominee or nominees filed with the Policyholder, or if such nominee or nominees predecease such Insured Member, the Benefits shall be payable to the legal heir of the Insured Member. C.2.3 During the Insured Member’s lifetime, he shall be entitled to change the nominee by written notice to the Policyholder. Such change shall take effect on receipt of such notice by the Policyholder. C.2.4 In the case of Affinity group where there is a lender-borrower relationship, and as per the authorization provided by the Insured Members to the Company, the beneficiary would be the Master Policyholder to the extent of the outstanding loan amount of the Insured Member. Any amount remaining after the claim settlement to the Master Policy Holder shall be paid by the Company to the nominee of the Insured Member. C.3. Mode of payment of Benefits C.3.1. All Benefits and other sums under this Policy shall be payable in the manner and currency allowed/permitted under the Regulations and shall be payable by permissible modes. C.3.2. Apart from the Benefits mentioned hereinabove in part C, the Company shall not be liable to pay any other Benefits. F&U dated 15th October 2022 UIN-101N169V02 P a ge | 10',\n",
       "    'documents6': 'HDFC Life Smart Pension Plan 101L164V02 – Terms and Conditions (Direct & Online Sales) (A Unit Linked Non-Participating Individual Pension Plan) F.12 Suicide Exclusion: In case of death due to suicide within 12 months from the Date of Commencement of the Policy or from the date of Revival of the Policy, as applicable, the Eligible Person shall be entitled to the Fund Value, as available on the date of intimation of death. Further any charges other than Fund Management charges (FMC) recovered subsequent to the date of death shall be added back to the Fund Value as available on the date of intimation of death. F.13 Requirements for death claims: In the event of a claim for Vesting Benefit or Death Benefit arising under this Policy, the Eligible Person shall provide the following documents to the Company within the time stipulated to enable the Company to process the claim: F.13.1 Except death claims arising out of accidents or unnatural deaths: (i) Death Certificate, in original, issued by the competent authority; (ii) Policy document, in original; (iii) Identification proof (bearing photo) of person receiving the Benefit and the Life Assured; (iv) Medical treatment records (discharge summary / death summary, investigation reports, etc.) if Life Assured has taken treatment for illness leading to his/her death; (v) Bank account details of the claimant along with IFSC code (payment would be made vide NEFT only). F.13.2 In case of death claims arising out of accidents or unnatural deaths: (i) Death Certificate, in original, issued by the competent authority; (ii) Policy document, in original; (iii) Identification proof (bearing photo) of person receiving the Benefit and the Life Assured; (iv) First Information Report, Inquest and the Final Investigation Report thereof, duly attested by concerned jurisdictional Police Official; (v) Post Mortem Report duly attested by the concerned officials; (vi) Bank account details of the claimant along with IFSC code (payment would be made vide NEFT only). Notwithstanding anything contained in Clause F.13.1 and F.13.2 above, depending upon the cause or nature of the claim, the Company reserves the right to call for any other and/or additional documents or information, including documents/information concerning the title of the person claiming the Death Benefit under this Policy, to the satisfaction of the Company, for processing of the claim. The claim is required to be intimated to Us within a period of 90 days from the date of death of the Life Assured, to treat the same as a valid claim. Delay in intimation of claim or submission of documents for the reasons beyond the control of the insured/claimant may be condoned by the Company. F.13.3 Requirements for vesting claims: In case of vesting claims, (i) Original Policy Document; and (ii) Discharge Form (iii) Self-attested ID Proof, and (iv) Bank account details along with IFSC code (payment would be made vide NEFT only) in case there is a change in the bank details already provided. F.14 Issuance of Duplicate Policy In the event if the Policyholder loses/misplaces /destroys the original Policy bond, the Policyholder shall immediately inform the Company. The Company after obtaining satisfactory evidence shall issue duplicate Policy by collecting necessary charges not exceeding INR 250. Page 23 of 37',\n",
       "    'distances4': '0.36598679423332214',\n",
       "    'included6': 't',\n",
       "    'metadatas0': \"{'Policy_Name': 'HDFC-Life-Sampoorna-Jeevan-101N158V04-Policy-Document (1)', 'Page_No.': 'Page 6'}\",\n",
       "    'distances1': '0.35692423582077026',\n",
       "    'included4': 'd',\n",
       "    'ids7': '195',\n",
       "    'ids1': '59',\n",
       "    'ids8': '58',\n",
       "    'included8': 's',\n",
       "    'ids5': '7',\n",
       "    'metadatas1': \"{'Policy_Name': 'HDFC-Life-Group-Poorna-Suraksha-101N137V02-Policy-Document', 'Page_No.': 'Page 8'}\",\n",
       "    'distances2': '0.35701069235801697',\n",
       "    'distances3': '0.3648167848587036',\n",
       "    'metadatas6': \"{'Page_No.': 'Page 23', 'Policy_Name': 'HDFC-Life-Smart-Pension-Plan-Policy-Document-Online'}\",\n",
       "    'ids3': '66',\n",
       "    'included5': 'a',\n",
       "    'documents2': '(i) Death Certificate, in original, issued by the competent authority; (ii) Policy Document, in original; (iii) Identification proof (bearing photo) of person receiving the Benefit and the Life Assured. (iv) Medical treatment records (discharge summary / death summary, investigation reports, etc.) if Life Assured has taken treatment for illness leading to his/her death. (v) Bank account details of the claimant along with IFSC code (payment would be made vide NEFT only) F.15.3.In case of death claims arising out of accidents or unnatural deaths (i) Death Certificate, in original, issued by the competent authority; (ii) Policy Document, in original; (iii) Identification proof (bearing photo) of person receiving the Benefit and the Life Assured. (iv) First Information Report, Inquest and the Final Investigation Report thereof, duly attested by concerned jurisdictional Police Official. (v) Post Mortem Report duly attested by the concerned officials. (vi) Bank account details of the claimant along with IFSC code (payment would be made vide NEFT only) Notwithstanding anything contained in Clause F.15.2 and F.15.3 above, depending upon the cause or nature of the claim, the Company reserves the right to call for any other and/or additional documents or information, including documents/information concerning the title of the person claiming the Death Benefit under this Policy, to the satisfaction of the Company, for processing of the claim. The claim is required to be intimated to the Company within a period of 90 days from the date of death, to treat the same as a valid claim. However, delay in intimation of claim or submission of documents for the reasons beyond the control of the insured/claimant may be condoned by the Company. F.16 Issuance of Duplicate Policy: In the event if the Policyholder loses/misplaces /destroys the original Policy bond, the Policyholder shall immediately inform the Company, the Company after obtaining satisfactory evidence shall issue duplicate Policy by collecting necessary charges not exceeding INR 250 and on such conditions as decided by the Company and after completing procedural compliances. F.17. Force Majeure: During Force Majeure Event, the performance of the Policy may be wholly or partially suspended under an intimation and prior approval of the IRDAI. We will resume Our obligations under the Policy after the Force Majeure Event ceases to exist. F.18. Policy on the Life of the Minor: F.18.1.Vesting of the Policy: If the Policy is issued on the life of a minor, the Policy will vest on him/her, as specified in the Policy Schedule and on his/her attainment of Age of majority and on such vesting; the Company will recognize him/her to be the holder of the Policy.',\n",
       "    'included7': 'a',\n",
       "    'distances8': '0.37220728397369385',\n",
       "    'documents5': 'HDFC Life Smart Pension Plan 101L164V02 – Terms and Conditions (Direct & Online Sales) (A Unit Linked Non-Participating Individual Pension Plan) PART C Product Core Benefits Subject to the provisions and fulfilment of the conditions of this Policy, the Company agrees to pay to the Eligible Person the Benefits under this Policy on the happening of the event/s subject to furnishing proof of happening of the event/s to the satisfaction of the Company. C.1 Death Benefit: Death Benefit is the amount payable on death of Life Assured to the Nominee after Risk Commencement Date and before the Policy Vesting Date and is subject to the terms of this Policy and the Policy remaining In Force and is higher of the following: i. Fund Value; or ii. Sum Assured on Death. C.1.1 Utilization of Death Benefit: On death of the Policyholder prior to the Vesting Date, the nominee will have the following options: i. Withdraw the entire Death Benefit of the Policy; or ii. To utilize the entire Death Benefit of the Policy or part thereof for purchasing an immediate annuity (subject to minimum Annuity as allowed by Regulations as amended from time to time) or deferred annuity at the then prevailing annuity rate from the Company. However, the nominee will have the option to purchase annuity from any other insurer at the then Prevailing Annuity Rate to the extent of 50%, of the entire Death Benefit of the Policy net of Commutation or such percentage, as may be prescribed by the IRDAI from time to time. C.2 Vesting Benefit: On survival of the Life Assured till the Vesting Date, Vesting Benefit is the Fund Value as on the Vesting Date. C.2.1 Utilization of Vesting Benefit: The Policyholder will have the following options: i. To utilize the entire Vesting Benefit to purchase immediate annuity or deferred annuity from the Company at the then Prevailing Annuity Rate or to Commute up to 60% and utilize the balance amount to purchase immediate annuity or deferred annuity from the Company at the then prevailing annuity rate. ii. The Policyholder will have an option to purchase immediate annuity or deferred annuity from another insurer at the then Prevailing Annuity Rate to the extent of 50%, of the entire Vesting Benefit of the Policy net of Commutation or such percentage, as may be prescribed by the IRDAI from time to time. In case the amount applied to purchase immediate Annuity is insufficient to purchase minimum Annuity as allowed by Regulations amended from time to time, such amount will be paid to the Eligible Person in lumpsum. C.2.2 Postponement of Vesting Date: On the date of vesting, in addition to the above, the Policyholder shall have an option to extend the accumulation period or deferment period within the same Policy with the same terms and conditions as the original Policy provided the Policyholder is below an age of 60 years at the time of exercising this option. C.2.3 Loyalty Additions: Loyalty Additions will be allocated as extra units at the end of every Policy Year, starting from the end of 10th Policy Year. Each Loyalty Addition will be a percentage of average of Fund Value including top ups, if any, on the last Business Day of last and current Policy Anniversary. The percentage applicable is 0.25% in Page 8 of 37',\n",
       "    'metadatas8': \"{'Page_No.': 'Page 7', 'Policy_Name': 'HDFC-Life-Group-Poorna-Suraksha-101N137V02-Policy-Document'}\",\n",
       "    'ids4': '163',\n",
       "    'documents8': 'Part C 1. Benefits: (1) Benefits on Death or diagnosis of contingency covered – [[\"Plan Option\", \"Events\", \"Benefit\"], [\"Life\", \"Death\", \"In the event of the death of the Scheme Member, the\\\\nbenefit payable shall be the Sum Assured.\"], [\"Extra Life Option\", \"Death\", \"In the event of the death of the Scheme Member, the\\\\nbenefit payable shall be the Sum Assured.\"], [null, \"Accidental Death\", \"In event of the Scheme Member\\\\u2019s death due to\\\\nAccident, an additional death benefit equal to the Sum\\\\nAssured will be payable.\\\\nThis is in addition to the death benefit mentioned\\\\nabove\"], [\"Accelerated Critical Illness\\\\nOption\", \"Death\", \"In the event of the death of the Scheme Member, the\\\\nbenefit payable shall be the Sum Assured.\"], [null, \"Diagnosis of a\\\\nCritical Illness\", \"In the event of Scheme Member being diagnosed with\\\\nany of the covered Critical Illnesses during the Policy\\\\nTerm, the benefit payable shall be the Sum Assured\\\\nand the policy will terminate.\"]] a. The Policy Term, Sum Assured, Cover option, and Mode of Premium Payment will be chosen by Scheme Member and these may vary from one Scheme Member to another. b. The Certificate of Insurance issued to a Scheme Member will set out the benefit payable in respect of that Scheme Member during the Coverage Term. c. The benefits specified in the Certificate of Insurance are payable provided the Scheme Member’s death or Accidental Death has occurred during the Coverage Term of the Scheme Member or in case of diagnosis of any one of the Critical Illnesses or undergoing any of the covered surgeries during the coverage term, subject to Master Policy being in force and all due Premiums, Taxes and any Other Levies been paid and subject to any restrictions or qualifications referred to in these Clauses. d. If Accelerated Critical Illness Option is chosen, in the event of the Scheme Member being diagnosed on first occurrence of any of the Critical Illness or undergoing any of the covered surgeries listed below during the coverage term, the Accelerated Critical Illness Benefit shall be payable under the Master Policy. After payment of the Accelerated Critical Illness Benefit, the coverage of the Scheme Member shall cease and all benefits shall expire. e. The covered Critical Illnesses under the Accelerated Critical Illness option are listed herein below and defined under Annexure IV of this Master Policy: [[\"\", \"List of covered Critical Illnesses and surgeries\", null, null, null, \"\"], [\"1. Myocardial Infarction\\\\n(First Heart Attack of\\\\nspecific severity)\", null, \"2. Open Heart\\\\nReplacement or\\\\nRepair of Heart\\\\nValves\", \"3. Cancer of\\\\nSpecified\\\\nSeverity\", \"4. Kidney failure requiring\\\\nregular dialysis\", null], [\"5. Stroke resulting in\\\\npermanent symptoms\", null, \"6. Alzheimer\\'s\\\\nDisease\", \"7. Apallic\\\\nSyndrome\", \"8. Coma of specified severity\", null], [\"9. End Stage Liver\\\\nFailure\", null, \"10. End Stage Lung\\\\nFailure\", \"11. Loss of\\\\nIndependent\\\\nExistence\", \"12. Blindness\", null], [\"13. Third Degree Burns\", null, \"14. Major Head\\\\nTrauma\", \"15. Parkinson\\'s\\\\nDisease\", \"16. Permanent paralysis of limbs\", null], [\"17. Multiple Sclerosis\\\\nwith persisting\\\\nsymptoms\", null, \"18. Motor Neuron\\\\nDisease with\\\\npermanent\\\\nsymptoms\", \"19. Benign Brain\\\\nTumour\", \"20. Major Organ Transplant (as\\\\nrecipient)\", null]] Page 7 of 31',\n",
       "    'ids6': '22',\n",
       "    'metadatas5': \"{'Page_No.': 'Page 8', 'Policy_Name': 'HDFC-Life-Smart-Pension-Plan-Policy-Document-Online'}\"}]],\n",
       " 'distances': [[0.08976276963949203]]}"
      ]
     },
     "execution_count": 119,
     "metadata": {},
     "output_type": "execute_result"
    }
   ],
   "source": [
    "cache_results"
   ]
  },
  {
   "cell_type": "code",
   "execution_count": 120,
   "metadata": {
    "id": "-oYMcSJbuepc"
   },
   "outputs": [],
   "source": [
    "results = insurance_collection.query(\n",
    "query_texts=query,\n",
    "n_results=10\n",
    ")\n",
    "# results.items()"
   ]
  },
  {
   "cell_type": "code",
   "execution_count": 121,
   "metadata": {
    "colab": {
     "base_uri": "https://localhost:8080/"
    },
    "executionInfo": {
     "elapsed": 6,
     "status": "ok",
     "timestamp": 1712737716508,
     "user": {
      "displayName": "Henry Isaac",
      "userId": "09127918064436985573"
     },
     "user_tz": -330
    },
    "id": "fJFO4OYafKCg",
    "outputId": "8bcd14ee-e0af-48ea-9de4-afcabdba8118"
   },
   "outputs": [
    {
     "name": "stdout",
     "output_type": "stream",
     "text": [
      "Found in cache!\n"
     ]
    }
   ],
   "source": [
    "# Implementing Cache in Semantic Search\n",
    "\n",
    "# Set a threshold for cache search\n",
    "threshold = 0.2\n",
    "\n",
    "ids = []\n",
    "documents = []\n",
    "distances = []\n",
    "metadatas = []\n",
    "results_df = pd.DataFrame()\n",
    "\n",
    "\n",
    "# If the distance is greater than the threshold, then return the results from the main collection.\n",
    "\n",
    "if cache_results['distances'][0] == [] or cache_results['distances'][0][0] > threshold:\n",
    "      # Query the collection against the user query and return the top 10 results\n",
    "      results = insurance_collection.query(\n",
    "      query_texts=query,\n",
    "      n_results=10\n",
    "      )\n",
    "\n",
    "      # Store the query in cache_collection as document w.r.t to ChromaDB so that it can be embedded and searched against later\n",
    "      # Store retrieved text, ids, distances and metadatas in cache_collection as metadatas, so that they can be fetched easily if a query indeed matches to a query in cache\n",
    "      Keys = []\n",
    "      Values = []\n",
    "\n",
    "      for key, val in results.items():\n",
    "        if val is None:\n",
    "          continue\n",
    "        for i in range(min(10, len(val[0]))):\n",
    "          Keys.append(str(key)+str(i))\n",
    "          Values.append(str(val[0][i]))\n",
    "        # Fill remaining slots if needed\n",
    "        for i in range(len(val[0]), 10):\n",
    "          Keys.append(str(key)+str(i))\n",
    "          Values.append(\"\")\n",
    "\n",
    "\n",
    "      cache_collection.add(\n",
    "          documents= [query],\n",
    "          ids = [query],  # Or if you want to assign integers as IDs 0,1,2,.., then you can use \"len(cache_results['documents'])\" as will return the no. of queries currently in the cache and assign the next digit to the new query.\"\n",
    "          metadatas = dict(zip(Keys, Values))\n",
    "      )\n",
    "\n",
    "      print(\"Not found in cache. Found in main collection.\")\n",
    "\n",
    "      result_dict = {'Metadatas': results['metadatas'][0], 'Documents': results['documents'][0], 'Distances': results['distances'][0], \"IDs\":results[\"ids\"][0]}\n",
    "      results_df = pd.DataFrame.from_dict(result_dict)\n",
    "      results_df\n",
    "\n",
    "\n",
    "# If the distance is, however, less than the threshold, you can return the results from cache\n",
    "\n",
    "elif cache_results['distances'][0][0] <= threshold:\n",
    "      cache_result_dict = cache_results['metadatas'][0][0]\n",
    "\n",
    "      # Loop through each inner list and then through the dictionary\n",
    "      for key, value in cache_result_dict.items():\n",
    "          if 'ids' in key:\n",
    "              ids.append(value)\n",
    "          elif 'documents' in key:\n",
    "              documents.append(value)\n",
    "          elif 'distances' in key:\n",
    "              distances.append(value)\n",
    "          elif 'metadatas' in key:\n",
    "              metadatas.append(value)\n",
    "\n",
    "      print(\"Found in cache!\")\n",
    "\n",
    "      # Create a DataFrame\n",
    "      results_df = pd.DataFrame({\n",
    "        'IDs': ids,\n",
    "        'Documents': documents,\n",
    "        'Distances': distances,\n",
    "        'Metadatas': metadatas\n",
    "      })\n"
   ]
  },
  {
   "cell_type": "code",
   "execution_count": 122,
   "metadata": {
    "colab": {
     "base_uri": "https://localhost:8080/",
     "height": 3097
    },
    "executionInfo": {
     "elapsed": 432,
     "status": "ok",
     "timestamp": 1712737724018,
     "user": {
      "displayName": "Henry Isaac",
      "userId": "09127918064436985573"
     },
     "user_tz": -330
    },
    "id": "4M2p_b_Mxmmr",
    "outputId": "e980839a-4043-42c4-ef74-8e2b2632d7bd"
   },
   "outputs": [
    {
     "data": {
      "text/html": [
       "<div>\n",
       "<style scoped>\n",
       "    .dataframe tbody tr th:only-of-type {\n",
       "        vertical-align: middle;\n",
       "    }\n",
       "\n",
       "    .dataframe tbody tr th {\n",
       "        vertical-align: top;\n",
       "    }\n",
       "\n",
       "    .dataframe thead th {\n",
       "        text-align: right;\n",
       "    }\n",
       "</style>\n",
       "<table border=\"1\" class=\"dataframe\">\n",
       "  <thead>\n",
       "    <tr style=\"text-align: right;\">\n",
       "      <th></th>\n",
       "      <th>IDs</th>\n",
       "      <th>Documents</th>\n",
       "      <th>Distances</th>\n",
       "      <th>Metadatas</th>\n",
       "    </tr>\n",
       "  </thead>\n",
       "  <tbody>\n",
       "    <tr>\n",
       "      <th>0</th>\n",
       "      <td>120</td>\n",
       "      <td>HDFC Life Sanchay Plus (UIN – 101N134V19) – Ap...</td>\n",
       "      <td>0.3714788556098938</td>\n",
       "      <td>{'Policy_Name': 'HDFC-Life-Group-Term-Life-Pol...</td>\n",
       "    </tr>\n",
       "    <tr>\n",
       "      <th>1</th>\n",
       "      <td>133</td>\n",
       "      <td>[[\"21. Progressive\\nScleroderma\", \"22. Muscula...</td>\n",
       "      <td>0.344705194234848</td>\n",
       "      <td>{'Page_No.': 'Page 19', 'Policy_Name': 'HDFC-L...</td>\n",
       "    </tr>\n",
       "    <tr>\n",
       "      <th>2</th>\n",
       "      <td>195</td>\n",
       "      <td>PART C Product Core Benefits BENEFITS PAYABLE ...</td>\n",
       "      <td>0.3698332905769348</td>\n",
       "      <td>{'Policy_Name': 'HDFC-Life-Sanchay-Plus-Life-L...</td>\n",
       "    </tr>\n",
       "    <tr>\n",
       "      <th>3</th>\n",
       "      <td>59</td>\n",
       "      <td>Note: For the purpose of waiting period, Date ...</td>\n",
       "      <td>0.3689667582511902</td>\n",
       "      <td>{'Policy_Name': 'HDFC-Life-Group-Poorna-Suraks...</td>\n",
       "    </tr>\n",
       "    <tr>\n",
       "      <th>4</th>\n",
       "      <td>58</td>\n",
       "      <td>PART C PRODUCT CORE BENEFITS BENEFITS PAYABLE ...</td>\n",
       "      <td>0.36598679423332214</td>\n",
       "      <td>{'Policy_Name': 'HDFC-Life-Sampoorna-Jeevan-10...</td>\n",
       "    </tr>\n",
       "    <tr>\n",
       "      <th>5</th>\n",
       "      <td>7</td>\n",
       "      <td>HDFC Life Smart Pension Plan 101L164V02 – Term...</td>\n",
       "      <td>0.35692423582077026</td>\n",
       "      <td>{'Policy_Name': 'HDFC-Life-Group-Poorna-Suraks...</td>\n",
       "    </tr>\n",
       "    <tr>\n",
       "      <th>6</th>\n",
       "      <td>66</td>\n",
       "      <td>(i) Death Certificate, in original, issued by ...</td>\n",
       "      <td>0.35701069235801697</td>\n",
       "      <td>{'Page_No.': 'Page 23', 'Policy_Name': 'HDFC-L...</td>\n",
       "    </tr>\n",
       "    <tr>\n",
       "      <th>7</th>\n",
       "      <td>163</td>\n",
       "      <td>HDFC Life Smart Pension Plan 101L164V02 – Term...</td>\n",
       "      <td>0.3648167848587036</td>\n",
       "      <td>{'Page_No.': 'Page 7', 'Policy_Name': 'HDFC-Li...</td>\n",
       "    </tr>\n",
       "    <tr>\n",
       "      <th>8</th>\n",
       "      <td>22</td>\n",
       "      <td>Part C 1. Benefits: (1) Benefits on Death or d...</td>\n",
       "      <td>0.37220728397369385</td>\n",
       "      <td>{'Page_No.': 'Page 8', 'Policy_Name': 'HDFC-Li...</td>\n",
       "    </tr>\n",
       "  </tbody>\n",
       "</table>\n",
       "</div>"
      ],
      "text/plain": [
       "   IDs                                          Documents  \\\n",
       "0  120  HDFC Life Sanchay Plus (UIN – 101N134V19) – Ap...   \n",
       "1  133  [[\"21. Progressive\\nScleroderma\", \"22. Muscula...   \n",
       "2  195  PART C Product Core Benefits BENEFITS PAYABLE ...   \n",
       "3   59  Note: For the purpose of waiting period, Date ...   \n",
       "4   58  PART C PRODUCT CORE BENEFITS BENEFITS PAYABLE ...   \n",
       "5    7  HDFC Life Smart Pension Plan 101L164V02 – Term...   \n",
       "6   66  (i) Death Certificate, in original, issued by ...   \n",
       "7  163  HDFC Life Smart Pension Plan 101L164V02 – Term...   \n",
       "8   22  Part C 1. Benefits: (1) Benefits on Death or d...   \n",
       "\n",
       "             Distances                                          Metadatas  \n",
       "0   0.3714788556098938  {'Policy_Name': 'HDFC-Life-Group-Term-Life-Pol...  \n",
       "1    0.344705194234848  {'Page_No.': 'Page 19', 'Policy_Name': 'HDFC-L...  \n",
       "2   0.3698332905769348  {'Policy_Name': 'HDFC-Life-Sanchay-Plus-Life-L...  \n",
       "3   0.3689667582511902  {'Policy_Name': 'HDFC-Life-Group-Poorna-Suraks...  \n",
       "4  0.36598679423332214  {'Policy_Name': 'HDFC-Life-Sampoorna-Jeevan-10...  \n",
       "5  0.35692423582077026  {'Policy_Name': 'HDFC-Life-Group-Poorna-Suraks...  \n",
       "6  0.35701069235801697  {'Page_No.': 'Page 23', 'Policy_Name': 'HDFC-L...  \n",
       "7   0.3648167848587036  {'Page_No.': 'Page 7', 'Policy_Name': 'HDFC-Li...  \n",
       "8  0.37220728397369385  {'Page_No.': 'Page 8', 'Policy_Name': 'HDFC-Li...  "
      ]
     },
     "execution_count": 122,
     "metadata": {},
     "output_type": "execute_result"
    }
   ],
   "source": [
    "results_df"
   ]
  },
  {
   "cell_type": "markdown",
   "metadata": {
    "id": "kHCB3MpXzX_d"
   },
   "source": [
    "## 5. <font color = red> Re-Ranking with a Cross Encoder\n",
    "\n",
    "Re-ranking the results obtained from your semantic search can sometime significantly improve the relevance of the retrieved results. This is often done by passing the query paired with each of the retrieved responses into a cross-encoder to score the relevance of the response w.r.t. the query.\n",
    "\n",
    "<br>\n",
    "\n",
    "![Bi_vs_Cross-Encoder.png](data:image/png;base64,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)\n",
    "\n",
    "<br>"
   ]
  },
  {
   "cell_type": "code",
   "execution_count": 123,
   "metadata": {
    "id": "nLcDXPgIzWNo"
   },
   "outputs": [],
   "source": [
    "# Import the CrossEncoder library from sentence_transformers\n",
    "\n",
    "from sentence_transformers import CrossEncoder, util"
   ]
  },
  {
   "cell_type": "code",
   "execution_count": 124,
   "metadata": {
    "colab": {
     "base_uri": "https://localhost:8080/",
     "height": 301,
     "referenced_widgets": [
      "318bdc4f41f6455aaf27d59edc211a30",
      "9b4a8516436d43eb8fbe03a341ae78d9",
      "69d45cf427b84e979016cecfbcd23abc",
      "91d0823ab6284767900b352475ea2c2e",
      "2818c0be642a413184354524ceabdd41",
      "5a0a4f1b57f5479da0e1c6e958bf9495",
      "ba4c0bbcd90a46b98c958673ad9f267f",
      "50c4266536624490bbfd7870d4547ab0",
      "6c831d56199e4d49abd357a996668338",
      "d3f833d4333e4d4b806ada5ed2eafa89",
      "1a9e42b397754a2884d256f0494aeb94",
      "cfb80954967c476b8b2cd7212098c26b",
      "09f823e2ce2d49b881c5aee02930bc46",
      "49aee00a8a9b4f70942c664b9f2e0e9e",
      "d76be070ee6946f7a58bdf846278eaf5",
      "d9b3fb5f78a54d80b9231841876b2cab",
      "390a9d9981864e6295ed32001b8dcc24",
      "404d25d11d0444c8a7b5685b3009ee24",
      "b027d452da9d4ab5bb39afcf6bc4d1ec",
      "18c41ad7e2bb48af8cfbc4f589387109",
      "5cf8300d09714f76bfb0ad476249b44c",
      "578ca6581f2e4102b2db2e671240298f",
      "f3018e188fd34adab8acfc221b13e10b",
      "f77c56f84c864176955ef5c403894dad",
      "90fa58a400f54bd4baa2993eea60e5c9",
      "8d870df6c73543d389ef518a51c9a343",
      "93c42e13a07e448aa6a2ce60f0804a18",
      "e1812c38c00441ea9e9b0ae20cbd2791",
      "ae5700d7f228484cb73a595475f0d307",
      "5b3df234860842a2aae63970f521307d",
      "1ae8c6e0c9c74d92b86097efd7a28c66",
      "12089f522ecd45539950beefd0757e9e",
      "4443f757b0d342d49bf8e6d5556f1e8d",
      "9138455a3af040d28cd3b33acd9946e6",
      "dbf9b6f8d5ac4031b1edbc543aec9002",
      "f04745cebedf44869d749532699e33c8",
      "6adb70ba9ae84a2ea3ef7ef1bfbf5037",
      "13d42891bef74d5dbf6f355361dc267f",
      "31273c0b0b5840eb97a827bfa3ed3aad",
      "4fbf0b4a00fc4a8f9e6db43caf5c826e",
      "5693c81f874042a1bda60f07fe406cff",
      "4793de0caa1545af8d117c10ccc6eb17",
      "58358f9d10c548a0b2f0dfaf0ed237b6",
      "06b7469526954db297c0a9711b4285e4",
      "f25c1d03fddd429bb86d26827e4d5257",
      "4781e622681c4ba8a51950180588fdbf",
      "6ac3529d7899486fa93fa4bfed353752",
      "6d92cf7e51ea481b8e8b4c13c2036917",
      "1256e98c2ae449a1a1df5bccd4fedce5",
      "84dbeed6a4d94beaae717a16a8a632ae",
      "1d575bbe49f94936ab912f7d475a9424",
      "e5b2dd61f80e4e668df19009ee85a19f",
      "6c8fb58e6c5743daad70f57a3d3170c4",
      "1630d7e490d54ff89450e972c81ee857",
      "fa08cfcafbd0448fb401ed79d643c7b2"
     ]
    },
    "executionInfo": {
     "elapsed": 5799,
     "status": "ok",
     "timestamp": 1712737757860,
     "user": {
      "displayName": "Henry Isaac",
      "userId": "09127918064436985573"
     },
     "user_tz": -330
    },
    "id": "FpKFGIm8zWNp",
    "outputId": "0291a8d4-0146-4c69-b8c8-26a5d5329b84"
   },
   "outputs": [],
   "source": [
    "# Initialise the cross encoder model\n",
    "\n",
    "cross_encoder = CrossEncoder('cross-encoder/ms-marco-MiniLM-L-6-v2')"
   ]
  },
  {
   "cell_type": "code",
   "execution_count": 125,
   "metadata": {
    "id": "t_6t6nAbtA6r"
   },
   "outputs": [],
   "source": [
    "# Test the cross encoder model\n",
    "\n",
    "scores = cross_encoder.predict([['Does the insurance cover diabetic patients?', 'The insurance policy covers some pre-existing conditions including diabetes, heart diseases, etc. The policy does not howev'],\n",
    "                                ['Does the insurance cover diabetic patients?', 'The premium rates for various age groups are given as follows. Age group (<18 years): Premium rate']])"
   ]
  },
  {
   "cell_type": "code",
   "execution_count": 126,
   "metadata": {
    "colab": {
     "base_uri": "https://localhost:8080/"
    },
    "executionInfo": {
     "elapsed": 3,
     "status": "ok",
     "timestamp": 1712737760632,
     "user": {
      "displayName": "Henry Isaac",
      "userId": "09127918064436985573"
     },
     "user_tz": -330
    },
    "id": "dEzquk9txOKe",
    "outputId": "e28a5eec-bcbb-43fe-ac5d-7eeff6e5d7f5"
   },
   "outputs": [
    {
     "data": {
      "text/plain": [
       "array([  3.8467648, -11.252877 ], dtype=float32)"
      ]
     },
     "execution_count": 126,
     "metadata": {},
     "output_type": "execute_result"
    }
   ],
   "source": [
    "scores"
   ]
  },
  {
   "cell_type": "code",
   "execution_count": 127,
   "metadata": {
    "id": "2qjpDrAvzWNp"
   },
   "outputs": [],
   "source": [
    "# Input (query, response) pairs for each of the top 20 responses received from the semantic search to the cross encoder\n",
    "# Generate the cross_encoder scores for these pairs\n",
    "\n",
    "cross_inputs = [[query, response] for response in results_df['Documents']]\n",
    "cross_rerank_scores = cross_encoder.predict(cross_inputs)"
   ]
  },
  {
   "cell_type": "code",
   "execution_count": 128,
   "metadata": {
    "colab": {
     "base_uri": "https://localhost:8080/"
    },
    "executionInfo": {
     "elapsed": 408,
     "status": "ok",
     "timestamp": 1712737777413,
     "user": {
      "displayName": "Henry Isaac",
      "userId": "09127918064436985573"
     },
     "user_tz": -330
    },
    "id": "J_sNR0wSzWNp",
    "outputId": "e86e555b-72c0-49d8-b6b4-a5afac363222"
   },
   "outputs": [
    {
     "data": {
      "text/plain": [
       "array([-2.4994187, -5.2232265, -1.0748789,  5.3742886,  1.7628243,\n",
       "       -1.3263037, -3.2011807, -4.9767227,  3.5423384], dtype=float32)"
      ]
     },
     "execution_count": 128,
     "metadata": {},
     "output_type": "execute_result"
    }
   ],
   "source": [
    "cross_rerank_scores"
   ]
  },
  {
   "cell_type": "code",
   "execution_count": 129,
   "metadata": {
    "id": "NJnnPS3FzWNp"
   },
   "outputs": [],
   "source": [
    "# Store the rerank_scores in results_df\n",
    "\n",
    "results_df['Reranked_scores'] = cross_rerank_scores"
   ]
  },
  {
   "cell_type": "code",
   "execution_count": 130,
   "metadata": {
    "colab": {
     "base_uri": "https://localhost:8080/",
     "height": 363
    },
    "executionInfo": {
     "elapsed": 4,
     "status": "ok",
     "timestamp": 1712737781713,
     "user": {
      "displayName": "Henry Isaac",
      "userId": "09127918064436985573"
     },
     "user_tz": -330
    },
    "id": "jcp68fNLzWNp",
    "outputId": "3f8ff715-70cb-4ba7-a7e1-e59312a97578"
   },
   "outputs": [
    {
     "data": {
      "text/html": [
       "<div>\n",
       "<style scoped>\n",
       "    .dataframe tbody tr th:only-of-type {\n",
       "        vertical-align: middle;\n",
       "    }\n",
       "\n",
       "    .dataframe tbody tr th {\n",
       "        vertical-align: top;\n",
       "    }\n",
       "\n",
       "    .dataframe thead th {\n",
       "        text-align: right;\n",
       "    }\n",
       "</style>\n",
       "<table border=\"1\" class=\"dataframe\">\n",
       "  <thead>\n",
       "    <tr style=\"text-align: right;\">\n",
       "      <th></th>\n",
       "      <th>IDs</th>\n",
       "      <th>Documents</th>\n",
       "      <th>Distances</th>\n",
       "      <th>Metadatas</th>\n",
       "      <th>Reranked_scores</th>\n",
       "    </tr>\n",
       "  </thead>\n",
       "  <tbody>\n",
       "    <tr>\n",
       "      <th>0</th>\n",
       "      <td>120</td>\n",
       "      <td>HDFC Life Sanchay Plus (UIN – 101N134V19) – Ap...</td>\n",
       "      <td>0.3714788556098938</td>\n",
       "      <td>{'Policy_Name': 'HDFC-Life-Group-Term-Life-Pol...</td>\n",
       "      <td>-2.499419</td>\n",
       "    </tr>\n",
       "    <tr>\n",
       "      <th>1</th>\n",
       "      <td>133</td>\n",
       "      <td>[[\"21. Progressive\\nScleroderma\", \"22. Muscula...</td>\n",
       "      <td>0.344705194234848</td>\n",
       "      <td>{'Page_No.': 'Page 19', 'Policy_Name': 'HDFC-L...</td>\n",
       "      <td>-5.223227</td>\n",
       "    </tr>\n",
       "    <tr>\n",
       "      <th>2</th>\n",
       "      <td>195</td>\n",
       "      <td>PART C Product Core Benefits BENEFITS PAYABLE ...</td>\n",
       "      <td>0.3698332905769348</td>\n",
       "      <td>{'Policy_Name': 'HDFC-Life-Sanchay-Plus-Life-L...</td>\n",
       "      <td>-1.074879</td>\n",
       "    </tr>\n",
       "    <tr>\n",
       "      <th>3</th>\n",
       "      <td>59</td>\n",
       "      <td>Note: For the purpose of waiting period, Date ...</td>\n",
       "      <td>0.3689667582511902</td>\n",
       "      <td>{'Policy_Name': 'HDFC-Life-Group-Poorna-Suraks...</td>\n",
       "      <td>5.374289</td>\n",
       "    </tr>\n",
       "    <tr>\n",
       "      <th>4</th>\n",
       "      <td>58</td>\n",
       "      <td>PART C PRODUCT CORE BENEFITS BENEFITS PAYABLE ...</td>\n",
       "      <td>0.36598679423332214</td>\n",
       "      <td>{'Policy_Name': 'HDFC-Life-Sampoorna-Jeevan-10...</td>\n",
       "      <td>1.762824</td>\n",
       "    </tr>\n",
       "    <tr>\n",
       "      <th>5</th>\n",
       "      <td>7</td>\n",
       "      <td>HDFC Life Smart Pension Plan 101L164V02 – Term...</td>\n",
       "      <td>0.35692423582077026</td>\n",
       "      <td>{'Policy_Name': 'HDFC-Life-Group-Poorna-Suraks...</td>\n",
       "      <td>-1.326304</td>\n",
       "    </tr>\n",
       "    <tr>\n",
       "      <th>6</th>\n",
       "      <td>66</td>\n",
       "      <td>(i) Death Certificate, in original, issued by ...</td>\n",
       "      <td>0.35701069235801697</td>\n",
       "      <td>{'Page_No.': 'Page 23', 'Policy_Name': 'HDFC-L...</td>\n",
       "      <td>-3.201181</td>\n",
       "    </tr>\n",
       "    <tr>\n",
       "      <th>7</th>\n",
       "      <td>163</td>\n",
       "      <td>HDFC Life Smart Pension Plan 101L164V02 – Term...</td>\n",
       "      <td>0.3648167848587036</td>\n",
       "      <td>{'Page_No.': 'Page 7', 'Policy_Name': 'HDFC-Li...</td>\n",
       "      <td>-4.976723</td>\n",
       "    </tr>\n",
       "    <tr>\n",
       "      <th>8</th>\n",
       "      <td>22</td>\n",
       "      <td>Part C 1. Benefits: (1) Benefits on Death or d...</td>\n",
       "      <td>0.37220728397369385</td>\n",
       "      <td>{'Page_No.': 'Page 8', 'Policy_Name': 'HDFC-Li...</td>\n",
       "      <td>3.542338</td>\n",
       "    </tr>\n",
       "  </tbody>\n",
       "</table>\n",
       "</div>"
      ],
      "text/plain": [
       "   IDs                                          Documents  \\\n",
       "0  120  HDFC Life Sanchay Plus (UIN – 101N134V19) – Ap...   \n",
       "1  133  [[\"21. Progressive\\nScleroderma\", \"22. Muscula...   \n",
       "2  195  PART C Product Core Benefits BENEFITS PAYABLE ...   \n",
       "3   59  Note: For the purpose of waiting period, Date ...   \n",
       "4   58  PART C PRODUCT CORE BENEFITS BENEFITS PAYABLE ...   \n",
       "5    7  HDFC Life Smart Pension Plan 101L164V02 – Term...   \n",
       "6   66  (i) Death Certificate, in original, issued by ...   \n",
       "7  163  HDFC Life Smart Pension Plan 101L164V02 – Term...   \n",
       "8   22  Part C 1. Benefits: (1) Benefits on Death or d...   \n",
       "\n",
       "             Distances                                          Metadatas  \\\n",
       "0   0.3714788556098938  {'Policy_Name': 'HDFC-Life-Group-Term-Life-Pol...   \n",
       "1    0.344705194234848  {'Page_No.': 'Page 19', 'Policy_Name': 'HDFC-L...   \n",
       "2   0.3698332905769348  {'Policy_Name': 'HDFC-Life-Sanchay-Plus-Life-L...   \n",
       "3   0.3689667582511902  {'Policy_Name': 'HDFC-Life-Group-Poorna-Suraks...   \n",
       "4  0.36598679423332214  {'Policy_Name': 'HDFC-Life-Sampoorna-Jeevan-10...   \n",
       "5  0.35692423582077026  {'Policy_Name': 'HDFC-Life-Group-Poorna-Suraks...   \n",
       "6  0.35701069235801697  {'Page_No.': 'Page 23', 'Policy_Name': 'HDFC-L...   \n",
       "7   0.3648167848587036  {'Page_No.': 'Page 7', 'Policy_Name': 'HDFC-Li...   \n",
       "8  0.37220728397369385  {'Page_No.': 'Page 8', 'Policy_Name': 'HDFC-Li...   \n",
       "\n",
       "   Reranked_scores  \n",
       "0        -2.499419  \n",
       "1        -5.223227  \n",
       "2        -1.074879  \n",
       "3         5.374289  \n",
       "4         1.762824  \n",
       "5        -1.326304  \n",
       "6        -3.201181  \n",
       "7        -4.976723  \n",
       "8         3.542338  "
      ]
     },
     "execution_count": 130,
     "metadata": {},
     "output_type": "execute_result"
    }
   ],
   "source": [
    "results_df"
   ]
  },
  {
   "cell_type": "code",
   "execution_count": 131,
   "metadata": {
    "colab": {
     "base_uri": "https://localhost:8080/",
     "height": 143
    },
    "executionInfo": {
     "elapsed": 6,
     "status": "ok",
     "timestamp": 1712737783323,
     "user": {
      "displayName": "Henry Isaac",
      "userId": "09127918064436985573"
     },
     "user_tz": -330
    },
    "id": "1JvPcMRHzWNq",
    "outputId": "62a4d50f-785b-40d9-ade0-7e745bc0356a"
   },
   "outputs": [
    {
     "data": {
      "text/html": [
       "<div>\n",
       "<style scoped>\n",
       "    .dataframe tbody tr th:only-of-type {\n",
       "        vertical-align: middle;\n",
       "    }\n",
       "\n",
       "    .dataframe tbody tr th {\n",
       "        vertical-align: top;\n",
       "    }\n",
       "\n",
       "    .dataframe thead th {\n",
       "        text-align: right;\n",
       "    }\n",
       "</style>\n",
       "<table border=\"1\" class=\"dataframe\">\n",
       "  <thead>\n",
       "    <tr style=\"text-align: right;\">\n",
       "      <th></th>\n",
       "      <th>IDs</th>\n",
       "      <th>Documents</th>\n",
       "      <th>Distances</th>\n",
       "      <th>Metadatas</th>\n",
       "      <th>Reranked_scores</th>\n",
       "    </tr>\n",
       "  </thead>\n",
       "  <tbody>\n",
       "    <tr>\n",
       "      <th>1</th>\n",
       "      <td>133</td>\n",
       "      <td>[[\"21. Progressive\\nScleroderma\", \"22. Muscula...</td>\n",
       "      <td>0.344705194234848</td>\n",
       "      <td>{'Page_No.': 'Page 19', 'Policy_Name': 'HDFC-L...</td>\n",
       "      <td>-5.223227</td>\n",
       "    </tr>\n",
       "    <tr>\n",
       "      <th>5</th>\n",
       "      <td>7</td>\n",
       "      <td>HDFC Life Smart Pension Plan 101L164V02 – Term...</td>\n",
       "      <td>0.35692423582077026</td>\n",
       "      <td>{'Policy_Name': 'HDFC-Life-Group-Poorna-Suraks...</td>\n",
       "      <td>-1.326304</td>\n",
       "    </tr>\n",
       "    <tr>\n",
       "      <th>6</th>\n",
       "      <td>66</td>\n",
       "      <td>(i) Death Certificate, in original, issued by ...</td>\n",
       "      <td>0.35701069235801697</td>\n",
       "      <td>{'Page_No.': 'Page 23', 'Policy_Name': 'HDFC-L...</td>\n",
       "      <td>-3.201181</td>\n",
       "    </tr>\n",
       "  </tbody>\n",
       "</table>\n",
       "</div>"
      ],
      "text/plain": [
       "   IDs                                          Documents  \\\n",
       "1  133  [[\"21. Progressive\\nScleroderma\", \"22. Muscula...   \n",
       "5    7  HDFC Life Smart Pension Plan 101L164V02 – Term...   \n",
       "6   66  (i) Death Certificate, in original, issued by ...   \n",
       "\n",
       "             Distances                                          Metadatas  \\\n",
       "1    0.344705194234848  {'Page_No.': 'Page 19', 'Policy_Name': 'HDFC-L...   \n",
       "5  0.35692423582077026  {'Policy_Name': 'HDFC-Life-Group-Poorna-Suraks...   \n",
       "6  0.35701069235801697  {'Page_No.': 'Page 23', 'Policy_Name': 'HDFC-L...   \n",
       "\n",
       "   Reranked_scores  \n",
       "1        -5.223227  \n",
       "5        -1.326304  \n",
       "6        -3.201181  "
      ]
     },
     "execution_count": 131,
     "metadata": {},
     "output_type": "execute_result"
    }
   ],
   "source": [
    "# Return the top 3 results from semantic search\n",
    "\n",
    "top_3_semantic = results_df.sort_values(by='Distances')\n",
    "top_3_semantic[:3]"
   ]
  },
  {
   "cell_type": "code",
   "execution_count": 132,
   "metadata": {
    "colab": {
     "base_uri": "https://localhost:8080/",
     "height": 143
    },
    "executionInfo": {
     "elapsed": 3,
     "status": "ok",
     "timestamp": 1712737784863,
     "user": {
      "displayName": "Henry Isaac",
      "userId": "09127918064436985573"
     },
     "user_tz": -330
    },
    "id": "vz3Jdm-QzWNq",
    "outputId": "a781dc71-f15b-49f4-f8a0-b405666c9cd8"
   },
   "outputs": [
    {
     "data": {
      "text/html": [
       "<div>\n",
       "<style scoped>\n",
       "    .dataframe tbody tr th:only-of-type {\n",
       "        vertical-align: middle;\n",
       "    }\n",
       "\n",
       "    .dataframe tbody tr th {\n",
       "        vertical-align: top;\n",
       "    }\n",
       "\n",
       "    .dataframe thead th {\n",
       "        text-align: right;\n",
       "    }\n",
       "</style>\n",
       "<table border=\"1\" class=\"dataframe\">\n",
       "  <thead>\n",
       "    <tr style=\"text-align: right;\">\n",
       "      <th></th>\n",
       "      <th>IDs</th>\n",
       "      <th>Documents</th>\n",
       "      <th>Distances</th>\n",
       "      <th>Metadatas</th>\n",
       "      <th>Reranked_scores</th>\n",
       "    </tr>\n",
       "  </thead>\n",
       "  <tbody>\n",
       "    <tr>\n",
       "      <th>3</th>\n",
       "      <td>59</td>\n",
       "      <td>Note: For the purpose of waiting period, Date ...</td>\n",
       "      <td>0.3689667582511902</td>\n",
       "      <td>{'Policy_Name': 'HDFC-Life-Group-Poorna-Suraks...</td>\n",
       "      <td>5.374289</td>\n",
       "    </tr>\n",
       "    <tr>\n",
       "      <th>8</th>\n",
       "      <td>22</td>\n",
       "      <td>Part C 1. Benefits: (1) Benefits on Death or d...</td>\n",
       "      <td>0.37220728397369385</td>\n",
       "      <td>{'Page_No.': 'Page 8', 'Policy_Name': 'HDFC-Li...</td>\n",
       "      <td>3.542338</td>\n",
       "    </tr>\n",
       "    <tr>\n",
       "      <th>4</th>\n",
       "      <td>58</td>\n",
       "      <td>PART C PRODUCT CORE BENEFITS BENEFITS PAYABLE ...</td>\n",
       "      <td>0.36598679423332214</td>\n",
       "      <td>{'Policy_Name': 'HDFC-Life-Sampoorna-Jeevan-10...</td>\n",
       "      <td>1.762824</td>\n",
       "    </tr>\n",
       "  </tbody>\n",
       "</table>\n",
       "</div>"
      ],
      "text/plain": [
       "  IDs                                          Documents            Distances  \\\n",
       "3  59  Note: For the purpose of waiting period, Date ...   0.3689667582511902   \n",
       "8  22  Part C 1. Benefits: (1) Benefits on Death or d...  0.37220728397369385   \n",
       "4  58  PART C PRODUCT CORE BENEFITS BENEFITS PAYABLE ...  0.36598679423332214   \n",
       "\n",
       "                                           Metadatas  Reranked_scores  \n",
       "3  {'Policy_Name': 'HDFC-Life-Group-Poorna-Suraks...         5.374289  \n",
       "8  {'Page_No.': 'Page 8', 'Policy_Name': 'HDFC-Li...         3.542338  \n",
       "4  {'Policy_Name': 'HDFC-Life-Sampoorna-Jeevan-10...         1.762824  "
      ]
     },
     "execution_count": 132,
     "metadata": {},
     "output_type": "execute_result"
    }
   ],
   "source": [
    "# Return the top 3 results after reranking\n",
    "\n",
    "top_3_rerank = results_df.sort_values(by='Reranked_scores', ascending=False)\n",
    "top_3_rerank[:3]"
   ]
  },
  {
   "cell_type": "code",
   "execution_count": 133,
   "metadata": {
    "id": "mnNXBwnr82OS"
   },
   "outputs": [],
   "source": [
    "top_3_RAG = top_3_rerank[[\"Documents\", \"Metadatas\"]][:3]"
   ]
  },
  {
   "cell_type": "code",
   "execution_count": 134,
   "metadata": {
    "colab": {
     "base_uri": "https://localhost:8080/",
     "height": 143
    },
    "executionInfo": {
     "elapsed": 3,
     "status": "ok",
     "timestamp": 1712737787147,
     "user": {
      "displayName": "Henry Isaac",
      "userId": "09127918064436985573"
     },
     "user_tz": -330
    },
    "id": "6tVPdiYO9JkH",
    "outputId": "480035ed-f209-4f2f-fb22-7dd512f2d8b6"
   },
   "outputs": [
    {
     "data": {
      "text/html": [
       "<div>\n",
       "<style scoped>\n",
       "    .dataframe tbody tr th:only-of-type {\n",
       "        vertical-align: middle;\n",
       "    }\n",
       "\n",
       "    .dataframe tbody tr th {\n",
       "        vertical-align: top;\n",
       "    }\n",
       "\n",
       "    .dataframe thead th {\n",
       "        text-align: right;\n",
       "    }\n",
       "</style>\n",
       "<table border=\"1\" class=\"dataframe\">\n",
       "  <thead>\n",
       "    <tr style=\"text-align: right;\">\n",
       "      <th></th>\n",
       "      <th>Documents</th>\n",
       "      <th>Metadatas</th>\n",
       "    </tr>\n",
       "  </thead>\n",
       "  <tbody>\n",
       "    <tr>\n",
       "      <th>3</th>\n",
       "      <td>Note: For the purpose of waiting period, Date ...</td>\n",
       "      <td>{'Policy_Name': 'HDFC-Life-Group-Poorna-Suraks...</td>\n",
       "    </tr>\n",
       "    <tr>\n",
       "      <th>8</th>\n",
       "      <td>Part C 1. Benefits: (1) Benefits on Death or d...</td>\n",
       "      <td>{'Page_No.': 'Page 8', 'Policy_Name': 'HDFC-Li...</td>\n",
       "    </tr>\n",
       "    <tr>\n",
       "      <th>4</th>\n",
       "      <td>PART C PRODUCT CORE BENEFITS BENEFITS PAYABLE ...</td>\n",
       "      <td>{'Policy_Name': 'HDFC-Life-Sampoorna-Jeevan-10...</td>\n",
       "    </tr>\n",
       "  </tbody>\n",
       "</table>\n",
       "</div>"
      ],
      "text/plain": [
       "                                           Documents  \\\n",
       "3  Note: For the purpose of waiting period, Date ...   \n",
       "8  Part C 1. Benefits: (1) Benefits on Death or d...   \n",
       "4  PART C PRODUCT CORE BENEFITS BENEFITS PAYABLE ...   \n",
       "\n",
       "                                           Metadatas  \n",
       "3  {'Policy_Name': 'HDFC-Life-Group-Poorna-Suraks...  \n",
       "8  {'Page_No.': 'Page 8', 'Policy_Name': 'HDFC-Li...  \n",
       "4  {'Policy_Name': 'HDFC-Life-Sampoorna-Jeevan-10...  "
      ]
     },
     "execution_count": 134,
     "metadata": {},
     "output_type": "execute_result"
    }
   ],
   "source": [
    "top_3_RAG"
   ]
  },
  {
   "cell_type": "markdown",
   "metadata": {
    "id": "si6lniu8rfDO"
   },
   "source": [
    "## 6. Retrieval Augmented Generation\n",
    "\n",
    "Now that we have the final top search results, we can pass it to an GPT 3.5 along with the user query and a well-engineered prompt, to generate a direct answer to the query along with citations, rather than returning whole pages/chunks."
   ]
  },
  {
   "cell_type": "code",
   "execution_count": 135,
   "metadata": {
    "id": "kE9G23UnkL8t"
   },
   "outputs": [],
   "source": [
    "# Define the function to generate the response. Provide a comprehensive prompt that passes the user query and the top 3 results to the model\n",
    "\n",
    "def generate_response(query, results_df):\n",
    "    \"\"\"\n",
    "    Generate a response using GPT-3.5's ChatCompletion based on the user query and retrieved information.\n",
    "    \"\"\"\n",
    "    messages = [\n",
    "                {\"role\": \"system\", \"content\":  \"You are a helpful assistant in the insurance domain who can effectively answer user queries about insurance policies and documents.\"},\n",
    "                {\"role\": \"user\", \"content\": f\"\"\"You are a helpful assistant in the insurance domain who can effectively answer user queries about insurance policies and documents.\n",
    "                                                You have a question asked by the user in '{query}' and you have some search results from a corpus of insurance documents in the dataframe '{top_3_RAG}'. These search results are essentially one page of an insurance document that may be relevant to the user query.\n",
    "\n",
    "                                                The column 'documents' inside this dataframe contains the actual text from the policy document and the column 'metadata' contains the policy name and source page. The text inside the document may also contain tables in the format of a list of lists where each of the nested lists indicates a row.\n",
    "\n",
    "                                                Use the documents in '{top_3_RAG}' to answer the query '{query}'. Frame an informative answer and also, use the dataframe to return the relevant policy names and page numbers as citations.\n",
    "\n",
    "                                                Follow the guidelines below when performing the task.\n",
    "                                                1. Try to provide relevant/accurate numbers if available.\n",
    "                                                2. You don’t have to necessarily use all the information in the dataframe. Only choose information that is relevant.\n",
    "                                                3. If the document text has tables with relevant information, please reformat the table and return the final information in a tabular in format.\n",
    "                                                3. Use the Metadatas columns in the dataframe to retrieve and cite the policy name(s) and page numbers(s) as citation.\n",
    "                                                4. If you can't provide the complete answer, please also provide any information that will help the user to search specific sections in the relevant cited documents.\n",
    "                                                5. You are a customer facing assistant, so do not provide any information on internal workings, just answer the query directly.\n",
    "\n",
    "                                                The generated response should answer the query directly addressing the user and avoiding additional information. If you think that the query is not relevant to the document, reply that the query is irrelevant. Provide the final response as a well-formatted and easily readable text along with the citation. Provide your complete response first with all information, and then provide the citations.\n",
    "                                                \"\"\"},\n",
    "              ]\n",
    "\n",
    "    response = openai.chat.completions.create(\n",
    "        model=\"gpt-3.5-turbo\",\n",
    "        messages=messages\n",
    "    )\n",
    "\n",
    "    return response.choices[0].message.content.split('\\n')"
   ]
  },
  {
   "cell_type": "code",
   "execution_count": 136,
   "metadata": {
    "id": "wnRLO3ONmjFZ"
   },
   "outputs": [],
   "source": [
    "# Generate the response\n",
    "\n",
    "response = generate_response(query, top_3_RAG)"
   ]
  },
  {
   "cell_type": "code",
   "execution_count": 137,
   "metadata": {
    "colab": {
     "base_uri": "https://localhost:8080/"
    },
    "executionInfo": {
     "elapsed": 6,
     "status": "ok",
     "timestamp": 1712737798374,
     "user": {
      "displayName": "Henry Isaac",
      "userId": "09127918064436985573"
     },
     "user_tz": -330
    },
    "id": "uN9hMmLymlY-",
    "outputId": "867b4990-b14c-43d9-c94c-5aa66833ef2d"
   },
   "outputs": [
    {
     "name": "stdout",
     "output_type": "stream",
     "text": [
      "In case of accidental death, the benefits from the insurance policy may include payments to the nominee or beneficiary.                                              \n",
      "\n",
      "Here are the policy details related to benefits on accidental death from the insurance documents provided:\n",
      "\n",
      "| Policy Name                           | Page No. |\n",
      "|---------------------------------------|----------|\n",
      "| HDFC-Life-Group-Poorna-Suraksha      |         -|\n",
      "| HDFC-Life-Sampoorna-Jeevan-10        |       8  |\n",
      "\n",
      "For detailed information on the benefits in case of accidental death, please refer to the relevant sections in the cited policy documents.\n"
     ]
    }
   ],
   "source": [
    "# Print the response\n",
    "\n",
    "print(\"\\n\".join(response))"
   ]
  },
  {
   "cell_type": "code",
   "execution_count": null,
   "metadata": {
    "id": "bLc70M407zJx"
   },
   "outputs": [],
   "source": []
  }
 ],
 "metadata": {
  "colab": {
   "provenance": [
    {
     "file_id": "1WX78k9zJvMnm_E8BHJjEN0rNsHJzm4Yq",
     "timestamp": 1712646071258
    },
    {
     "file_id": "14FylZoU8--0-ekSKuRmE0HIezVTTUriA",
     "timestamp": 1694561966138
    }
   ]
  },
  "kernelspec": {
   "display_name": "Python 3",
   "name": "python3"
  },
  "language_info": {
   "codemirror_mode": {
    "name": "ipython",
    "version": 3
   },
   "file_extension": ".py",
   "mimetype": "text/x-python",
   "name": "python",
   "nbconvert_exporter": "python",
   "pygments_lexer": "ipython3",
   "version": "3.12.1"
  },
  "widgets": {
   "application/vnd.jupyter.widget-state+json": {
    "06b7469526954db297c0a9711b4285e4": {
     "model_module": "@jupyter-widgets/controls",
     "model_module_version": "1.5.0",
     "model_name": "DescriptionStyleModel",
     "state": {
      "_model_module": "@jupyter-widgets/controls",
      "_model_module_version": "1.5.0",
      "_model_name": "DescriptionStyleModel",
      "_view_count": null,
      "_view_module": "@jupyter-widgets/base",
      "_view_module_version": "1.2.0",
      "_view_name": "StyleView",
      "description_width": ""
     }
    },
    "09f823e2ce2d49b881c5aee02930bc46": {
     "model_module": "@jupyter-widgets/controls",
     "model_module_version": "1.5.0",
     "model_name": "HTMLModel",
     "state": {
      "_dom_classes": [],
      "_model_module": "@jupyter-widgets/controls",
      "_model_module_version": "1.5.0",
      "_model_name": "HTMLModel",
      "_view_count": null,
      "_view_module": "@jupyter-widgets/controls",
      "_view_module_version": "1.5.0",
      "_view_name": "HTMLView",
      "description": "",
      "description_tooltip": null,
      "layout": "IPY_MODEL_390a9d9981864e6295ed32001b8dcc24",
      "placeholder": "​",
      "style": "IPY_MODEL_404d25d11d0444c8a7b5685b3009ee24",
      "value": "pytorch_model.bin: 100%"
     }
    },
    "12089f522ecd45539950beefd0757e9e": {
     "model_module": "@jupyter-widgets/base",
     "model_module_version": "1.2.0",
     "model_name": "LayoutModel",
     "state": {
      "_model_module": "@jupyter-widgets/base",
      "_model_module_version": "1.2.0",
      "_model_name": "LayoutModel",
      "_view_count": null,
      "_view_module": "@jupyter-widgets/base",
      "_view_module_version": "1.2.0",
      "_view_name": "LayoutView",
      "align_content": null,
      "align_items": null,
      "align_self": null,
      "border": null,
      "bottom": null,
      "display": null,
      "flex": null,
      "flex_flow": null,
      "grid_area": null,
      "grid_auto_columns": null,
      "grid_auto_flow": null,
      "grid_auto_rows": null,
      "grid_column": null,
      "grid_gap": null,
      "grid_row": null,
      "grid_template_areas": null,
      "grid_template_columns": null,
      "grid_template_rows": null,
      "height": null,
      "justify_content": null,
      "justify_items": null,
      "left": null,
      "margin": null,
      "max_height": null,
      "max_width": null,
      "min_height": null,
      "min_width": null,
      "object_fit": null,
      "object_position": null,
      "order": null,
      "overflow": null,
      "overflow_x": null,
      "overflow_y": null,
      "padding": null,
      "right": null,
      "top": null,
      "visibility": null,
      "width": null
     }
    },
    "1256e98c2ae449a1a1df5bccd4fedce5": {
     "model_module": "@jupyter-widgets/base",
     "model_module_version": "1.2.0",
     "model_name": "LayoutModel",
     "state": {
      "_model_module": "@jupyter-widgets/base",
      "_model_module_version": "1.2.0",
      "_model_name": "LayoutModel",
      "_view_count": null,
      "_view_module": "@jupyter-widgets/base",
      "_view_module_version": "1.2.0",
      "_view_name": "LayoutView",
      "align_content": null,
      "align_items": null,
      "align_self": null,
      "border": null,
      "bottom": null,
      "display": null,
      "flex": null,
      "flex_flow": null,
      "grid_area": null,
      "grid_auto_columns": null,
      "grid_auto_flow": null,
      "grid_auto_rows": null,
      "grid_column": null,
      "grid_gap": null,
      "grid_row": null,
      "grid_template_areas": null,
      "grid_template_columns": null,
      "grid_template_rows": null,
      "height": null,
      "justify_content": null,
      "justify_items": null,
      "left": null,
      "margin": null,
      "max_height": null,
      "max_width": null,
      "min_height": null,
      "min_width": null,
      "object_fit": null,
      "object_position": null,
      "order": null,
      "overflow": null,
      "overflow_x": null,
      "overflow_y": null,
      "padding": null,
      "right": null,
      "top": null,
      "visibility": null,
      "width": null
     }
    },
    "13d42891bef74d5dbf6f355361dc267f": {
     "model_module": "@jupyter-widgets/base",
     "model_module_version": "1.2.0",
     "model_name": "LayoutModel",
     "state": {
      "_model_module": "@jupyter-widgets/base",
      "_model_module_version": "1.2.0",
      "_model_name": "LayoutModel",
      "_view_count": null,
      "_view_module": "@jupyter-widgets/base",
      "_view_module_version": "1.2.0",
      "_view_name": "LayoutView",
      "align_content": null,
      "align_items": null,
      "align_self": null,
      "border": null,
      "bottom": null,
      "display": null,
      "flex": null,
      "flex_flow": null,
      "grid_area": null,
      "grid_auto_columns": null,
      "grid_auto_flow": null,
      "grid_auto_rows": null,
      "grid_column": null,
      "grid_gap": null,
      "grid_row": null,
      "grid_template_areas": null,
      "grid_template_columns": null,
      "grid_template_rows": null,
      "height": null,
      "justify_content": null,
      "justify_items": null,
      "left": null,
      "margin": null,
      "max_height": null,
      "max_width": null,
      "min_height": null,
      "min_width": null,
      "object_fit": null,
      "object_position": null,
      "order": null,
      "overflow": null,
      "overflow_x": null,
      "overflow_y": null,
      "padding": null,
      "right": null,
      "top": null,
      "visibility": null,
      "width": null
     }
    },
    "1630d7e490d54ff89450e972c81ee857": {
     "model_module": "@jupyter-widgets/base",
     "model_module_version": "1.2.0",
     "model_name": "LayoutModel",
     "state": {
      "_model_module": "@jupyter-widgets/base",
      "_model_module_version": "1.2.0",
      "_model_name": "LayoutModel",
      "_view_count": null,
      "_view_module": "@jupyter-widgets/base",
      "_view_module_version": "1.2.0",
      "_view_name": "LayoutView",
      "align_content": null,
      "align_items": null,
      "align_self": null,
      "border": null,
      "bottom": null,
      "display": null,
      "flex": null,
      "flex_flow": null,
      "grid_area": null,
      "grid_auto_columns": null,
      "grid_auto_flow": null,
      "grid_auto_rows": null,
      "grid_column": null,
      "grid_gap": null,
      "grid_row": null,
      "grid_template_areas": null,
      "grid_template_columns": null,
      "grid_template_rows": null,
      "height": null,
      "justify_content": null,
      "justify_items": null,
      "left": null,
      "margin": null,
      "max_height": null,
      "max_width": null,
      "min_height": null,
      "min_width": null,
      "object_fit": null,
      "object_position": null,
      "order": null,
      "overflow": null,
      "overflow_x": null,
      "overflow_y": null,
      "padding": null,
      "right": null,
      "top": null,
      "visibility": null,
      "width": null
     }
    },
    "18c41ad7e2bb48af8cfbc4f589387109": {
     "model_module": "@jupyter-widgets/controls",
     "model_module_version": "1.5.0",
     "model_name": "ProgressStyleModel",
     "state": {
      "_model_module": "@jupyter-widgets/controls",
      "_model_module_version": "1.5.0",
      "_model_name": "ProgressStyleModel",
      "_view_count": null,
      "_view_module": "@jupyter-widgets/base",
      "_view_module_version": "1.2.0",
      "_view_name": "StyleView",
      "bar_color": null,
      "description_width": ""
     }
    },
    "1a9e42b397754a2884d256f0494aeb94": {
     "model_module": "@jupyter-widgets/controls",
     "model_module_version": "1.5.0",
     "model_name": "DescriptionStyleModel",
     "state": {
      "_model_module": "@jupyter-widgets/controls",
      "_model_module_version": "1.5.0",
      "_model_name": "DescriptionStyleModel",
      "_view_count": null,
      "_view_module": "@jupyter-widgets/base",
      "_view_module_version": "1.2.0",
      "_view_name": "StyleView",
      "description_width": ""
     }
    },
    "1ae8c6e0c9c74d92b86097efd7a28c66": {
     "model_module": "@jupyter-widgets/controls",
     "model_module_version": "1.5.0",
     "model_name": "ProgressStyleModel",
     "state": {
      "_model_module": "@jupyter-widgets/controls",
      "_model_module_version": "1.5.0",
      "_model_name": "ProgressStyleModel",
      "_view_count": null,
      "_view_module": "@jupyter-widgets/base",
      "_view_module_version": "1.2.0",
      "_view_name": "StyleView",
      "bar_color": null,
      "description_width": ""
     }
    },
    "1d575bbe49f94936ab912f7d475a9424": {
     "model_module": "@jupyter-widgets/controls",
     "model_module_version": "1.5.0",
     "model_name": "DescriptionStyleModel",
     "state": {
      "_model_module": "@jupyter-widgets/controls",
      "_model_module_version": "1.5.0",
      "_model_name": "DescriptionStyleModel",
      "_view_count": null,
      "_view_module": "@jupyter-widgets/base",
      "_view_module_version": "1.2.0",
      "_view_name": "StyleView",
      "description_width": ""
     }
    },
    "2818c0be642a413184354524ceabdd41": {
     "model_module": "@jupyter-widgets/base",
     "model_module_version": "1.2.0",
     "model_name": "LayoutModel",
     "state": {
      "_model_module": "@jupyter-widgets/base",
      "_model_module_version": "1.2.0",
      "_model_name": "LayoutModel",
      "_view_count": null,
      "_view_module": "@jupyter-widgets/base",
      "_view_module_version": "1.2.0",
      "_view_name": "LayoutView",
      "align_content": null,
      "align_items": null,
      "align_self": null,
      "border": null,
      "bottom": null,
      "display": null,
      "flex": null,
      "flex_flow": null,
      "grid_area": null,
      "grid_auto_columns": null,
      "grid_auto_flow": null,
      "grid_auto_rows": null,
      "grid_column": null,
      "grid_gap": null,
      "grid_row": null,
      "grid_template_areas": null,
      "grid_template_columns": null,
      "grid_template_rows": null,
      "height": null,
      "justify_content": null,
      "justify_items": null,
      "left": null,
      "margin": null,
      "max_height": null,
      "max_width": null,
      "min_height": null,
      "min_width": null,
      "object_fit": null,
      "object_position": null,
      "order": null,
      "overflow": null,
      "overflow_x": null,
      "overflow_y": null,
      "padding": null,
      "right": null,
      "top": null,
      "visibility": null,
      "width": null
     }
    },
    "31273c0b0b5840eb97a827bfa3ed3aad": {
     "model_module": "@jupyter-widgets/base",
     "model_module_version": "1.2.0",
     "model_name": "LayoutModel",
     "state": {
      "_model_module": "@jupyter-widgets/base",
      "_model_module_version": "1.2.0",
      "_model_name": "LayoutModel",
      "_view_count": null,
      "_view_module": "@jupyter-widgets/base",
      "_view_module_version": "1.2.0",
      "_view_name": "LayoutView",
      "align_content": null,
      "align_items": null,
      "align_self": null,
      "border": null,
      "bottom": null,
      "display": null,
      "flex": null,
      "flex_flow": null,
      "grid_area": null,
      "grid_auto_columns": null,
      "grid_auto_flow": null,
      "grid_auto_rows": null,
      "grid_column": null,
      "grid_gap": null,
      "grid_row": null,
      "grid_template_areas": null,
      "grid_template_columns": null,
      "grid_template_rows": null,
      "height": null,
      "justify_content": null,
      "justify_items": null,
      "left": null,
      "margin": null,
      "max_height": null,
      "max_width": null,
      "min_height": null,
      "min_width": null,
      "object_fit": null,
      "object_position": null,
      "order": null,
      "overflow": null,
      "overflow_x": null,
      "overflow_y": null,
      "padding": null,
      "right": null,
      "top": null,
      "visibility": null,
      "width": null
     }
    },
    "318bdc4f41f6455aaf27d59edc211a30": {
     "model_module": "@jupyter-widgets/controls",
     "model_module_version": "1.5.0",
     "model_name": "HBoxModel",
     "state": {
      "_dom_classes": [],
      "_model_module": "@jupyter-widgets/controls",
      "_model_module_version": "1.5.0",
      "_model_name": "HBoxModel",
      "_view_count": null,
      "_view_module": "@jupyter-widgets/controls",
      "_view_module_version": "1.5.0",
      "_view_name": "HBoxView",
      "box_style": "",
      "children": [
       "IPY_MODEL_9b4a8516436d43eb8fbe03a341ae78d9",
       "IPY_MODEL_69d45cf427b84e979016cecfbcd23abc",
       "IPY_MODEL_91d0823ab6284767900b352475ea2c2e"
      ],
      "layout": "IPY_MODEL_2818c0be642a413184354524ceabdd41"
     }
    },
    "390a9d9981864e6295ed32001b8dcc24": {
     "model_module": "@jupyter-widgets/base",
     "model_module_version": "1.2.0",
     "model_name": "LayoutModel",
     "state": {
      "_model_module": "@jupyter-widgets/base",
      "_model_module_version": "1.2.0",
      "_model_name": "LayoutModel",
      "_view_count": null,
      "_view_module": "@jupyter-widgets/base",
      "_view_module_version": "1.2.0",
      "_view_name": "LayoutView",
      "align_content": null,
      "align_items": null,
      "align_self": null,
      "border": null,
      "bottom": null,
      "display": null,
      "flex": null,
      "flex_flow": null,
      "grid_area": null,
      "grid_auto_columns": null,
      "grid_auto_flow": null,
      "grid_auto_rows": null,
      "grid_column": null,
      "grid_gap": null,
      "grid_row": null,
      "grid_template_areas": null,
      "grid_template_columns": null,
      "grid_template_rows": null,
      "height": null,
      "justify_content": null,
      "justify_items": null,
      "left": null,
      "margin": null,
      "max_height": null,
      "max_width": null,
      "min_height": null,
      "min_width": null,
      "object_fit": null,
      "object_position": null,
      "order": null,
      "overflow": null,
      "overflow_x": null,
      "overflow_y": null,
      "padding": null,
      "right": null,
      "top": null,
      "visibility": null,
      "width": null
     }
    },
    "404d25d11d0444c8a7b5685b3009ee24": {
     "model_module": "@jupyter-widgets/controls",
     "model_module_version": "1.5.0",
     "model_name": "DescriptionStyleModel",
     "state": {
      "_model_module": "@jupyter-widgets/controls",
      "_model_module_version": "1.5.0",
      "_model_name": "DescriptionStyleModel",
      "_view_count": null,
      "_view_module": "@jupyter-widgets/base",
      "_view_module_version": "1.2.0",
      "_view_name": "StyleView",
      "description_width": ""
     }
    },
    "4443f757b0d342d49bf8e6d5556f1e8d": {
     "model_module": "@jupyter-widgets/controls",
     "model_module_version": "1.5.0",
     "model_name": "DescriptionStyleModel",
     "state": {
      "_model_module": "@jupyter-widgets/controls",
      "_model_module_version": "1.5.0",
      "_model_name": "DescriptionStyleModel",
      "_view_count": null,
      "_view_module": "@jupyter-widgets/base",
      "_view_module_version": "1.2.0",
      "_view_name": "StyleView",
      "description_width": ""
     }
    },
    "4781e622681c4ba8a51950180588fdbf": {
     "model_module": "@jupyter-widgets/controls",
     "model_module_version": "1.5.0",
     "model_name": "HTMLModel",
     "state": {
      "_dom_classes": [],
      "_model_module": "@jupyter-widgets/controls",
      "_model_module_version": "1.5.0",
      "_model_name": "HTMLModel",
      "_view_count": null,
      "_view_module": "@jupyter-widgets/controls",
      "_view_module_version": "1.5.0",
      "_view_name": "HTMLView",
      "description": "",
      "description_tooltip": null,
      "layout": "IPY_MODEL_84dbeed6a4d94beaae717a16a8a632ae",
      "placeholder": "​",
      "style": "IPY_MODEL_1d575bbe49f94936ab912f7d475a9424",
      "value": "special_tokens_map.json: 100%"
     }
    },
    "4793de0caa1545af8d117c10ccc6eb17": {
     "model_module": "@jupyter-widgets/controls",
     "model_module_version": "1.5.0",
     "model_name": "ProgressStyleModel",
     "state": {
      "_model_module": "@jupyter-widgets/controls",
      "_model_module_version": "1.5.0",
      "_model_name": "ProgressStyleModel",
      "_view_count": null,
      "_view_module": "@jupyter-widgets/base",
      "_view_module_version": "1.2.0",
      "_view_name": "StyleView",
      "bar_color": null,
      "description_width": ""
     }
    },
    "49aee00a8a9b4f70942c664b9f2e0e9e": {
     "model_module": "@jupyter-widgets/controls",
     "model_module_version": "1.5.0",
     "model_name": "FloatProgressModel",
     "state": {
      "_dom_classes": [],
      "_model_module": "@jupyter-widgets/controls",
      "_model_module_version": "1.5.0",
      "_model_name": "FloatProgressModel",
      "_view_count": null,
      "_view_module": "@jupyter-widgets/controls",
      "_view_module_version": "1.5.0",
      "_view_name": "ProgressView",
      "bar_style": "success",
      "description": "",
      "description_tooltip": null,
      "layout": "IPY_MODEL_b027d452da9d4ab5bb39afcf6bc4d1ec",
      "max": 90903017,
      "min": 0,
      "orientation": "horizontal",
      "style": "IPY_MODEL_18c41ad7e2bb48af8cfbc4f589387109",
      "value": 90903017
     }
    },
    "4fbf0b4a00fc4a8f9e6db43caf5c826e": {
     "model_module": "@jupyter-widgets/controls",
     "model_module_version": "1.5.0",
     "model_name": "DescriptionStyleModel",
     "state": {
      "_model_module": "@jupyter-widgets/controls",
      "_model_module_version": "1.5.0",
      "_model_name": "DescriptionStyleModel",
      "_view_count": null,
      "_view_module": "@jupyter-widgets/base",
      "_view_module_version": "1.2.0",
      "_view_name": "StyleView",
      "description_width": ""
     }
    },
    "50c4266536624490bbfd7870d4547ab0": {
     "model_module": "@jupyter-widgets/base",
     "model_module_version": "1.2.0",
     "model_name": "LayoutModel",
     "state": {
      "_model_module": "@jupyter-widgets/base",
      "_model_module_version": "1.2.0",
      "_model_name": "LayoutModel",
      "_view_count": null,
      "_view_module": "@jupyter-widgets/base",
      "_view_module_version": "1.2.0",
      "_view_name": "LayoutView",
      "align_content": null,
      "align_items": null,
      "align_self": null,
      "border": null,
      "bottom": null,
      "display": null,
      "flex": null,
      "flex_flow": null,
      "grid_area": null,
      "grid_auto_columns": null,
      "grid_auto_flow": null,
      "grid_auto_rows": null,
      "grid_column": null,
      "grid_gap": null,
      "grid_row": null,
      "grid_template_areas": null,
      "grid_template_columns": null,
      "grid_template_rows": null,
      "height": null,
      "justify_content": null,
      "justify_items": null,
      "left": null,
      "margin": null,
      "max_height": null,
      "max_width": null,
      "min_height": null,
      "min_width": null,
      "object_fit": null,
      "object_position": null,
      "order": null,
      "overflow": null,
      "overflow_x": null,
      "overflow_y": null,
      "padding": null,
      "right": null,
      "top": null,
      "visibility": null,
      "width": null
     }
    },
    "5693c81f874042a1bda60f07fe406cff": {
     "model_module": "@jupyter-widgets/base",
     "model_module_version": "1.2.0",
     "model_name": "LayoutModel",
     "state": {
      "_model_module": "@jupyter-widgets/base",
      "_model_module_version": "1.2.0",
      "_model_name": "LayoutModel",
      "_view_count": null,
      "_view_module": "@jupyter-widgets/base",
      "_view_module_version": "1.2.0",
      "_view_name": "LayoutView",
      "align_content": null,
      "align_items": null,
      "align_self": null,
      "border": null,
      "bottom": null,
      "display": null,
      "flex": null,
      "flex_flow": null,
      "grid_area": null,
      "grid_auto_columns": null,
      "grid_auto_flow": null,
      "grid_auto_rows": null,
      "grid_column": null,
      "grid_gap": null,
      "grid_row": null,
      "grid_template_areas": null,
      "grid_template_columns": null,
      "grid_template_rows": null,
      "height": null,
      "justify_content": null,
      "justify_items": null,
      "left": null,
      "margin": null,
      "max_height": null,
      "max_width": null,
      "min_height": null,
      "min_width": null,
      "object_fit": null,
      "object_position": null,
      "order": null,
      "overflow": null,
      "overflow_x": null,
      "overflow_y": null,
      "padding": null,
      "right": null,
      "top": null,
      "visibility": null,
      "width": null
     }
    },
    "578ca6581f2e4102b2db2e671240298f": {
     "model_module": "@jupyter-widgets/controls",
     "model_module_version": "1.5.0",
     "model_name": "DescriptionStyleModel",
     "state": {
      "_model_module": "@jupyter-widgets/controls",
      "_model_module_version": "1.5.0",
      "_model_name": "DescriptionStyleModel",
      "_view_count": null,
      "_view_module": "@jupyter-widgets/base",
      "_view_module_version": "1.2.0",
      "_view_name": "StyleView",
      "description_width": ""
     }
    },
    "58358f9d10c548a0b2f0dfaf0ed237b6": {
     "model_module": "@jupyter-widgets/base",
     "model_module_version": "1.2.0",
     "model_name": "LayoutModel",
     "state": {
      "_model_module": "@jupyter-widgets/base",
      "_model_module_version": "1.2.0",
      "_model_name": "LayoutModel",
      "_view_count": null,
      "_view_module": "@jupyter-widgets/base",
      "_view_module_version": "1.2.0",
      "_view_name": "LayoutView",
      "align_content": null,
      "align_items": null,
      "align_self": null,
      "border": null,
      "bottom": null,
      "display": null,
      "flex": null,
      "flex_flow": null,
      "grid_area": null,
      "grid_auto_columns": null,
      "grid_auto_flow": null,
      "grid_auto_rows": null,
      "grid_column": null,
      "grid_gap": null,
      "grid_row": null,
      "grid_template_areas": null,
      "grid_template_columns": null,
      "grid_template_rows": null,
      "height": null,
      "justify_content": null,
      "justify_items": null,
      "left": null,
      "margin": null,
      "max_height": null,
      "max_width": null,
      "min_height": null,
      "min_width": null,
      "object_fit": null,
      "object_position": null,
      "order": null,
      "overflow": null,
      "overflow_x": null,
      "overflow_y": null,
      "padding": null,
      "right": null,
      "top": null,
      "visibility": null,
      "width": null
     }
    },
    "5a0a4f1b57f5479da0e1c6e958bf9495": {
     "model_module": "@jupyter-widgets/base",
     "model_module_version": "1.2.0",
     "model_name": "LayoutModel",
     "state": {
      "_model_module": "@jupyter-widgets/base",
      "_model_module_version": "1.2.0",
      "_model_name": "LayoutModel",
      "_view_count": null,
      "_view_module": "@jupyter-widgets/base",
      "_view_module_version": "1.2.0",
      "_view_name": "LayoutView",
      "align_content": null,
      "align_items": null,
      "align_self": null,
      "border": null,
      "bottom": null,
      "display": null,
      "flex": null,
      "flex_flow": null,
      "grid_area": null,
      "grid_auto_columns": null,
      "grid_auto_flow": null,
      "grid_auto_rows": null,
      "grid_column": null,
      "grid_gap": null,
      "grid_row": null,
      "grid_template_areas": null,
      "grid_template_columns": null,
      "grid_template_rows": null,
      "height": null,
      "justify_content": null,
      "justify_items": null,
      "left": null,
      "margin": null,
      "max_height": null,
      "max_width": null,
      "min_height": null,
      "min_width": null,
      "object_fit": null,
      "object_position": null,
      "order": null,
      "overflow": null,
      "overflow_x": null,
      "overflow_y": null,
      "padding": null,
      "right": null,
      "top": null,
      "visibility": null,
      "width": null
     }
    },
    "5b3df234860842a2aae63970f521307d": {
     "model_module": "@jupyter-widgets/base",
     "model_module_version": "1.2.0",
     "model_name": "LayoutModel",
     "state": {
      "_model_module": "@jupyter-widgets/base",
      "_model_module_version": "1.2.0",
      "_model_name": "LayoutModel",
      "_view_count": null,
      "_view_module": "@jupyter-widgets/base",
      "_view_module_version": "1.2.0",
      "_view_name": "LayoutView",
      "align_content": null,
      "align_items": null,
      "align_self": null,
      "border": null,
      "bottom": null,
      "display": null,
      "flex": null,
      "flex_flow": null,
      "grid_area": null,
      "grid_auto_columns": null,
      "grid_auto_flow": null,
      "grid_auto_rows": null,
      "grid_column": null,
      "grid_gap": null,
      "grid_row": null,
      "grid_template_areas": null,
      "grid_template_columns": null,
      "grid_template_rows": null,
      "height": null,
      "justify_content": null,
      "justify_items": null,
      "left": null,
      "margin": null,
      "max_height": null,
      "max_width": null,
      "min_height": null,
      "min_width": null,
      "object_fit": null,
      "object_position": null,
      "order": null,
      "overflow": null,
      "overflow_x": null,
      "overflow_y": null,
      "padding": null,
      "right": null,
      "top": null,
      "visibility": null,
      "width": null
     }
    },
    "5cf8300d09714f76bfb0ad476249b44c": {
     "model_module": "@jupyter-widgets/base",
     "model_module_version": "1.2.0",
     "model_name": "LayoutModel",
     "state": {
      "_model_module": "@jupyter-widgets/base",
      "_model_module_version": "1.2.0",
      "_model_name": "LayoutModel",
      "_view_count": null,
      "_view_module": "@jupyter-widgets/base",
      "_view_module_version": "1.2.0",
      "_view_name": "LayoutView",
      "align_content": null,
      "align_items": null,
      "align_self": null,
      "border": null,
      "bottom": null,
      "display": null,
      "flex": null,
      "flex_flow": null,
      "grid_area": null,
      "grid_auto_columns": null,
      "grid_auto_flow": null,
      "grid_auto_rows": null,
      "grid_column": null,
      "grid_gap": null,
      "grid_row": null,
      "grid_template_areas": null,
      "grid_template_columns": null,
      "grid_template_rows": null,
      "height": null,
      "justify_content": null,
      "justify_items": null,
      "left": null,
      "margin": null,
      "max_height": null,
      "max_width": null,
      "min_height": null,
      "min_width": null,
      "object_fit": null,
      "object_position": null,
      "order": null,
      "overflow": null,
      "overflow_x": null,
      "overflow_y": null,
      "padding": null,
      "right": null,
      "top": null,
      "visibility": null,
      "width": null
     }
    },
    "69d45cf427b84e979016cecfbcd23abc": {
     "model_module": "@jupyter-widgets/controls",
     "model_module_version": "1.5.0",
     "model_name": "FloatProgressModel",
     "state": {
      "_dom_classes": [],
      "_model_module": "@jupyter-widgets/controls",
      "_model_module_version": "1.5.0",
      "_model_name": "FloatProgressModel",
      "_view_count": null,
      "_view_module": "@jupyter-widgets/controls",
      "_view_module_version": "1.5.0",
      "_view_name": "ProgressView",
      "bar_style": "success",
      "description": "",
      "description_tooltip": null,
      "layout": "IPY_MODEL_50c4266536624490bbfd7870d4547ab0",
      "max": 794,
      "min": 0,
      "orientation": "horizontal",
      "style": "IPY_MODEL_6c831d56199e4d49abd357a996668338",
      "value": 794
     }
    },
    "6ac3529d7899486fa93fa4bfed353752": {
     "model_module": "@jupyter-widgets/controls",
     "model_module_version": "1.5.0",
     "model_name": "FloatProgressModel",
     "state": {
      "_dom_classes": [],
      "_model_module": "@jupyter-widgets/controls",
      "_model_module_version": "1.5.0",
      "_model_name": "FloatProgressModel",
      "_view_count": null,
      "_view_module": "@jupyter-widgets/controls",
      "_view_module_version": "1.5.0",
      "_view_name": "ProgressView",
      "bar_style": "success",
      "description": "",
      "description_tooltip": null,
      "layout": "IPY_MODEL_e5b2dd61f80e4e668df19009ee85a19f",
      "max": 112,
      "min": 0,
      "orientation": "horizontal",
      "style": "IPY_MODEL_6c8fb58e6c5743daad70f57a3d3170c4",
      "value": 112
     }
    },
    "6adb70ba9ae84a2ea3ef7ef1bfbf5037": {
     "model_module": "@jupyter-widgets/controls",
     "model_module_version": "1.5.0",
     "model_name": "HTMLModel",
     "state": {
      "_dom_classes": [],
      "_model_module": "@jupyter-widgets/controls",
      "_model_module_version": "1.5.0",
      "_model_name": "HTMLModel",
      "_view_count": null,
      "_view_module": "@jupyter-widgets/controls",
      "_view_module_version": "1.5.0",
      "_view_name": "HTMLView",
      "description": "",
      "description_tooltip": null,
      "layout": "IPY_MODEL_58358f9d10c548a0b2f0dfaf0ed237b6",
      "placeholder": "​",
      "style": "IPY_MODEL_06b7469526954db297c0a9711b4285e4",
      "value": " 232k/232k [00:00&lt;00:00, 2.60MB/s]"
     }
    },
    "6c831d56199e4d49abd357a996668338": {
     "model_module": "@jupyter-widgets/controls",
     "model_module_version": "1.5.0",
     "model_name": "ProgressStyleModel",
     "state": {
      "_model_module": "@jupyter-widgets/controls",
      "_model_module_version": "1.5.0",
      "_model_name": "ProgressStyleModel",
      "_view_count": null,
      "_view_module": "@jupyter-widgets/base",
      "_view_module_version": "1.2.0",
      "_view_name": "StyleView",
      "bar_color": null,
      "description_width": ""
     }
    },
    "6c8fb58e6c5743daad70f57a3d3170c4": {
     "model_module": "@jupyter-widgets/controls",
     "model_module_version": "1.5.0",
     "model_name": "ProgressStyleModel",
     "state": {
      "_model_module": "@jupyter-widgets/controls",
      "_model_module_version": "1.5.0",
      "_model_name": "ProgressStyleModel",
      "_view_count": null,
      "_view_module": "@jupyter-widgets/base",
      "_view_module_version": "1.2.0",
      "_view_name": "StyleView",
      "bar_color": null,
      "description_width": ""
     }
    },
    "6d92cf7e51ea481b8e8b4c13c2036917": {
     "model_module": "@jupyter-widgets/controls",
     "model_module_version": "1.5.0",
     "model_name": "HTMLModel",
     "state": {
      "_dom_classes": [],
      "_model_module": "@jupyter-widgets/controls",
      "_model_module_version": "1.5.0",
      "_model_name": "HTMLModel",
      "_view_count": null,
      "_view_module": "@jupyter-widgets/controls",
      "_view_module_version": "1.5.0",
      "_view_name": "HTMLView",
      "description": "",
      "description_tooltip": null,
      "layout": "IPY_MODEL_1630d7e490d54ff89450e972c81ee857",
      "placeholder": "​",
      "style": "IPY_MODEL_fa08cfcafbd0448fb401ed79d643c7b2",
      "value": " 112/112 [00:00&lt;00:00, 4.88kB/s]"
     }
    },
    "84dbeed6a4d94beaae717a16a8a632ae": {
     "model_module": "@jupyter-widgets/base",
     "model_module_version": "1.2.0",
     "model_name": "LayoutModel",
     "state": {
      "_model_module": "@jupyter-widgets/base",
      "_model_module_version": "1.2.0",
      "_model_name": "LayoutModel",
      "_view_count": null,
      "_view_module": "@jupyter-widgets/base",
      "_view_module_version": "1.2.0",
      "_view_name": "LayoutView",
      "align_content": null,
      "align_items": null,
      "align_self": null,
      "border": null,
      "bottom": null,
      "display": null,
      "flex": null,
      "flex_flow": null,
      "grid_area": null,
      "grid_auto_columns": null,
      "grid_auto_flow": null,
      "grid_auto_rows": null,
      "grid_column": null,
      "grid_gap": null,
      "grid_row": null,
      "grid_template_areas": null,
      "grid_template_columns": null,
      "grid_template_rows": null,
      "height": null,
      "justify_content": null,
      "justify_items": null,
      "left": null,
      "margin": null,
      "max_height": null,
      "max_width": null,
      "min_height": null,
      "min_width": null,
      "object_fit": null,
      "object_position": null,
      "order": null,
      "overflow": null,
      "overflow_x": null,
      "overflow_y": null,
      "padding": null,
      "right": null,
      "top": null,
      "visibility": null,
      "width": null
     }
    },
    "8d870df6c73543d389ef518a51c9a343": {
     "model_module": "@jupyter-widgets/controls",
     "model_module_version": "1.5.0",
     "model_name": "HTMLModel",
     "state": {
      "_dom_classes": [],
      "_model_module": "@jupyter-widgets/controls",
      "_model_module_version": "1.5.0",
      "_model_name": "HTMLModel",
      "_view_count": null,
      "_view_module": "@jupyter-widgets/controls",
      "_view_module_version": "1.5.0",
      "_view_name": "HTMLView",
      "description": "",
      "description_tooltip": null,
      "layout": "IPY_MODEL_12089f522ecd45539950beefd0757e9e",
      "placeholder": "​",
      "style": "IPY_MODEL_4443f757b0d342d49bf8e6d5556f1e8d",
      "value": " 316/316 [00:00&lt;00:00, 14.1kB/s]"
     }
    },
    "90fa58a400f54bd4baa2993eea60e5c9": {
     "model_module": "@jupyter-widgets/controls",
     "model_module_version": "1.5.0",
     "model_name": "FloatProgressModel",
     "state": {
      "_dom_classes": [],
      "_model_module": "@jupyter-widgets/controls",
      "_model_module_version": "1.5.0",
      "_model_name": "FloatProgressModel",
      "_view_count": null,
      "_view_module": "@jupyter-widgets/controls",
      "_view_module_version": "1.5.0",
      "_view_name": "ProgressView",
      "bar_style": "success",
      "description": "",
      "description_tooltip": null,
      "layout": "IPY_MODEL_5b3df234860842a2aae63970f521307d",
      "max": 316,
      "min": 0,
      "orientation": "horizontal",
      "style": "IPY_MODEL_1ae8c6e0c9c74d92b86097efd7a28c66",
      "value": 316
     }
    },
    "9138455a3af040d28cd3b33acd9946e6": {
     "model_module": "@jupyter-widgets/controls",
     "model_module_version": "1.5.0",
     "model_name": "HBoxModel",
     "state": {
      "_dom_classes": [],
      "_model_module": "@jupyter-widgets/controls",
      "_model_module_version": "1.5.0",
      "_model_name": "HBoxModel",
      "_view_count": null,
      "_view_module": "@jupyter-widgets/controls",
      "_view_module_version": "1.5.0",
      "_view_name": "HBoxView",
      "box_style": "",
      "children": [
       "IPY_MODEL_dbf9b6f8d5ac4031b1edbc543aec9002",
       "IPY_MODEL_f04745cebedf44869d749532699e33c8",
       "IPY_MODEL_6adb70ba9ae84a2ea3ef7ef1bfbf5037"
      ],
      "layout": "IPY_MODEL_13d42891bef74d5dbf6f355361dc267f"
     }
    },
    "91d0823ab6284767900b352475ea2c2e": {
     "model_module": "@jupyter-widgets/controls",
     "model_module_version": "1.5.0",
     "model_name": "HTMLModel",
     "state": {
      "_dom_classes": [],
      "_model_module": "@jupyter-widgets/controls",
      "_model_module_version": "1.5.0",
      "_model_name": "HTMLModel",
      "_view_count": null,
      "_view_module": "@jupyter-widgets/controls",
      "_view_module_version": "1.5.0",
      "_view_name": "HTMLView",
      "description": "",
      "description_tooltip": null,
      "layout": "IPY_MODEL_d3f833d4333e4d4b806ada5ed2eafa89",
      "placeholder": "​",
      "style": "IPY_MODEL_1a9e42b397754a2884d256f0494aeb94",
      "value": " 794/794 [00:00&lt;00:00, 29.7kB/s]"
     }
    },
    "93c42e13a07e448aa6a2ce60f0804a18": {
     "model_module": "@jupyter-widgets/base",
     "model_module_version": "1.2.0",
     "model_name": "LayoutModel",
     "state": {
      "_model_module": "@jupyter-widgets/base",
      "_model_module_version": "1.2.0",
      "_model_name": "LayoutModel",
      "_view_count": null,
      "_view_module": "@jupyter-widgets/base",
      "_view_module_version": "1.2.0",
      "_view_name": "LayoutView",
      "align_content": null,
      "align_items": null,
      "align_self": null,
      "border": null,
      "bottom": null,
      "display": null,
      "flex": null,
      "flex_flow": null,
      "grid_area": null,
      "grid_auto_columns": null,
      "grid_auto_flow": null,
      "grid_auto_rows": null,
      "grid_column": null,
      "grid_gap": null,
      "grid_row": null,
      "grid_template_areas": null,
      "grid_template_columns": null,
      "grid_template_rows": null,
      "height": null,
      "justify_content": null,
      "justify_items": null,
      "left": null,
      "margin": null,
      "max_height": null,
      "max_width": null,
      "min_height": null,
      "min_width": null,
      "object_fit": null,
      "object_position": null,
      "order": null,
      "overflow": null,
      "overflow_x": null,
      "overflow_y": null,
      "padding": null,
      "right": null,
      "top": null,
      "visibility": null,
      "width": null
     }
    },
    "9b4a8516436d43eb8fbe03a341ae78d9": {
     "model_module": "@jupyter-widgets/controls",
     "model_module_version": "1.5.0",
     "model_name": "HTMLModel",
     "state": {
      "_dom_classes": [],
      "_model_module": "@jupyter-widgets/controls",
      "_model_module_version": "1.5.0",
      "_model_name": "HTMLModel",
      "_view_count": null,
      "_view_module": "@jupyter-widgets/controls",
      "_view_module_version": "1.5.0",
      "_view_name": "HTMLView",
      "description": "",
      "description_tooltip": null,
      "layout": "IPY_MODEL_5a0a4f1b57f5479da0e1c6e958bf9495",
      "placeholder": "​",
      "style": "IPY_MODEL_ba4c0bbcd90a46b98c958673ad9f267f",
      "value": "config.json: 100%"
     }
    },
    "ae5700d7f228484cb73a595475f0d307": {
     "model_module": "@jupyter-widgets/controls",
     "model_module_version": "1.5.0",
     "model_name": "DescriptionStyleModel",
     "state": {
      "_model_module": "@jupyter-widgets/controls",
      "_model_module_version": "1.5.0",
      "_model_name": "DescriptionStyleModel",
      "_view_count": null,
      "_view_module": "@jupyter-widgets/base",
      "_view_module_version": "1.2.0",
      "_view_name": "StyleView",
      "description_width": ""
     }
    },
    "b027d452da9d4ab5bb39afcf6bc4d1ec": {
     "model_module": "@jupyter-widgets/base",
     "model_module_version": "1.2.0",
     "model_name": "LayoutModel",
     "state": {
      "_model_module": "@jupyter-widgets/base",
      "_model_module_version": "1.2.0",
      "_model_name": "LayoutModel",
      "_view_count": null,
      "_view_module": "@jupyter-widgets/base",
      "_view_module_version": "1.2.0",
      "_view_name": "LayoutView",
      "align_content": null,
      "align_items": null,
      "align_self": null,
      "border": null,
      "bottom": null,
      "display": null,
      "flex": null,
      "flex_flow": null,
      "grid_area": null,
      "grid_auto_columns": null,
      "grid_auto_flow": null,
      "grid_auto_rows": null,
      "grid_column": null,
      "grid_gap": null,
      "grid_row": null,
      "grid_template_areas": null,
      "grid_template_columns": null,
      "grid_template_rows": null,
      "height": null,
      "justify_content": null,
      "justify_items": null,
      "left": null,
      "margin": null,
      "max_height": null,
      "max_width": null,
      "min_height": null,
      "min_width": null,
      "object_fit": null,
      "object_position": null,
      "order": null,
      "overflow": null,
      "overflow_x": null,
      "overflow_y": null,
      "padding": null,
      "right": null,
      "top": null,
      "visibility": null,
      "width": null
     }
    },
    "ba4c0bbcd90a46b98c958673ad9f267f": {
     "model_module": "@jupyter-widgets/controls",
     "model_module_version": "1.5.0",
     "model_name": "DescriptionStyleModel",
     "state": {
      "_model_module": "@jupyter-widgets/controls",
      "_model_module_version": "1.5.0",
      "_model_name": "DescriptionStyleModel",
      "_view_count": null,
      "_view_module": "@jupyter-widgets/base",
      "_view_module_version": "1.2.0",
      "_view_name": "StyleView",
      "description_width": ""
     }
    },
    "cfb80954967c476b8b2cd7212098c26b": {
     "model_module": "@jupyter-widgets/controls",
     "model_module_version": "1.5.0",
     "model_name": "HBoxModel",
     "state": {
      "_dom_classes": [],
      "_model_module": "@jupyter-widgets/controls",
      "_model_module_version": "1.5.0",
      "_model_name": "HBoxModel",
      "_view_count": null,
      "_view_module": "@jupyter-widgets/controls",
      "_view_module_version": "1.5.0",
      "_view_name": "HBoxView",
      "box_style": "",
      "children": [
       "IPY_MODEL_09f823e2ce2d49b881c5aee02930bc46",
       "IPY_MODEL_49aee00a8a9b4f70942c664b9f2e0e9e",
       "IPY_MODEL_d76be070ee6946f7a58bdf846278eaf5"
      ],
      "layout": "IPY_MODEL_d9b3fb5f78a54d80b9231841876b2cab"
     }
    },
    "d3f833d4333e4d4b806ada5ed2eafa89": {
     "model_module": "@jupyter-widgets/base",
     "model_module_version": "1.2.0",
     "model_name": "LayoutModel",
     "state": {
      "_model_module": "@jupyter-widgets/base",
      "_model_module_version": "1.2.0",
      "_model_name": "LayoutModel",
      "_view_count": null,
      "_view_module": "@jupyter-widgets/base",
      "_view_module_version": "1.2.0",
      "_view_name": "LayoutView",
      "align_content": null,
      "align_items": null,
      "align_self": null,
      "border": null,
      "bottom": null,
      "display": null,
      "flex": null,
      "flex_flow": null,
      "grid_area": null,
      "grid_auto_columns": null,
      "grid_auto_flow": null,
      "grid_auto_rows": null,
      "grid_column": null,
      "grid_gap": null,
      "grid_row": null,
      "grid_template_areas": null,
      "grid_template_columns": null,
      "grid_template_rows": null,
      "height": null,
      "justify_content": null,
      "justify_items": null,
      "left": null,
      "margin": null,
      "max_height": null,
      "max_width": null,
      "min_height": null,
      "min_width": null,
      "object_fit": null,
      "object_position": null,
      "order": null,
      "overflow": null,
      "overflow_x": null,
      "overflow_y": null,
      "padding": null,
      "right": null,
      "top": null,
      "visibility": null,
      "width": null
     }
    },
    "d76be070ee6946f7a58bdf846278eaf5": {
     "model_module": "@jupyter-widgets/controls",
     "model_module_version": "1.5.0",
     "model_name": "HTMLModel",
     "state": {
      "_dom_classes": [],
      "_model_module": "@jupyter-widgets/controls",
      "_model_module_version": "1.5.0",
      "_model_name": "HTMLModel",
      "_view_count": null,
      "_view_module": "@jupyter-widgets/controls",
      "_view_module_version": "1.5.0",
      "_view_name": "HTMLView",
      "description": "",
      "description_tooltip": null,
      "layout": "IPY_MODEL_5cf8300d09714f76bfb0ad476249b44c",
      "placeholder": "​",
      "style": "IPY_MODEL_578ca6581f2e4102b2db2e671240298f",
      "value": " 90.9M/90.9M [00:01&lt;00:00, 54.9MB/s]"
     }
    },
    "d9b3fb5f78a54d80b9231841876b2cab": {
     "model_module": "@jupyter-widgets/base",
     "model_module_version": "1.2.0",
     "model_name": "LayoutModel",
     "state": {
      "_model_module": "@jupyter-widgets/base",
      "_model_module_version": "1.2.0",
      "_model_name": "LayoutModel",
      "_view_count": null,
      "_view_module": "@jupyter-widgets/base",
      "_view_module_version": "1.2.0",
      "_view_name": "LayoutView",
      "align_content": null,
      "align_items": null,
      "align_self": null,
      "border": null,
      "bottom": null,
      "display": null,
      "flex": null,
      "flex_flow": null,
      "grid_area": null,
      "grid_auto_columns": null,
      "grid_auto_flow": null,
      "grid_auto_rows": null,
      "grid_column": null,
      "grid_gap": null,
      "grid_row": null,
      "grid_template_areas": null,
      "grid_template_columns": null,
      "grid_template_rows": null,
      "height": null,
      "justify_content": null,
      "justify_items": null,
      "left": null,
      "margin": null,
      "max_height": null,
      "max_width": null,
      "min_height": null,
      "min_width": null,
      "object_fit": null,
      "object_position": null,
      "order": null,
      "overflow": null,
      "overflow_x": null,
      "overflow_y": null,
      "padding": null,
      "right": null,
      "top": null,
      "visibility": null,
      "width": null
     }
    },
    "dbf9b6f8d5ac4031b1edbc543aec9002": {
     "model_module": "@jupyter-widgets/controls",
     "model_module_version": "1.5.0",
     "model_name": "HTMLModel",
     "state": {
      "_dom_classes": [],
      "_model_module": "@jupyter-widgets/controls",
      "_model_module_version": "1.5.0",
      "_model_name": "HTMLModel",
      "_view_count": null,
      "_view_module": "@jupyter-widgets/controls",
      "_view_module_version": "1.5.0",
      "_view_name": "HTMLView",
      "description": "",
      "description_tooltip": null,
      "layout": "IPY_MODEL_31273c0b0b5840eb97a827bfa3ed3aad",
      "placeholder": "​",
      "style": "IPY_MODEL_4fbf0b4a00fc4a8f9e6db43caf5c826e",
      "value": "vocab.txt: 100%"
     }
    },
    "e1812c38c00441ea9e9b0ae20cbd2791": {
     "model_module": "@jupyter-widgets/base",
     "model_module_version": "1.2.0",
     "model_name": "LayoutModel",
     "state": {
      "_model_module": "@jupyter-widgets/base",
      "_model_module_version": "1.2.0",
      "_model_name": "LayoutModel",
      "_view_count": null,
      "_view_module": "@jupyter-widgets/base",
      "_view_module_version": "1.2.0",
      "_view_name": "LayoutView",
      "align_content": null,
      "align_items": null,
      "align_self": null,
      "border": null,
      "bottom": null,
      "display": null,
      "flex": null,
      "flex_flow": null,
      "grid_area": null,
      "grid_auto_columns": null,
      "grid_auto_flow": null,
      "grid_auto_rows": null,
      "grid_column": null,
      "grid_gap": null,
      "grid_row": null,
      "grid_template_areas": null,
      "grid_template_columns": null,
      "grid_template_rows": null,
      "height": null,
      "justify_content": null,
      "justify_items": null,
      "left": null,
      "margin": null,
      "max_height": null,
      "max_width": null,
      "min_height": null,
      "min_width": null,
      "object_fit": null,
      "object_position": null,
      "order": null,
      "overflow": null,
      "overflow_x": null,
      "overflow_y": null,
      "padding": null,
      "right": null,
      "top": null,
      "visibility": null,
      "width": null
     }
    },
    "e5b2dd61f80e4e668df19009ee85a19f": {
     "model_module": "@jupyter-widgets/base",
     "model_module_version": "1.2.0",
     "model_name": "LayoutModel",
     "state": {
      "_model_module": "@jupyter-widgets/base",
      "_model_module_version": "1.2.0",
      "_model_name": "LayoutModel",
      "_view_count": null,
      "_view_module": "@jupyter-widgets/base",
      "_view_module_version": "1.2.0",
      "_view_name": "LayoutView",
      "align_content": null,
      "align_items": null,
      "align_self": null,
      "border": null,
      "bottom": null,
      "display": null,
      "flex": null,
      "flex_flow": null,
      "grid_area": null,
      "grid_auto_columns": null,
      "grid_auto_flow": null,
      "grid_auto_rows": null,
      "grid_column": null,
      "grid_gap": null,
      "grid_row": null,
      "grid_template_areas": null,
      "grid_template_columns": null,
      "grid_template_rows": null,
      "height": null,
      "justify_content": null,
      "justify_items": null,
      "left": null,
      "margin": null,
      "max_height": null,
      "max_width": null,
      "min_height": null,
      "min_width": null,
      "object_fit": null,
      "object_position": null,
      "order": null,
      "overflow": null,
      "overflow_x": null,
      "overflow_y": null,
      "padding": null,
      "right": null,
      "top": null,
      "visibility": null,
      "width": null
     }
    },
    "f04745cebedf44869d749532699e33c8": {
     "model_module": "@jupyter-widgets/controls",
     "model_module_version": "1.5.0",
     "model_name": "FloatProgressModel",
     "state": {
      "_dom_classes": [],
      "_model_module": "@jupyter-widgets/controls",
      "_model_module_version": "1.5.0",
      "_model_name": "FloatProgressModel",
      "_view_count": null,
      "_view_module": "@jupyter-widgets/controls",
      "_view_module_version": "1.5.0",
      "_view_name": "ProgressView",
      "bar_style": "success",
      "description": "",
      "description_tooltip": null,
      "layout": "IPY_MODEL_5693c81f874042a1bda60f07fe406cff",
      "max": 231508,
      "min": 0,
      "orientation": "horizontal",
      "style": "IPY_MODEL_4793de0caa1545af8d117c10ccc6eb17",
      "value": 231508
     }
    },
    "f25c1d03fddd429bb86d26827e4d5257": {
     "model_module": "@jupyter-widgets/controls",
     "model_module_version": "1.5.0",
     "model_name": "HBoxModel",
     "state": {
      "_dom_classes": [],
      "_model_module": "@jupyter-widgets/controls",
      "_model_module_version": "1.5.0",
      "_model_name": "HBoxModel",
      "_view_count": null,
      "_view_module": "@jupyter-widgets/controls",
      "_view_module_version": "1.5.0",
      "_view_name": "HBoxView",
      "box_style": "",
      "children": [
       "IPY_MODEL_4781e622681c4ba8a51950180588fdbf",
       "IPY_MODEL_6ac3529d7899486fa93fa4bfed353752",
       "IPY_MODEL_6d92cf7e51ea481b8e8b4c13c2036917"
      ],
      "layout": "IPY_MODEL_1256e98c2ae449a1a1df5bccd4fedce5"
     }
    },
    "f3018e188fd34adab8acfc221b13e10b": {
     "model_module": "@jupyter-widgets/controls",
     "model_module_version": "1.5.0",
     "model_name": "HBoxModel",
     "state": {
      "_dom_classes": [],
      "_model_module": "@jupyter-widgets/controls",
      "_model_module_version": "1.5.0",
      "_model_name": "HBoxModel",
      "_view_count": null,
      "_view_module": "@jupyter-widgets/controls",
      "_view_module_version": "1.5.0",
      "_view_name": "HBoxView",
      "box_style": "",
      "children": [
       "IPY_MODEL_f77c56f84c864176955ef5c403894dad",
       "IPY_MODEL_90fa58a400f54bd4baa2993eea60e5c9",
       "IPY_MODEL_8d870df6c73543d389ef518a51c9a343"
      ],
      "layout": "IPY_MODEL_93c42e13a07e448aa6a2ce60f0804a18"
     }
    },
    "f77c56f84c864176955ef5c403894dad": {
     "model_module": "@jupyter-widgets/controls",
     "model_module_version": "1.5.0",
     "model_name": "HTMLModel",
     "state": {
      "_dom_classes": [],
      "_model_module": "@jupyter-widgets/controls",
      "_model_module_version": "1.5.0",
      "_model_name": "HTMLModel",
      "_view_count": null,
      "_view_module": "@jupyter-widgets/controls",
      "_view_module_version": "1.5.0",
      "_view_name": "HTMLView",
      "description": "",
      "description_tooltip": null,
      "layout": "IPY_MODEL_e1812c38c00441ea9e9b0ae20cbd2791",
      "placeholder": "​",
      "style": "IPY_MODEL_ae5700d7f228484cb73a595475f0d307",
      "value": "tokenizer_config.json: 100%"
     }
    },
    "fa08cfcafbd0448fb401ed79d643c7b2": {
     "model_module": "@jupyter-widgets/controls",
     "model_module_version": "1.5.0",
     "model_name": "DescriptionStyleModel",
     "state": {
      "_model_module": "@jupyter-widgets/controls",
      "_model_module_version": "1.5.0",
      "_model_name": "DescriptionStyleModel",
      "_view_count": null,
      "_view_module": "@jupyter-widgets/base",
      "_view_module_version": "1.2.0",
      "_view_name": "StyleView",
      "description_width": ""
     }
    }
   }
  }
 },
 "nbformat": 4,
 "nbformat_minor": 0
}
